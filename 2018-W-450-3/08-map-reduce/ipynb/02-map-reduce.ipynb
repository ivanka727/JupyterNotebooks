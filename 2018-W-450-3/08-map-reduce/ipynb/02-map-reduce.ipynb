{
 "cells": [
  {
   "cell_type": "code",
<<<<<<< HEAD
   "execution_count": 1,
   "metadata": {},
=======
   "execution_count": null,
   "metadata": {
    "collapsed": true
   },
>>>>>>> ae712c6dc7513a31cb5a47d30bf349a1f5ddf3f9
   "outputs": [],
   "source": [
    "def tokenize(document):\n",
    "    return (document\n",
    "            .replace(',','')\n",
    "            .replace('.','')\n",
<<<<<<< HEAD
    "            .split()) # split on space"
=======
    "            .split())"
>>>>>>> ae712c6dc7513a31cb5a47d30bf349a1f5ddf3f9
   ]
  },
  {
   "cell_type": "code",
<<<<<<< HEAD
   "execution_count": 2,
   "metadata": {},
=======
   "execution_count": null,
   "metadata": {
    "collapsed": true
   },
>>>>>>> ae712c6dc7513a31cb5a47d30bf349a1f5ddf3f9
   "outputs": [],
   "source": [
    "documents = [\n",
    "    \"This paper presents a kernel-based principal component analysis, kernel PCA, to extract critical features for improving the performance of a stock trading model. \",\n",
    "    \"The feature extraction method is one of the techniques to solve dimensionality reduction problems.\",\n",
    "    \"The kernel PCA is a feature extraction approach which has been applied to data transformation from known variables to capture critical information.\",\n",
    "    \"The kernel PCA is a kernel-based data map- ping tool that has characteristics of both principal component analysis and non-linear mapping.\",\n",
    "    \"The feature selection method is another DRP technique that selects only a small set of features from known variables, but these features still indicate possible collinearity problems that fail to reflect clear information.\",\n",
    "    \"However, most feature extraction methods use a variable mapping application to eliminate noisy and collinear variables. In this research, we use the kernel-PCA method in a stock trading model to transform stock technical indices which allows features of smaller dimension to be formed.\",\n",
    "    \"The kernel-PCA method has been applied to various stocks and sliding window testing methods using both half-year and 1-year testing strategies. The experimental results show that the proposed method generates more profits than other DRP methods on the America stock market.\",\n",
    "    \"This stock trading model is very practical for real-world application, and it can be implemented in a real-time environment.\"\n",
    "]"
   ]
  },
  {
   "cell_type": "code",
<<<<<<< HEAD
   "execution_count": 3,
   "metadata": {},
=======
   "execution_count": null,
   "metadata": {
    "collapsed": true
   },
>>>>>>> ae712c6dc7513a31cb5a47d30bf349a1f5ddf3f9
   "outputs": [],
   "source": [
    "tokenized_documents = [tokenize(document) for document in documents]"
   ]
  },
  {
   "cell_type": "code",
<<<<<<< HEAD
   "execution_count": 18,
   "metadata": {},
   "outputs": [
    {
     "data": {
      "text/plain": [
       "['This', 'paper', 'presents', 'a', 'kernel-based']"
      ]
     },
     "execution_count": 18,
     "metadata": {},
     "output_type": "execute_result"
    }
   ],
=======
   "execution_count": null,
   "metadata": {
    "collapsed": true
   },
   "outputs": [],
>>>>>>> ae712c6dc7513a31cb5a47d30bf349a1f5ddf3f9
   "source": [
    "tokenized_documents[0][:5]"
   ]
  },
  {
   "cell_type": "code",
<<<<<<< HEAD
   "execution_count": 19,
   "metadata": {},
   "outputs": [
    {
     "data": {
      "text/plain": [
       "[['This',\n",
       "  'paper',\n",
       "  'presents',\n",
       "  'a',\n",
       "  'kernel-based',\n",
       "  'principal',\n",
       "  'component',\n",
       "  'analysis',\n",
       "  'kernel',\n",
       "  'PCA',\n",
       "  'to',\n",
       "  'extract',\n",
       "  'critical',\n",
       "  'features',\n",
       "  'for',\n",
       "  'improving',\n",
       "  'the',\n",
       "  'performance',\n",
       "  'of',\n",
       "  'a',\n",
       "  'stock',\n",
       "  'trading',\n",
       "  'model'],\n",
       " ['The',\n",
       "  'feature',\n",
       "  'extraction',\n",
       "  'method',\n",
       "  'is',\n",
       "  'one',\n",
       "  'of',\n",
       "  'the',\n",
       "  'techniques',\n",
       "  'to',\n",
       "  'solve',\n",
       "  'dimensionality',\n",
       "  'reduction',\n",
       "  'problems'],\n",
       " ['The',\n",
       "  'kernel',\n",
       "  'PCA',\n",
       "  'is',\n",
       "  'a',\n",
       "  'feature',\n",
       "  'extraction',\n",
       "  'approach',\n",
       "  'which',\n",
       "  'has',\n",
       "  'been',\n",
       "  'applied',\n",
       "  'to',\n",
       "  'data',\n",
       "  'transformation',\n",
       "  'from',\n",
       "  'known',\n",
       "  'variables',\n",
       "  'to',\n",
       "  'capture',\n",
       "  'critical',\n",
       "  'information'],\n",
       " ['The',\n",
       "  'kernel',\n",
       "  'PCA',\n",
       "  'is',\n",
       "  'a',\n",
       "  'kernel-based',\n",
       "  'data',\n",
       "  'map-',\n",
       "  'ping',\n",
       "  'tool',\n",
       "  'that',\n",
       "  'has',\n",
       "  'characteristics',\n",
       "  'of',\n",
       "  'both',\n",
       "  'principal',\n",
       "  'component',\n",
       "  'analysis',\n",
       "  'and',\n",
       "  'non-linear',\n",
       "  'mapping'],\n",
       " ['The',\n",
       "  'feature',\n",
       "  'selection',\n",
       "  'method',\n",
       "  'is',\n",
       "  'another',\n",
       "  'DRP',\n",
       "  'technique',\n",
       "  'that',\n",
       "  'selects',\n",
       "  'only',\n",
       "  'a',\n",
       "  'small',\n",
       "  'set',\n",
       "  'of',\n",
       "  'features',\n",
       "  'from',\n",
       "  'known',\n",
       "  'variables',\n",
       "  'but',\n",
       "  'these',\n",
       "  'features',\n",
       "  'still',\n",
       "  'indicate',\n",
       "  'possible',\n",
       "  'collinearity',\n",
       "  'problems',\n",
       "  'that',\n",
       "  'fail',\n",
       "  'to',\n",
       "  'reflect',\n",
       "  'clear',\n",
       "  'information'],\n",
       " ['However',\n",
       "  'most',\n",
       "  'feature',\n",
       "  'extraction',\n",
       "  'methods',\n",
       "  'use',\n",
       "  'a',\n",
       "  'variable',\n",
       "  'mapping',\n",
       "  'application',\n",
       "  'to',\n",
       "  'eliminate',\n",
       "  'noisy',\n",
       "  'and',\n",
       "  'collinear',\n",
       "  'variables',\n",
       "  'In',\n",
       "  'this',\n",
       "  'research',\n",
       "  'we',\n",
       "  'use',\n",
       "  'the',\n",
       "  'kernel-PCA',\n",
       "  'method',\n",
       "  'in',\n",
       "  'a',\n",
       "  'stock',\n",
       "  'trading',\n",
       "  'model',\n",
       "  'to',\n",
       "  'transform',\n",
       "  'stock',\n",
       "  'technical',\n",
       "  'indices',\n",
       "  'which',\n",
       "  'allows',\n",
       "  'features',\n",
       "  'of',\n",
       "  'smaller',\n",
       "  'dimension',\n",
       "  'to',\n",
       "  'be',\n",
       "  'formed'],\n",
       " ['The',\n",
       "  'kernel-PCA',\n",
       "  'method',\n",
       "  'has',\n",
       "  'been',\n",
       "  'applied',\n",
       "  'to',\n",
       "  'various',\n",
       "  'stocks',\n",
       "  'and',\n",
       "  'sliding',\n",
       "  'window',\n",
       "  'testing',\n",
       "  'methods',\n",
       "  'using',\n",
       "  'both',\n",
       "  'half-year',\n",
       "  'and',\n",
       "  '1-year',\n",
       "  'testing',\n",
       "  'strategies',\n",
       "  'The',\n",
       "  'experimental',\n",
       "  'results',\n",
       "  'show',\n",
       "  'that',\n",
       "  'the',\n",
       "  'proposed',\n",
       "  'method',\n",
       "  'generates',\n",
       "  'more',\n",
       "  'profits',\n",
       "  'than',\n",
       "  'other',\n",
       "  'DRP',\n",
       "  'methods',\n",
       "  'on',\n",
       "  'the',\n",
       "  'America',\n",
       "  'stock',\n",
       "  'market'],\n",
       " ['This',\n",
       "  'stock',\n",
       "  'trading',\n",
       "  'model',\n",
       "  'is',\n",
       "  'very',\n",
       "  'practical',\n",
       "  'for',\n",
       "  'real-world',\n",
       "  'application',\n",
       "  'and',\n",
       "  'it',\n",
       "  'can',\n",
       "  'be',\n",
       "  'implemented',\n",
       "  'in',\n",
       "  'a',\n",
       "  'real-time',\n",
       "  'environment']]"
      ]
     },
     "execution_count": 19,
     "metadata": {},
     "output_type": "execute_result"
    }
   ],
   "source": [
    "tokenized_documents"
   ]
  },
  {
   "cell_type": "code",
   "execution_count": 5,
   "metadata": {},
   "outputs": [],
   "source": [
    "def wc_mapper(document): # wc = word count\n",
=======
   "execution_count": null,
   "metadata": {
    "collapsed": true
   },
   "outputs": [],
   "source": [
    "def wc_mapper(document):\n",
>>>>>>> ae712c6dc7513a31cb5a47d30bf349a1f5ddf3f9
    "    for word in tokenize(document):\n",
    "        yield (word, 1)"
   ]
  },
  {
   "cell_type": "code",
<<<<<<< HEAD
   "execution_count": 6,
   "metadata": {},
=======
   "execution_count": null,
   "metadata": {
    "collapsed": true
   },
>>>>>>> ae712c6dc7513a31cb5a47d30bf349a1f5ddf3f9
   "outputs": [],
   "source": [
    "def wc_reducer(word, counts):\n",
    "    yield (word, sum(counts))"
   ]
  },
  {
   "cell_type": "code",
<<<<<<< HEAD
   "execution_count": 48,
   "metadata": {},
   "outputs": [],
   "source": [
    "from collections import defaultdict\n",
    "def word_count(documents):\n",
    "    \n",
    "    collector = defaultdict(list)\n",
=======
   "execution_count": null,
   "metadata": {
    "collapsed": true
   },
   "outputs": [],
   "source": [
    "def word_count(documents):\n",
    "    \n",
    "    collector = default(dict(list))\n",
>>>>>>> ae712c6dc7513a31cb5a47d30bf349a1f5ddf3f9
    "    \n",
    "    for document in documents:\n",
    "        for word, count in wc_mapper(document):\n",
    "            collector[word].append(count)\n",
<<<<<<< HEAD
    "    # return collector        \n",
    "    return [output for word, counts in collector.items()\n",
    "            for output in wc_reducer(word, counts)]"
=======
    "            \n",
    "    return [output for word, counts in collector.iteritems()\n",
    "            for output in wc_reduce(word, counts)]"
>>>>>>> ae712c6dc7513a31cb5a47d30bf349a1f5ddf3f9
   ]
  },
  {
   "cell_type": "code",
<<<<<<< HEAD
   "execution_count": 49,
   "metadata": {},
=======
   "execution_count": null,
   "metadata": {
    "collapsed": true
   },
>>>>>>> ae712c6dc7513a31cb5a47d30bf349a1f5ddf3f9
   "outputs": [],
   "source": [
    "documents_test = [\"data science\", \"big data\", \"science fiction\"]\n"
   ]
  },
  {
   "cell_type": "code",
<<<<<<< HEAD
   "execution_count": 52,
   "metadata": {},
   "outputs": [
    {
     "data": {
      "text/plain": [
       "[('data', 2), ('science', 2), ('big', 1), ('fiction', 1)]"
      ]
     },
     "execution_count": 52,
     "metadata": {},
     "output_type": "execute_result"
    }
   ],
   "source": [
    "word_count(documents_test)"
   ]
  },
  {
   "cell_type": "code",
   "execution_count": 51,
   "metadata": {},
   "outputs": [
    {
     "ename": "AttributeError",
     "evalue": "'list' object has no attribute 'items'",
     "output_type": "error",
     "traceback": [
      "\u001b[0;31m---------------------------------------------------------------------------\u001b[0m",
      "\u001b[0;31mAttributeError\u001b[0m                            Traceback (most recent call last)",
      "\u001b[0;32m<ipython-input-51-ee27aafb6462>\u001b[0m in \u001b[0;36m<module>\u001b[0;34m()\u001b[0m\n\u001b[0;32m----> 1\u001b[0;31m \u001b[0mword_count\u001b[0m\u001b[0;34m(\u001b[0m\u001b[0mdocuments_test\u001b[0m\u001b[0;34m)\u001b[0m\u001b[0;34m.\u001b[0m\u001b[0mitems\u001b[0m\u001b[0;34m(\u001b[0m\u001b[0;34m)\u001b[0m\u001b[0;34m\u001b[0m\u001b[0m\n\u001b[0m",
      "\u001b[0;31mAttributeError\u001b[0m: 'list' object has no attribute 'items'"
     ]
    }
   ],
   "source": [
    "word_count(documents_test).items() # run \"retrun collector\", it would work"
   ]
  },
  {
   "cell_type": "code",
   "execution_count": 53,
   "metadata": {},
=======
   "execution_count": null,
   "metadata": {
    "collapsed": true
   },
>>>>>>> ae712c6dc7513a31cb5a47d30bf349a1f5ddf3f9
   "outputs": [],
   "source": [
    "map_0 = wc_mapper(documents_test[0])"
   ]
  },
  {
   "cell_type": "code",
<<<<<<< HEAD
   "execution_count": 54,
   "metadata": {},
   "outputs": [
    {
     "data": {
      "text/plain": [
       "('data', 1)"
      ]
     },
     "execution_count": 54,
     "metadata": {},
     "output_type": "execute_result"
    }
   ],
   "source": [
    "next(map_0)"
   ]
  },
  {
   "cell_type": "code",
   "execution_count": 55,
   "metadata": {},
   "outputs": [
    {
     "data": {
      "text/plain": [
       "('science', 1)"
      ]
     },
     "execution_count": 55,
     "metadata": {},
     "output_type": "execute_result"
    }
   ],
   "source": [
    "next(map_0)"
   ]
  },
  {
   "cell_type": "code",
   "execution_count": 60,
   "metadata": {},
   "outputs": [],
   "source": [
    "def my_list():\n",
    "    return [1,2,3]\n",
    "\n",
    "def my_lazy_list():\n",
    "    for i in [1,2,3]:\n",
    "        yield i"
=======
   "execution_count": null,
   "metadata": {
    "collapsed": true
   },
   "outputs": [],
   "source": [
    "next(map_0)"
>>>>>>> ae712c6dc7513a31cb5a47d30bf349a1f5ddf3f9
   ]
  },
  {
   "cell_type": "code",
<<<<<<< HEAD
   "execution_count": 62,
   "metadata": {},
   "outputs": [],
   "source": [
    "l = my_list()\n",
    "ll = my_lazy_list()"
   ]
  },
  {
   "cell_type": "code",
   "execution_count": 63,
   "metadata": {},
   "outputs": [
    {
     "data": {
      "text/plain": [
       "1"
      ]
     },
     "execution_count": 63,
     "metadata": {},
     "output_type": "execute_result"
    }
   ],
   "source": [
    "next(ll)"
=======
   "execution_count": null,
   "metadata": {
    "collapsed": true
   },
   "outputs": [],
   "source": [
    "next(map_0)"
>>>>>>> ae712c6dc7513a31cb5a47d30bf349a1f5ddf3f9
   ]
  },
  {
   "cell_type": "code",
<<<<<<< HEAD
   "execution_count": 12,
   "metadata": {},
=======
   "execution_count": null,
   "metadata": {
    "collapsed": true
   },
>>>>>>> ae712c6dc7513a31cb5a47d30bf349a1f5ddf3f9
   "outputs": [],
   "source": [
    "from collections import defaultdict"
   ]
  },
  {
   "cell_type": "code",
<<<<<<< HEAD
   "execution_count": 13,
   "metadata": {},
=======
   "execution_count": null,
   "metadata": {
    "collapsed": true
   },
>>>>>>> ae712c6dc7513a31cb5a47d30bf349a1f5ddf3f9
   "outputs": [],
   "source": [
    "collector = defaultdict(list)\n",
    "for document in documents_test:\n",
    "    for word, count in wc_mapper(document):\n",
    "        collector[word].append(count)"
   ]
  },
  {
   "cell_type": "code",
<<<<<<< HEAD
   "execution_count": 14,
   "metadata": {},
   "outputs": [
    {
     "data": {
      "text/plain": [
       "defaultdict(list,\n",
       "            {'big': [1], 'data': [1, 1], 'fiction': [1], 'science': [1, 1]})"
      ]
     },
     "execution_count": 14,
     "metadata": {},
     "output_type": "execute_result"
    }
   ],
=======
   "execution_count": null,
   "metadata": {
    "collapsed": true
   },
   "outputs": [],
>>>>>>> ae712c6dc7513a31cb5a47d30bf349a1f5ddf3f9
   "source": [
    "collector"
   ]
  },
  {
   "cell_type": "code",
<<<<<<< HEAD
   "execution_count": 15,
   "metadata": {},
   "outputs": [
    {
     "data": {
      "text/plain": [
       "[('data', 2), ('science', 2), ('big', 1), ('fiction', 1)]"
      ]
     },
     "execution_count": 15,
     "metadata": {},
     "output_type": "execute_result"
    }
   ],
=======
   "execution_count": null,
   "metadata": {
    "collapsed": true
   },
   "outputs": [],
>>>>>>> ae712c6dc7513a31cb5a47d30bf349a1f5ddf3f9
   "source": [
    "[output for word, counts in collector.items()\n",
    "            for output in wc_reducer(word, counts)]"
   ]
  },
  {
   "cell_type": "code",
<<<<<<< HEAD
   "execution_count": 16,
   "metadata": {},
=======
   "execution_count": null,
   "metadata": {
    "collapsed": true
   },
>>>>>>> ae712c6dc7513a31cb5a47d30bf349a1f5ddf3f9
   "outputs": [],
   "source": [
    "def map_reduce(inputs, mapper, reducer):\n",
    "    collector = defaultdict(list)\n",
    "    \n",
    "    # can be rewritten as a parfor\n",
    "    for input in inputs:\n",
    "        for key, value in mapper(input):\n",
    "            collector[key].append(value)\n",
    "    \n",
    "    # can be rewritten as a parfor\n",
    "    return [output\n",
    "            for key, values in collector.items()\n",
    "            for output in reducer(key, values)]"
   ]
  },
  {
   "cell_type": "code",
<<<<<<< HEAD
   "execution_count": 17,
   "metadata": {},
   "outputs": [
    {
     "data": {
      "text/plain": [
       "[('This', 2),\n",
       " ('paper', 1),\n",
       " ('presents', 1),\n",
       " ('a', 8),\n",
       " ('kernel-based', 2),\n",
       " ('principal', 2),\n",
       " ('component', 2),\n",
       " ('analysis', 2),\n",
       " ('kernel', 3),\n",
       " ('PCA', 3),\n",
       " ('to', 9),\n",
       " ('extract', 1),\n",
       " ('critical', 2),\n",
       " ('features', 4),\n",
       " ('for', 2),\n",
       " ('improving', 1),\n",
       " ('the', 5),\n",
       " ('performance', 1),\n",
       " ('of', 5),\n",
       " ('stock', 5),\n",
       " ('trading', 3),\n",
       " ('model', 3),\n",
       " ('The', 6),\n",
       " ('feature', 4),\n",
       " ('extraction', 3),\n",
       " ('method', 5),\n",
       " ('is', 5),\n",
       " ('one', 1),\n",
       " ('techniques', 1),\n",
       " ('solve', 1),\n",
       " ('dimensionality', 1),\n",
       " ('reduction', 1),\n",
       " ('problems', 2),\n",
       " ('approach', 1),\n",
       " ('which', 2),\n",
       " ('has', 3),\n",
       " ('been', 2),\n",
       " ('applied', 2),\n",
       " ('data', 2),\n",
       " ('transformation', 1),\n",
       " ('from', 2),\n",
       " ('known', 2),\n",
       " ('variables', 3),\n",
       " ('capture', 1),\n",
       " ('information', 2),\n",
       " ('map-', 1),\n",
       " ('ping', 1),\n",
       " ('tool', 1),\n",
       " ('that', 4),\n",
       " ('characteristics', 1),\n",
       " ('both', 2),\n",
       " ('and', 5),\n",
       " ('non-linear', 1),\n",
       " ('mapping', 2),\n",
       " ('selection', 1),\n",
       " ('another', 1),\n",
       " ('DRP', 2),\n",
       " ('technique', 1),\n",
       " ('selects', 1),\n",
       " ('only', 1),\n",
       " ('small', 1),\n",
       " ('set', 1),\n",
       " ('but', 1),\n",
       " ('these', 1),\n",
       " ('still', 1),\n",
       " ('indicate', 1),\n",
       " ('possible', 1),\n",
       " ('collinearity', 1),\n",
       " ('fail', 1),\n",
       " ('reflect', 1),\n",
       " ('clear', 1),\n",
       " ('However', 1),\n",
       " ('most', 1),\n",
       " ('methods', 3),\n",
       " ('use', 2),\n",
       " ('variable', 1),\n",
       " ('application', 2),\n",
       " ('eliminate', 1),\n",
       " ('noisy', 1),\n",
       " ('collinear', 1),\n",
       " ('In', 1),\n",
       " ('this', 1),\n",
       " ('research', 1),\n",
       " ('we', 1),\n",
       " ('kernel-PCA', 2),\n",
       " ('in', 2),\n",
       " ('transform', 1),\n",
       " ('technical', 1),\n",
       " ('indices', 1),\n",
       " ('allows', 1),\n",
       " ('smaller', 1),\n",
       " ('dimension', 1),\n",
       " ('be', 2),\n",
       " ('formed', 1),\n",
       " ('various', 1),\n",
       " ('stocks', 1),\n",
       " ('sliding', 1),\n",
       " ('window', 1),\n",
       " ('testing', 2),\n",
       " ('using', 1),\n",
       " ('half-year', 1),\n",
       " ('1-year', 1),\n",
       " ('strategies', 1),\n",
       " ('experimental', 1),\n",
       " ('results', 1),\n",
       " ('show', 1),\n",
       " ('proposed', 1),\n",
       " ('generates', 1),\n",
       " ('more', 1),\n",
       " ('profits', 1),\n",
       " ('than', 1),\n",
       " ('other', 1),\n",
       " ('on', 1),\n",
       " ('America', 1),\n",
       " ('market', 1),\n",
       " ('very', 1),\n",
       " ('practical', 1),\n",
       " ('real-world', 1),\n",
       " ('it', 1),\n",
       " ('can', 1),\n",
       " ('implemented', 1),\n",
       " ('real-time', 1),\n",
       " ('environment', 1)]"
      ]
     },
     "execution_count": 17,
     "metadata": {},
     "output_type": "execute_result"
    }
   ],
=======
   "execution_count": null,
   "metadata": {
    "collapsed": true
   },
   "outputs": [],
>>>>>>> ae712c6dc7513a31cb5a47d30bf349a1f5ddf3f9
   "source": [
    "map_reduce(documents, wc_mapper, wc_reducer)"
   ]
  }
 ],
 "metadata": {
  "kernelspec": {
   "display_name": "Python 3",
   "language": "python",
   "name": "python3"
  },
  "language_info": {
   "codemirror_mode": {
    "name": "ipython",
    "version": 3
   },
   "file_extension": ".py",
   "mimetype": "text/x-python",
   "name": "python",
   "nbconvert_exporter": "python",
   "pygments_lexer": "ipython3",
   "version": "3.6.3"
  }
 },
 "nbformat": 4,
 "nbformat_minor": 2
}
