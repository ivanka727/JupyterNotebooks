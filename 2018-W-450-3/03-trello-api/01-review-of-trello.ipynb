{
 "cells": [
  {
   "cell_type": "code",
   "execution_count": 1,
   "metadata": {},
   "outputs": [],
   "source": [
    "from lib.trello import Trello"
   ]
  },
  {
   "cell_type": "code",
   "execution_count": 2,
   "metadata": {},
   "outputs": [],
   "source": [
    "t = Trello()"
   ]
  },
  {
   "cell_type": "code",
   "execution_count": 10,
   "metadata": {},
   "outputs": [],
   "source": [
    "open_lists = [(list['name'], list['id']) for  list in t.getLists()]\n",
    "closed_lists = [(list['name'], list['id']) for  list in t.getLists(closed=True)]"
   ]
  },
  {
   "cell_type": "code",
   "execution_count": 9,
   "metadata": {},
   "outputs": [
    {
     "name": "stdout",
     "output_type": "stream",
     "text": [
      "Worked Well - 450-1 ['Great teamwork', 'Videos are good', 'Class lecture and videos informative']\n",
      "Needs Improvement - 450-1 []\n",
      "Discussed []\n",
      "How could the code be refactored or improved? []\n",
      "Done ['Trello Board of Topics that need a short lecture']\n"
     ]
    }
   ],
   "source": [
    "for list in closed_lists:\n",
    "    print(list[0], [card['name'] for card in t.getCards(list[1], closed=True)])"
   ]
  },
  {
   "cell_type": "code",
   "execution_count": 11,
   "metadata": {},
   "outputs": [
    {
     "name": "stdout",
     "output_type": "stream",
     "text": [
      "What best/worst practices did you see in the code? How could the code be refactored or improved? ['did data cleaning first (1.1 through 1.4)', 'Bad practice: assigning row names using PassengerID without verifying they are completely unique. BUT Good practice: assigning row names with unique PassengerID', 'Unclear names e.g. variables, etc ( since professor does not like comments as a practice). This would make it easier to answer our assignment ;-)', 'attach(titanic) near the beginning', 'No comments in the code.. it would have been easy to answer our questions', 'Good practice: assigning categorical variables as factors', 'best hist & truehist', 'using a pairs library that actually shows something when dealing with 0s and 1s', 'Bad practice: removing $Ticket and $Cabin without explicit reasoning (i.e. plots or values describing why they can be assigned NULL)', 'Like the use of attach', 'library & install can be added at top of code (initial line)']\n",
      "What are some actionable insights we can take away from the work we just did? ['graphic correlation tables are better than numeric tables', 'Corr is better than pairs because we can find the strength of the correlation instead of just looking at the correlation.']\n",
      "I'm unclear on ... ['\"hello world\"', 'Not sure why we convert integers to factors (Generally what are factors used for?)', 'Truehist - can we take one class from a hist and find probability to see if it fits a truehist']\n",
      "Action Items ['Framework for understanding \"how to program\"', 'more r programming videos', 'python videos', 'Extra for slack?', 'Joshua will commit to assigning projects on Wednesday and they will be due on Monday.', 'It would make reviewing at home easier if  the modules on canvas contained more detail for each section. Or if we shared class notes.', 'project calendar', 'Class wiki', 'More lead time of upcoming activities.', 'earmuffs', 'More class participation on slack!']\n",
      "Things for Joshua To Do []\n"
     ]
    }
   ],
   "source": [
    "for list in open_lists:\n",
    "    print(list[0], [card['name'] for card in t.getCards(list[1], closed=True)])"
   ]
  },
  {
   "cell_type": "code",
   "execution_count": null,
   "metadata": {},
   "outputs": [],
   "source": []
  }
 ],
 "metadata": {
  "kernelspec": {
   "display_name": "Python 3",
   "language": "python",
   "name": "python3"
  },
  "language_info": {
   "codemirror_mode": {
    "name": "ipython",
    "version": 3
   },
   "file_extension": ".py",
   "mimetype": "text/x-python",
   "name": "python",
   "nbconvert_exporter": "python",
   "pygments_lexer": "ipython3",
   "version": "3.6.3"
  }
 },
 "nbformat": 4,
 "nbformat_minor": 2
}
