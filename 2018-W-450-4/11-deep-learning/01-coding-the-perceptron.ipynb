{
 "cells": [
  {
   "cell_type": "code",
   "execution_count": 3,
   "metadata": {},
   "outputs": [],
   "source": [
    "from sklearn.datasets import load_boston"
   ]
  },
  {
   "cell_type": "code",
   "execution_count": 6,
   "metadata": {},
   "outputs": [
    {
     "data": {
      "text/plain": [
       "array([  3.59376071e+00,   1.13636364e+01,   1.11367787e+01,\n",
       "         6.91699605e-02,   5.54695059e-01,   6.28463439e+00,\n",
       "         6.85749012e+01,   3.79504269e+00,   9.54940711e+00,\n",
       "         4.08237154e+02,   1.84555336e+01,   3.56674032e+02,\n",
       "         1.26530632e+01])"
      ]
     },
     "execution_count": 6,
     "metadata": {},
     "output_type": "execute_result"
    }
   ],
   "source": [
    "X, y = load_boston(return_X_y=True)\n",
    "\n",
    "X.mean(axis=0)"
   ]
  },
  {
   "cell_type": "code",
   "execution_count": 7,
   "metadata": {},
   "outputs": [
    {
     "data": {
      "text/plain": [
       "array([  6.34099712e-17,  -6.34319123e-16,  -2.68291099e-15,\n",
       "         4.70199198e-16,   2.49032240e-15,  -1.14523016e-14,\n",
       "        -1.40785495e-15,   9.21090169e-16,   5.44140929e-16,\n",
       "        -8.86861950e-16,  -9.20563581e-15,   8.16310129e-15,\n",
       "        -3.37016317e-16])"
      ]
     },
     "execution_count": 7,
     "metadata": {},
     "output_type": "execute_result"
    }
   ],
   "source": [
    "from sklearn.preprocessing import scale\n",
    "\n",
    "scale(X).mean(axis=0)"
   ]
  },
  {
   "cell_type": "code",
   "execution_count": null,
   "metadata": {},
   "outputs": [],
   "source": []
  },
  {
   "cell_type": "code",
   "execution_count": 8,
   "metadata": {},
   "outputs": [],
   "source": [
    "import numpy as np\n",
    "from numpy.linalg import norm\n",
    "import matplotlib.pyplot as plt\n",
    "from mpl_toolkits.mplot3d import axes3d\n",
    "%matplotlib inline"
   ]
  },
  {
   "cell_type": "markdown",
   "metadata": {},
   "source": [
    "We are building a system for linear classification. Our approach will have two major components:\n",
    "\n",
    "- a **score function**\n",
    "  - maps raw data to class scores\n",
    "- a **loss function**\n",
    "  - quantifies the agreement between the predicted scores and the ground truth labels"
   ]
  },
  {
   "cell_type": "markdown",
   "metadata": {},
   "source": [
    "### Score Function\n",
    "\n",
    "Maps input vectors to class scores\n",
    "\n",
    "$$f: \\mathbb{R}^D \\mapsto \\mathbb{R}$$\n",
    "\n",
    "where $D$ is the dimension of our input vector. \n",
    "\n",
    "Then \n",
    "\n",
    "$$   f({x}_i, {\\beta}, b) = \\left\\{\n",
    "     \\begin{array}{lr}\n",
    "       1 & : {\\beta}\\cdot{x}_i \\geq b\\\\\n",
    "       0 & : {\\beta}\\cdot{x}_i < b\n",
    "     \\end{array}\n",
    "   \\right.\n",
    "$$\n"
   ]
  },
  {
   "cell_type": "markdown",
   "metadata": {},
   "source": [
    "### Loss Function\n",
    "Note that of the inputs to the score function, we do not have control over the $x_i$. Instead, we must change the $\\beta_i$ values to match a given set of $y_i$. To do this, we will define a loss function that measures our performance. We will use \n",
    "\n",
    "$$L_i(\\beta)=\\rvert s_i - y_i\\rvert$$"
   ]
  },
  {
   "cell_type": "markdown",
   "metadata": {},
   "source": [
    "Our problem is a binary classification and therefore, $$y_i \\in \\{0,1\\}$$"
   ]
  },
  {
   "cell_type": "markdown",
   "metadata": {},
   "source": [
    "## We will be seeking to minimize loss"
   ]
  },
  {
   "cell_type": "code",
   "execution_count": 9,
   "metadata": {},
   "outputs": [],
   "source": [
    "class Perceptron:\n",
    "    \n",
    "    def __init__(self, betas=None, b=None):\n",
    "        self.betas = np.array(betas)\n",
    "        self.b = b\n",
    "            \n",
    "    \n",
    "    def score(self, inputs):\n",
    "        inputs = np.array(inputs)\n",
    "        if self.betas.dot(inputs) >= self.b:\n",
    "            return 1\n",
    "        else:\n",
    "            return 0\n",
    "        \n",
    "    def loss(self, inputs, y):\n",
    "        return abs(self.score(inputs) - y)"
   ]
  },
  {
   "cell_type": "code",
   "execution_count": 10,
   "metadata": {},
   "outputs": [],
   "source": [
    "x_1, y_1 = (-4, -3), 0 \n",
    "x_2, y_2 = ( 2, -4), 0\n",
    "x_3, y_3 = (-2, -1), 0\n",
    "x_4, y_4 = ( 0,  0), 1\n",
    "x_5, y_5 = ( 1,  1), 1\n",
    "x_6, y_6 = (-4,  2), 1"
   ]
  },
  {
   "cell_type": "code",
   "execution_count": 13,
   "metadata": {},
   "outputs": [],
   "source": [
    "ys = [y_1, y_2, y_3, y_4, y_5, y_6]\n",
    "xs = [x_1, x_2, x_3, x_4, x_5, x_6]\n",
    "x_1s = [x[0] for x in xs]\n",
    "x_2s = [x[1] for x in xs]"
   ]
  },
  {
   "cell_type": "code",
   "execution_count": 19,
   "metadata": {},
   "outputs": [
    {
     "data": {
      "text/plain": [
       "[<matplotlib.lines.Line2D at 0x7faed1047320>]"
      ]
     },
     "execution_count": 19,
     "metadata": {},
     "output_type": "execute_result"
    },
    {
     "data": {
      "image/png": "[encoded data removed]",
      "text/plain": [
       "<matplotlib.figure.Figure at 0x7faed1047cf8>"
      ]
     },
     "metadata": {},
     "output_type": "display_data"
    }
   ],
   "source": [
    "plt.scatter(x_1s, x_2s, c=ys)\n",
    "xx = np.linspace(-3,5,100)\n",
    "f = lambda x: 2/3*x + 1/6\n",
    "yy = f(xx)\n",
    "plt.plot(xx, yy)"
   ]
  },
  {
   "cell_type": "code",
   "execution_count": 15,
   "metadata": {},
   "outputs": [],
   "source": [
    "betas = (-2,3)\n",
    "ptron = Perceptron(betas,0.5) #.5 is threshold"
   ]
  },
  {
   "cell_type": "code",
   "execution_count": 16,
   "metadata": {},
   "outputs": [
    {
     "name": "stdout",
     "output_type": "stream",
     "text": [
      "0 0\n",
      "0 0\n",
      "1 0\n",
      "0 1\n",
      "1 1\n",
      "1 1\n"
     ]
    }
   ],
   "source": [
    "for x, y in zip(xs, ys):\n",
    "    print(ptron.score(x), y)"
   ]
  },
  {
   "cell_type": "code",
   "execution_count": 17,
   "metadata": {
    "scrolled": true
   },
   "outputs": [
    {
     "name": "stdout",
     "output_type": "stream",
     "text": [
      "0\n",
      "0\n",
      "1\n",
      "1\n",
      "0\n",
      "0\n"
     ]
    }
   ],
   "source": [
    "for x, y in zip(xs, ys):\n",
    "    print(ptron.loss(x, y))"
   ]
  },
  {
   "cell_type": "markdown",
   "metadata": {},
   "source": [
    "# !!! "
   ]
  },
  {
   "cell_type": "markdown",
   "metadata": {},
   "source": [
    "This is actual data. We can not change it. \n",
    "\n",
    "### What can we change?"
   ]
  },
  {
   "cell_type": "code",
   "execution_count": 21,
   "metadata": {},
   "outputs": [],
   "source": [
    "class Perceptron:\n",
    "    \n",
    "    def __init__(self, betas=None, b=None):\n",
    "        self.betas = np.array(betas)\n",
    "        self.b = b\n",
    "            \n",
    "    \n",
    "    def score(self, inputs):\n",
    "        inputs = np.array(inputs)\n",
    "        if self.betas.dot(inputs) >= self.b:\n",
    "            return 1\n",
    "        else:\n",
    "            return 0\n",
    "        \n",
    "    def loss_i(self, inputs, y):\n",
    "        return abs(self.score(inputs) - y)\n",
    "    \n",
    "    def loss(self, input_set, y_set):\n",
    "        return sum([self.loss_i(x, y) for x, y in zip(input_set, y_set)])"
   ]
  },
  {
   "cell_type": "code",
   "execution_count": 22,
   "metadata": {},
   "outputs": [
    {
     "data": {
      "text/plain": [
       "2"
      ]
     },
     "execution_count": 22,
     "metadata": {},
     "output_type": "execute_result"
    }
   ],
   "source": [
    "betas = (-2,3)\n",
    "ptron = Perceptron(betas,0.5)\n",
    "ptron.loss(xs, ys)"
   ]
  },
  {
   "cell_type": "markdown",
   "metadata": {},
   "source": [
    "---"
   ]
  },
  {
   "cell_type": "markdown",
   "metadata": {},
   "source": [
    "Let's change our weights and collect the scores."
   ]
  },
  {
   "cell_type": "code",
   "execution_count": 23,
   "metadata": {},
   "outputs": [],
   "source": [
    "losses = []\n",
    "test_beta_1 = list(range(-5,5))\n",
    "test_beta_2 = list(range(-5,5))\n",
    "for beta_2 in test_beta_2:\n",
    "    for beta_1 in test_beta_1:\n",
    "        ptron = Perceptron((beta_1, beta_2), 0.5)\n",
    "        losses.append(ptron.loss(xs, ys))\n",
    "    "
   ]
  },
  {
   "cell_type": "code",
   "execution_count": 24,
   "metadata": {},
   "outputs": [],
   "source": [
    "losses = np.array(losses).reshape(10,10)"
   ]
  },
  {
   "cell_type": "code",
   "execution_count": 25,
   "metadata": {},
   "outputs": [
    {
     "data": {
      "text/plain": [
       "<matplotlib.colorbar.Colorbar at 0x7faed0d6feb8>"
      ]
     },
     "execution_count": 25,
     "metadata": {},
     "output_type": "execute_result"
    },
    {
     "data": {
      "image/png": "[encoded data removed]",
      "text/plain": [
       "<matplotlib.figure.Figure at 0x7faed0e9cc88>"
      ]
     },
     "metadata": {},
     "output_type": "display_data"
    }
   ],
   "source": [
    "plt.pcolormesh(test_beta_1, test_beta_2, losses, cmap='Wistia')\n",
    "plt.plot(*betas, 'x')\n",
    "plt.colorbar()\n",
    "\n",
    "#plotting beta1 and beta2.. color is the loss"
   ]
  },
  {
   "cell_type": "markdown",
   "metadata": {},
   "source": [
    "### Update By the Perceptron Rule"
   ]
  },
  {
   "cell_type": "code",
   "execution_count": 26,
   "metadata": {},
   "outputs": [],
   "source": [
    "class Perceptron:\n",
    "    \n",
    "    def __init__(self, betas=None, b=None):\n",
    "        self.betas = np.array(betas, dtype=float)\n",
    "        self.b = b\n",
    "            \n",
    "    \n",
    "    def score(self, inputs):\n",
    "        inputs = np.array(inputs)\n",
    "        if self.betas.dot(inputs) >= self.b:\n",
    "            return 1\n",
    "        else:\n",
    "            return 0\n",
    "        \n",
    "    def loss_i(self, inputs, y):\n",
    "        return self.score(inputs) - y\n",
    "    \n",
    "    def loss(self, input_set, y_set):\n",
    "        return sum([self.loss_i(x, y) for x, y in zip(input_set, y_set)])\n",
    "    \n",
    "    def update(self, input_set, y_set, eta=0.1):\n",
    "        deltas = np.array([self.loss_i(x, y)*np.array(x) for x, y in zip(input_set, y_set)], dtype=float)\n",
    "        for delta in deltas:\n",
    "            self.betas -= eta*delta"
   ]
  },
  {
   "cell_type": "code",
   "execution_count": 27,
   "metadata": {},
   "outputs": [],
   "source": [
    "betas = (-1,-4)\n",
    "ptron = Perceptron(betas,0.5)"
   ]
  },
  {
   "cell_type": "code",
   "execution_count": 28,
   "metadata": {},
   "outputs": [
    {
     "data": {
      "text/plain": [
       "array([-0.99, -3.89])"
      ]
     },
     "execution_count": 28,
     "metadata": {},
     "output_type": "execute_result"
    }
   ],
   "source": [
    "ptron.update(xs, ys, 0.01)\n",
    "ptron.betas"
   ]
  },
  {
   "cell_type": "code",
   "execution_count": 29,
   "metadata": {},
   "outputs": [],
   "source": [
    "betas = (-1,-4)\n",
    "descending_betas = [np.array(betas)]\n",
    "ptron = Perceptron(betas,0.5)\n",
    "for i in range(350):\n",
    "    ptron.update(xs, ys, .11)\n",
    "    descending_betas.append(np.array(ptron.betas))"
   ]
  },
  {
   "cell_type": "code",
   "execution_count": 30,
   "metadata": {},
   "outputs": [
    {
     "data": {
      "text/plain": [
       "0"
      ]
     },
     "execution_count": 30,
     "metadata": {},
     "output_type": "execute_result"
    }
   ],
   "source": [
    "descending_betas.index(descending_betas[0])"
   ]
  },
  {
   "cell_type": "code",
   "execution_count": 31,
   "metadata": {},
   "outputs": [
    {
     "data": {
      "text/plain": [
       "<matplotlib.colorbar.Colorbar at 0x7faed0300da0>"
      ]
     },
     "execution_count": 31,
     "metadata": {},
     "output_type": "execute_result"
    },
    {
     "data": {
      "image/png": "[encoded data removed]",
      "text/plain": [
       "<matplotlib.figure.Figure at 0x7faed0d280b8>"
      ]
     },
     "metadata": {},
     "output_type": "display_data"
    }
   ],
   "source": [
    "plt.figure(figsize=(12,6))\n",
    "plt.pcolormesh(test_beta_1, test_beta_2, losses, cmap='Wistia')\n",
    "for i, bt in enumerate(descending_betas):\n",
    "    if i > 0:\n",
    "        plt.arrow(*last_bt, bt[0] - last_bt[0], bt[1] - last_bt[1]) #puts starting point at x,y and moves in the delta \n",
    "    plt.plot(*bt, 'o')\n",
    "    last_bt = bt\n",
    "plt.colorbar()"
   ]
  },
  {
   "cell_type": "markdown",
   "metadata": {
    "collapsed": true
   },
   "source": [
    "## Gradient Descent \n",
    "\n",
    "- compute the best direction along which we should change our $\\beta$ vector that is mathematically guaranteed to be the direction of the steepest descent\n",
    "- the gradient is a vector of derivatives for each dimension in the input space\n",
    "- for a linear function the gradient is a vector of the weights associated with each input\n",
    "\n",
    "# Problem"
   ]
  },
  {
   "cell_type": "markdown",
   "metadata": {},
   "source": [
    "We can't take the derivative of our current **score function**."
   ]
  },
  {
   "cell_type": "markdown",
   "metadata": {},
   "source": [
    "$$   f({x}_i, {\\beta}, b) = \\left\\{\n",
    "     \\begin{array}{lr}\n",
    "       1 & : {\\beta}\\cdot{x}_i \\geq b\\\\\n",
    "       0 & : {\\beta}\\cdot{x}_i < b\n",
    "     \\end{array}\n",
    "   \\right.\n",
    "$$"
   ]
  },
  {
   "cell_type": "markdown",
   "metadata": {},
   "source": [
    "Let's modify our score function.\n",
    "\n",
    "\\begin{align}\n",
    "f({x}_i, {\\beta}, b) &= \\text{sigmoid}(x_i, \\beta, b)\\\\\n",
    "&= \\frac{1}{1+e^{-(\\beta\\cdot x + b)}}\\\\\n",
    "&= \\sigma(x) \\tag{reduced form}\n",
    "\\end{align}\n"
   ]
  },
  {
   "cell_type": "markdown",
   "metadata": {},
   "source": [
    "This is differentiable and is it turns out has a nice derivative\n",
    "\n",
    "$$\\frac{d}{dx}\\sigma(x) = \\sigma(x)(1-\\sigma(x))$$"
   ]
  },
  {
   "cell_type": "code",
   "execution_count": 32,
   "metadata": {},
   "outputs": [],
   "source": [
    "class Perceptron:\n",
    "    \n",
    "    def __init__(self, betas=None, b=None):\n",
    "        self.betas = np.array(betas, dtype=float)\n",
    "        self.b = b\n",
    "            \n",
    "    \n",
    "    def score(self, inputs):\n",
    "        inputs = np.array(inputs)\n",
    "        return 1./(1+np.exp(-(self.betas.dot(inputs)+self.b)))\n",
    "        \n",
    "    def loss_i(self, inputs, y):\n",
    "        return self.score(inputs) - y\n",
    "    \n",
    "    def loss(self, input_set, y_set):\n",
    "        return sum([self.loss_i(x, y) for x, y in zip(input_set, y_set)])\n",
    "    \n",
    "    def update(self, input_set, y_set, eta=0.1):\n",
    "        deltas = np.array([self.loss_i(x, y)*np.array(x) for x, y in zip(input_set, y_set)], dtype=float)\n",
    "        for delta in deltas:\n",
    "            self.betas -= eta*delta\n"
   ]
  },
  {
   "cell_type": "code",
   "execution_count": 33,
   "metadata": {},
   "outputs": [
    {
     "data": {
      "text/plain": [
       "-0.75093635365288414"
      ]
     },
     "execution_count": 33,
     "metadata": {},
     "output_type": "execute_result"
    }
   ],
   "source": [
    "ptron = Perceptron((1,2),0.5)\n",
    "ptron.loss(xs, ys)"
   ]
  },
  {
   "cell_type": "code",
   "execution_count": 34,
   "metadata": {},
   "outputs": [],
   "source": [
    "losses = []\n",
    "test_beta_1 = np.linspace(-5,5,100)\n",
    "test_beta_2 = np.linspace(-5,5,100)\n",
    "for beta_2 in test_beta_2:\n",
    "    for beta_1 in test_beta_1:\n",
    "        ptron = Perceptron((beta_1, beta_2), 0.5)\n",
    "        losses.append(ptron.loss(xs, ys))\n",
    "losses = np.array(losses).reshape(100,100)    "
   ]
  },
  {
   "cell_type": "code",
   "execution_count": 35,
   "metadata": {},
   "outputs": [
    {
     "data": {
      "text/plain": [
       "<matplotlib.colorbar.Colorbar at 0x7faed0f56080>"
      ]
     },
     "execution_count": 35,
     "metadata": {},
     "output_type": "execute_result"
    },
    {
     "data": {
      "image/png": "[encoded data removed]",
      "text/plain": [
       "<matplotlib.figure.Figure at 0x7faed00408d0>"
      ]
     },
     "metadata": {},
     "output_type": "display_data"
    }
   ],
   "source": [
    "plt.pcolormesh(test_beta_1, test_beta_2, losses, cmap='Wistia')\n",
    "plt.plot(*x_1, 'x')\n",
    "plt.colorbar()"
   ]
  },
  {
   "cell_type": "code",
   "execution_count": 36,
   "metadata": {},
   "outputs": [],
   "source": [
    "betas = (-1,-4)"
   ]
  },
  {
   "cell_type": "code",
   "execution_count": 37,
   "metadata": {},
   "outputs": [],
   "source": [
    "descending_betas = [np.array(betas)]\n",
    "ptron = Perceptron(betas,0.5)"
   ]
  },
  {
   "cell_type": "code",
   "execution_count": 38,
   "metadata": {},
   "outputs": [
    {
     "name": "stdout",
     "output_type": "stream",
     "text": [
      "0.999999931744 0.999999931744 0\n",
      "0.999999495653 0.999999495653 0\n",
      "0.998498817743 0.998498817743 0\n",
      "0.622459331202 -0.377540668798 1\n",
      "0.0109869426306 -0.989013057369 1\n",
      "0.0293122307514 -0.970687769249 1\n"
     ]
    }
   ],
   "source": [
    "for x, y in zip(xs, ys):\n",
    "    print(ptron.score(x), ptron.loss_i(x,y), y)"
   ]
  },
  {
   "cell_type": "code",
   "execution_count": 39,
   "metadata": {},
   "outputs": [
    {
     "name": "stdout",
     "output_type": "stream",
     "text": [
      "-0.545643305123\n",
      "0.38392180136\n",
      "1.33688517666\n",
      "-0.115205131294\n"
     ]
    },
    {
     "data": {
      "text/plain": [
       "<matplotlib.colorbar.Colorbar at 0x7faed02585f8>"
      ]
     },
     "execution_count": 39,
     "metadata": {},
     "output_type": "execute_result"
    },
    {
     "data": {
      "image/png": "[encoded data removed]",
      "text/plain": [
       "<matplotlib.figure.Figure at 0x7faed00404e0>"
      ]
     },
     "metadata": {},
     "output_type": "display_data"
    }
   ],
   "source": [
    "betas = (-1,-4)\n",
    "descending_betas = [np.array(betas)]\n",
    "ptron = Perceptron(betas,0.5)\n",
    "\n",
    "this_bt = np.array(ptron.betas)\n",
    "loss = ptron.loss(xs, ys)\n",
    "loss_delta = 1\n",
    "\n",
    "while abs(loss_delta) > 2E-1:\n",
    "# for i in range(10):\n",
    "    ptron.update(xs, ys, .2)\n",
    "    descending_betas.append(np.array(ptron.betas))\n",
    "    diff = norm(this_bt - last_bt)\n",
    "    loss_delta = loss - ptron.loss(xs, ys)\n",
    "    loss = ptron.loss(xs, ys)\n",
    "    print(loss_delta)\n",
    "\n",
    "plt.pcolormesh(test_beta_1, test_beta_2, losses, cmap='Wistia')\n",
    "for i, bt in enumerate(descending_betas):\n",
    "    if i > 0:\n",
    "        plt.arrow(*last_bt, bt[0] - last_bt[0], bt[1] - last_bt[1])\n",
    "    plt.plot(*bt, 'o')\n",
    "    last_bt = bt\n",
    "plt.colorbar()"
   ]
  },
  {
   "cell_type": "code",
   "execution_count": 40,
   "metadata": {},
   "outputs": [
    {
     "name": "stdout",
     "output_type": "stream",
     "text": [
      "0.00820124310624 0\n",
      "0.0139888543098 0\n",
      "0.186242161226 0\n",
      "0.622459331202 1\n",
      "0.896628257958 1\n",
      "0.873778360322 1\n"
     ]
    }
   ],
   "source": [
    "for x, y in zip(xs, ys):\n",
    "    print(ptron.score(x), y)"
   ]
  },
  {
   "cell_type": "code",
   "execution_count": null,
   "metadata": {},
   "outputs": [],
   "source": []
  },
  {
   "cell_type": "code",
   "execution_count": null,
   "metadata": {},
   "outputs": [],
   "source": []
  }
 ],
 "metadata": {
  "kernelspec": {
   "display_name": "Python 3",
   "language": "python",
   "name": "python3"
  },
  "language_info": {
   "codemirror_mode": {
    "name": "ipython",
    "version": 3
   },
   "file_extension": ".py",
   "mimetype": "text/x-python",
   "name": "python",
   "nbconvert_exporter": "python",
   "pygments_lexer": "ipython3",
   "version": "3.6.3"
  }
 },
 "nbformat": 4,
 "nbformat_minor": 2
}
