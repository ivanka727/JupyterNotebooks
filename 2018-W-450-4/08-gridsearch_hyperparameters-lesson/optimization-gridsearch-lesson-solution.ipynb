{
 "cells": [
  {
   "cell_type": "markdown",
   "metadata": {},
   "source": [
    "# Grid Search and Cross-Validation\n",
    "\n",
    "_Author: Michael Frantz (LA)_\n",
    "\n",
    "---\n"
   ]
  },
  {
   "cell_type": "code",
   "execution_count": 1,
   "metadata": {},
   "outputs": [],
   "source": [
    "!pip --quiet install mglearn"
   ]
  },
  {
   "cell_type": "code",
   "execution_count": 2,
   "metadata": {},
   "outputs": [],
   "source": [
    "import mglearn\n",
    "from sklearn.linear_model import Ridge, Lasso, LogisticRegression\n",
    "from sklearn.neighbors import KNeighborsClassifier\n",
    "import pandas as pd\n",
    "import numpy as np\n",
    "import matplotlib.pyplot as plt\n",
    "%matplotlib inline"
   ]
  },
  {
   "cell_type": "markdown",
   "metadata": {},
   "source": [
    "## Review: Bias and Variance\n",
    "\n",
    "---\n",
    "![](http://tomrobertshaw.net/img/2015/12/overfitting.jpg)\n",
    "\n",
    "### Discussion:\n",
    "Answer these three questions about the above models given the data. \n",
    "\n",
    "1. Out of these three, which one would you pick as a low bias model? Why?\n",
    "1. Out of these three, which would you pick as a low variance model? Why?\n",
    "1. Out of these three, which one would you chose? Why?\n",
    "1. What are some current methods we have learned for **reducing variance**?"
   ]
  },
  {
   "cell_type": "code",
   "execution_count": 3,
   "metadata": {},
   "outputs": [],
   "source": [
    "# A: "
   ]
  },
  {
   "cell_type": "markdown",
   "metadata": {},
   "source": [
    "#### Answer:\n",
    "\n",
    "1. The model on the right is the lowest bias. It learned the data the best and would have a training accuracy, precision, and recall of 1. \n",
    "2. The model in the middle has the lowest variance. It doesn't get all the training examples correct, but it will likely generalize to new data better than the model on the left or right. \n",
    "3. The middle model, for the reason above. \n",
    "4. Regularization ($\\alpha$ from Ridge and Lasso, `C` from LogisticRegression (this is $\\frac{1}{\\alpha}$)."
   ]
  },
  {
   "cell_type": "markdown",
   "metadata": {},
   "source": [
    "## Tuning Hyperparameters\n",
    "---\n",
    "\n",
    "We've now covered a number of regressors and classifiers, including:\n",
    "* `KNeighborsClassifier`\n",
    "* `LogisticRegression`\n",
    "* `Ridge`\n",
    "* `Lasso`\n",
    "\n",
    "Each of these models have what are called **hyperparameters**, which affect how the model learns the data. Think of them like dials, and by changing them, we can optimize a model's performance on new data (a.k.a. **reduce variance**)!\n",
    "\n",
    "* What is the hyperparameter for `KNeighborsClassifier`?\n",
    "* What are the hyperparameters for `Ridge`?\n",
    "\n",
    "Up until now, we've used:\n",
    "> **\"Training set\":** the subset of the data that we fit our model on.\n",
    "\n",
    "> **\"Testing set\":** the subset of the data that we evaluate the quality of our predictions on.\n",
    "\n",
    "We've tuned our hyperparameters by hand so our model performs well on a test set. But now, instead of overfitting to our training set, we may be overfitting to our test set! Ultimately, we want to find optimal values for our hyperparameters **without touching our test data**. **BUT HOW?!?!?!**"
   ]
  },
  {
   "cell_type": "markdown",
   "metadata": {},
   "source": [
    "The trick is to add *another* set of splits. We're going to use cross-validation **within the training set** to fit our models and tune our hyperparamets, then **evaluate** on the test set. Let's spend a minute on the figure below. Notice:\n",
    "\n",
    "* When we originally fit our models, we use cross-validation to identify bias and variance, and adjust our hyperamaters to improve our model.\n",
    "* In the top panel, we don't do anything with our test set.\n",
    "* In the bottom panel, once we've tuned our hyperparameters, we can **re-fit** on all our training data to predict our **test** data and perform a model evaluation.\n",
    "\n",
    "**NOTE:** We have not covered SVC as a model yet; for now, think of it as a general classifier. Also, this figure is called `plot_improper_processing`; you will soon be getting the last piece of the puzzle. I'll be super amped if you can tell me what this format is missing!"
   ]
  },
  {
   "cell_type": "code",
   "execution_count": 4,
   "metadata": {},
   "outputs": [
    {
     "data": {
      "image/png": "[encoded data removed]",
      "text/plain": [
       "<matplotlib.figure.Figure at 0x7ff2b0ade0b8>"
      ]
     },
     "metadata": {},
     "output_type": "display_data"
    }
   ],
   "source": [
    "mglearn.plot_improper_preprocessing.plot_improper_processing()"
   ]
  },
  {
   "cell_type": "markdown",
   "metadata": {},
   "source": [
    "## Introducing (drum roll please...) `GridSearchCV`\n",
    "\n",
    "What if there was a way we could reduce variance by tuning hyperparameters without even touching our test dataset? To do this, we use the `sklearn` class `GridSearchCV`. Let's dive in:\n",
    "\n",
    "### Setting up `GridSearchCV`\n",
    "\n",
    "##### 1. Estimator\n",
    "\n",
    "First, pick your estimator. This can be any `sklearn` model. Today, we'll use `KNeighborsClassifier`. This is passed to the `estimator` argument.\n",
    "\n",
    "##### 2. Parameter Grid:\n",
    "\n",
    "The second thing you should do when setting up a grid search is create a parameter grid. This allows you to input values for all the hyperparameters you'd like to tune! Here's an example of a parameter grid for `KNeighborsClassifier`. The only hyperparameter we can tune here is `n_neighbors`, which makes this task pretty simple. Let's try every value between 1 and 10.\n",
    "\n",
    "```\n",
    "knc_params = {\n",
    "        'n_neighbors':range(1,11)\n",
    "    }\n",
    "```\n",
    "Your param grid is then passed to your grid search object through the argument `param_grid`.\n",
    "\n",
    "##### 3.  Cross-Valisation:\n",
    "\n",
    "Cross-validation is defined by the `cv=` argument. `cv` can be an integer, `ShuffleSplit`, or `StratifiedShuffleSplit` object.\n",
    "* `cv=5` will perform 5-fold cross-validation\n",
    "* `ShuffleSplit` will shuffle your samples for random validation sets. Default `cv` argument for this object is 10. If you want 5-fold cross-validation using all the data with `ShuffleSplit`, use `cv=ShuffleSplit(cv=10, test_size = .2)`.\n",
    "* `StratifiedShuffleSplit` is similar to `ShuffleSplit`, but can only be used for classificaion. This ensures that the class proportion in your target are preserved in each validation split.\n",
    "\n",
    "\n",
    "##### Note:\n",
    "\n",
    "`GridSearchCV` also takes an argument for `n_jobs`, with a default of 1. Many `sklearn` objects take this argument. If you set `n_jobs=-1`, `sklearn` will parallelize this process accross all the cores in your machine. This can really help speed up model training!\n"
   ]
  },
  {
   "cell_type": "markdown",
   "metadata": {},
   "source": [
    "## Ok, now what does `GridSearchCV` do with that info?\n",
    "\n",
    "When we use `.fit()` on your instantiated `GridSearchCV` object, it does a few things:\n",
    "1. For each combination of hyperparameters, it performs cross-validation and gets a mean train score and mean test score. **Question:** If we do 5-fold cross validaion on a `param_grid` for `Ridge` where `param_grid = {'c':range(1,6)}`, how many individual models are fit?\n",
    "2. For the combination of parameters with the **best mean test score**, `GridSearchCV` re-fits **all the training data** using those best parameters. \n",
    "\n",
    "**Question:** If your `GridSearchCV` is taking *REEEEEEEAAALLY* long to run `.fit()`, what are some options you have to reduce the time?\n",
    "\n",
    "Let's spend a minute and review the graphic below to review what `GridSearchCV` is doing."
   ]
  },
  {
   "cell_type": "code",
   "execution_count": 5,
   "metadata": {},
   "outputs": [
    {
     "data": {
      "image/png": "[encoded data removed]",
      "text/plain": [
       "<matplotlib.figure.Figure at 0x7ff27b234550>"
      ]
     },
     "metadata": {},
     "output_type": "display_data"
    }
   ],
   "source": [
    "mglearn.plot_grid_search.plot_grid_search_overview()"
   ]
  },
  {
   "cell_type": "markdown",
   "metadata": {},
   "source": [
    "## Ok, enough talk! Let's code it up. \n",
    "\n",
    "**NOTE:** Because we want to spend time with GridSearch, I've left the data cleaning in for you. However, if you have time, it would be great to review the steps taken to clean this data and try replicating them on your own. I've explained what we're doing step-by-step:"
   ]
  },
  {
   "cell_type": "code",
   "execution_count": 6,
   "metadata": {},
   "outputs": [],
   "source": [
    "from sklearn.model_selection import GridSearchCV, ShuffleSplit, StratifiedShuffleSplit, train_test_split"
   ]
  },
  {
   "cell_type": "markdown",
   "metadata": {},
   "source": [
    "Load the data:"
   ]
  },
  {
   "cell_type": "code",
   "execution_count": 7,
   "metadata": {},
   "outputs": [
    {
     "data": {
      "text/html": [
       "<div>\n",
       "<table border=\"1\" class=\"dataframe\">\n",
       "  <thead>\n",
       "    <tr style=\"text-align: right;\">\n",
       "      <th></th>\n",
       "      <th>Season</th>\n",
       "      <th>GameDate</th>\n",
       "      <th>GameTime</th>\n",
       "      <th>HostName</th>\n",
       "      <th>GuestName</th>\n",
       "      <th>total_score</th>\n",
       "      <th>total_line</th>\n",
       "      <th>game_line</th>\n",
       "      <th>Host_HostRank</th>\n",
       "      <th>Host_GameRank</th>\n",
       "      <th>...</th>\n",
       "      <th>gPTS_avg10</th>\n",
       "      <th>gTS%_avg10</th>\n",
       "      <th>g3PAR_avg10</th>\n",
       "      <th>gFTr_avg10</th>\n",
       "      <th>gDRB%_avg10</th>\n",
       "      <th>gTRB%_avg10</th>\n",
       "      <th>gAST%_avg10</th>\n",
       "      <th>gSTL%_avg10</th>\n",
       "      <th>gBLK%_avg10</th>\n",
       "      <th>gDRtg_avg10</th>\n",
       "    </tr>\n",
       "    <tr>\n",
       "      <th>GameId</th>\n",
       "      <th></th>\n",
       "      <th></th>\n",
       "      <th></th>\n",
       "      <th></th>\n",
       "      <th></th>\n",
       "      <th></th>\n",
       "      <th></th>\n",
       "      <th></th>\n",
       "      <th></th>\n",
       "      <th></th>\n",
       "      <th></th>\n",
       "      <th></th>\n",
       "      <th></th>\n",
       "      <th></th>\n",
       "      <th></th>\n",
       "      <th></th>\n",
       "      <th></th>\n",
       "      <th></th>\n",
       "      <th></th>\n",
       "      <th></th>\n",
       "      <th></th>\n",
       "    </tr>\n",
       "  </thead>\n",
       "  <tbody>\n",
       "    <tr>\n",
       "      <th>201212090LAL</th>\n",
       "      <td>2013</td>\n",
       "      <td>2012-12-09</td>\n",
       "      <td>6:30 pm</td>\n",
       "      <td>Los Angeles Lakers</td>\n",
       "      <td>Utah Jazz</td>\n",
       "      <td>227.0</td>\n",
       "      <td>207.5</td>\n",
       "      <td>7.5</td>\n",
       "      <td>13</td>\n",
       "      <td>21</td>\n",
       "      <td>...</td>\n",
       "      <td>99.0</td>\n",
       "      <td>0.5206</td>\n",
       "      <td>0.2230</td>\n",
       "      <td>0.2981</td>\n",
       "      <td>69.22</td>\n",
       "      <td>50.05</td>\n",
       "      <td>61.57</td>\n",
       "      <td>8.63</td>\n",
       "      <td>10.31</td>\n",
       "      <td>110.87</td>\n",
       "    </tr>\n",
       "    <tr>\n",
       "      <th>201212100PHI</th>\n",
       "      <td>2013</td>\n",
       "      <td>2012-12-10</td>\n",
       "      <td>7:00 pm</td>\n",
       "      <td>Philadelphia 76ers</td>\n",
       "      <td>Detroit Pistons</td>\n",
       "      <td>201.0</td>\n",
       "      <td>186.5</td>\n",
       "      <td>5.5</td>\n",
       "      <td>13</td>\n",
       "      <td>21</td>\n",
       "      <td>...</td>\n",
       "      <td>90.3</td>\n",
       "      <td>0.5077</td>\n",
       "      <td>0.2144</td>\n",
       "      <td>0.3095</td>\n",
       "      <td>71.46</td>\n",
       "      <td>49.48</td>\n",
       "      <td>59.83</td>\n",
       "      <td>6.48</td>\n",
       "      <td>9.46</td>\n",
       "      <td>107.91</td>\n",
       "    </tr>\n",
       "    <tr>\n",
       "      <th>201212100HOU</th>\n",
       "      <td>2013</td>\n",
       "      <td>2012-12-10</td>\n",
       "      <td>7:00 pm</td>\n",
       "      <td>Houston Rockets</td>\n",
       "      <td>San Antonio Spurs</td>\n",
       "      <td>240.0</td>\n",
       "      <td>212.0</td>\n",
       "      <td>-7.0</td>\n",
       "      <td>12</td>\n",
       "      <td>20</td>\n",
       "      <td>...</td>\n",
       "      <td>108.0</td>\n",
       "      <td>0.5915</td>\n",
       "      <td>0.2743</td>\n",
       "      <td>0.2518</td>\n",
       "      <td>74.26</td>\n",
       "      <td>50.99</td>\n",
       "      <td>61.82</td>\n",
       "      <td>8.30</td>\n",
       "      <td>6.85</td>\n",
       "      <td>101.41</td>\n",
       "    </tr>\n",
       "    <tr>\n",
       "      <th>201212110BRK</th>\n",
       "      <td>2013</td>\n",
       "      <td>2012-12-11</td>\n",
       "      <td>7:00 pm</td>\n",
       "      <td>Brooklyn Nets</td>\n",
       "      <td>New York Knicks</td>\n",
       "      <td>197.0</td>\n",
       "      <td>195.5</td>\n",
       "      <td>-3.5</td>\n",
       "      <td>12</td>\n",
       "      <td>20</td>\n",
       "      <td>...</td>\n",
       "      <td>100.3</td>\n",
       "      <td>0.5473</td>\n",
       "      <td>0.3595</td>\n",
       "      <td>0.2544</td>\n",
       "      <td>74.23</td>\n",
       "      <td>47.88</td>\n",
       "      <td>52.07</td>\n",
       "      <td>9.31</td>\n",
       "      <td>7.64</td>\n",
       "      <td>109.24</td>\n",
       "    </tr>\n",
       "    <tr>\n",
       "      <th>201212110DET</th>\n",
       "      <td>2013</td>\n",
       "      <td>2012-12-11</td>\n",
       "      <td>7:30 pm</td>\n",
       "      <td>Detroit Pistons</td>\n",
       "      <td>Denver Nuggets</td>\n",
       "      <td>195.0</td>\n",
       "      <td>203.5</td>\n",
       "      <td>-4.5</td>\n",
       "      <td>11</td>\n",
       "      <td>24</td>\n",
       "      <td>...</td>\n",
       "      <td>101.1</td>\n",
       "      <td>0.5605</td>\n",
       "      <td>0.2173</td>\n",
       "      <td>0.3177</td>\n",
       "      <td>68.45</td>\n",
       "      <td>50.40</td>\n",
       "      <td>56.33</td>\n",
       "      <td>7.67</td>\n",
       "      <td>7.83</td>\n",
       "      <td>114.86</td>\n",
       "    </tr>\n",
       "  </tbody>\n",
       "</table>\n",
       "<p>5 rows × 95 columns</p>\n",
       "</div>"
      ],
      "text/plain": [
       "              Season    GameDate GameTime            HostName  \\\n",
       "GameId                                                          \n",
       "201212090LAL    2013  2012-12-09  6:30 pm  Los Angeles Lakers   \n",
       "201212100PHI    2013  2012-12-10  7:00 pm  Philadelphia 76ers   \n",
       "201212100HOU    2013  2012-12-10  7:00 pm     Houston Rockets   \n",
       "201212110BRK    2013  2012-12-11  7:00 pm       Brooklyn Nets   \n",
       "201212110DET    2013  2012-12-11  7:30 pm     Detroit Pistons   \n",
       "\n",
       "                      GuestName  total_score  total_line  game_line  \\\n",
       "GameId                                                                \n",
       "201212090LAL          Utah Jazz        227.0       207.5        7.5   \n",
       "201212100PHI    Detroit Pistons        201.0       186.5        5.5   \n",
       "201212100HOU  San Antonio Spurs        240.0       212.0       -7.0   \n",
       "201212110BRK    New York Knicks        197.0       195.5       -3.5   \n",
       "201212110DET     Denver Nuggets        195.0       203.5       -4.5   \n",
       "\n",
       "              Host_HostRank  Host_GameRank     ...       gPTS_avg10  \\\n",
       "GameId                                         ...                    \n",
       "201212090LAL             13             21     ...             99.0   \n",
       "201212100PHI             13             21     ...             90.3   \n",
       "201212100HOU             12             20     ...            108.0   \n",
       "201212110BRK             12             20     ...            100.3   \n",
       "201212110DET             11             24     ...            101.1   \n",
       "\n",
       "              gTS%_avg10  g3PAR_avg10  gFTr_avg10  gDRB%_avg10  gTRB%_avg10  \\\n",
       "GameId                                                                        \n",
       "201212090LAL      0.5206       0.2230      0.2981        69.22        50.05   \n",
       "201212100PHI      0.5077       0.2144      0.3095        71.46        49.48   \n",
       "201212100HOU      0.5915       0.2743      0.2518        74.26        50.99   \n",
       "201212110BRK      0.5473       0.3595      0.2544        74.23        47.88   \n",
       "201212110DET      0.5605       0.2173      0.3177        68.45        50.40   \n",
       "\n",
       "              gAST%_avg10 gSTL%_avg10 gBLK%_avg10  gDRtg_avg10  \n",
       "GameId                                                          \n",
       "201212090LAL        61.57        8.63       10.31       110.87  \n",
       "201212100PHI        59.83        6.48        9.46       107.91  \n",
       "201212100HOU        61.82        8.30        6.85       101.41  \n",
       "201212110BRK        52.07        9.31        7.64       109.24  \n",
       "201212110DET        56.33        7.67        7.83       114.86  \n",
       "\n",
       "[5 rows x 95 columns]"
      ]
     },
     "execution_count": 7,
     "metadata": {},
     "output_type": "execute_result"
    }
   ],
   "source": [
    "data = pd.read_csv('datasets/basketball_data.csv')\n",
    "# Set the index to the `GameID`\n",
    "data.set_index('GameId', inplace=True)\n",
    "data.head()"
   ]
  },
  {
   "cell_type": "markdown",
   "metadata": {},
   "source": [
    "Extract the month and day of week from the data using `pandas datetime` functionality:"
   ]
  },
  {
   "cell_type": "code",
   "execution_count": 8,
   "metadata": {},
   "outputs": [],
   "source": [
    "# Change the GameDate colum to datetime type\n",
    "data.GameDate = pd.to_datetime(data['GameDate'])\n",
    "# Extract the day of week and month of the game into their own columns\n",
    "data['GameMonth'] = data['GameDate'].apply(lambda x: x.month)\n",
    "data['GameDayofWeek'] = data['GameDate'].apply(lambda x: x.dayofweek)"
   ]
  },
  {
   "cell_type": "markdown",
   "metadata": {},
   "source": [
    "View the non-numeric columns in this dataset using `df.select_dtypes`"
   ]
  },
  {
   "cell_type": "code",
   "execution_count": 9,
   "metadata": {
    "scrolled": true
   },
   "outputs": [
    {
     "data": {
      "text/html": [
       "<div>\n",
       "<table border=\"1\" class=\"dataframe\">\n",
       "  <thead>\n",
       "    <tr style=\"text-align: right;\">\n",
       "      <th></th>\n",
       "      <th>GameTime</th>\n",
       "      <th>HostName</th>\n",
       "      <th>GuestName</th>\n",
       "      <th>winner</th>\n",
       "      <th>loser</th>\n",
       "    </tr>\n",
       "    <tr>\n",
       "      <th>GameId</th>\n",
       "      <th></th>\n",
       "      <th></th>\n",
       "      <th></th>\n",
       "      <th></th>\n",
       "      <th></th>\n",
       "    </tr>\n",
       "  </thead>\n",
       "  <tbody>\n",
       "    <tr>\n",
       "      <th>201212090LAL</th>\n",
       "      <td>6:30 pm</td>\n",
       "      <td>Los Angeles Lakers</td>\n",
       "      <td>Utah Jazz</td>\n",
       "      <td>Utah Jazz</td>\n",
       "      <td>Los Angeles Lakers</td>\n",
       "    </tr>\n",
       "    <tr>\n",
       "      <th>201212100PHI</th>\n",
       "      <td>7:00 pm</td>\n",
       "      <td>Philadelphia 76ers</td>\n",
       "      <td>Detroit Pistons</td>\n",
       "      <td>Philadelphia 76ers</td>\n",
       "      <td>Detroit Pistons</td>\n",
       "    </tr>\n",
       "    <tr>\n",
       "      <th>201212100HOU</th>\n",
       "      <td>7:00 pm</td>\n",
       "      <td>Houston Rockets</td>\n",
       "      <td>San Antonio Spurs</td>\n",
       "      <td>San Antonio Spurs</td>\n",
       "      <td>Houston Rockets</td>\n",
       "    </tr>\n",
       "    <tr>\n",
       "      <th>201212110BRK</th>\n",
       "      <td>7:00 pm</td>\n",
       "      <td>Brooklyn Nets</td>\n",
       "      <td>New York Knicks</td>\n",
       "      <td>New York Knicks</td>\n",
       "      <td>Brooklyn Nets</td>\n",
       "    </tr>\n",
       "    <tr>\n",
       "      <th>201212110DET</th>\n",
       "      <td>7:30 pm</td>\n",
       "      <td>Detroit Pistons</td>\n",
       "      <td>Denver Nuggets</td>\n",
       "      <td>Denver Nuggets</td>\n",
       "      <td>Detroit Pistons</td>\n",
       "    </tr>\n",
       "  </tbody>\n",
       "</table>\n",
       "</div>"
      ],
      "text/plain": [
       "             GameTime            HostName          GuestName  \\\n",
       "GameId                                                         \n",
       "201212090LAL  6:30 pm  Los Angeles Lakers          Utah Jazz   \n",
       "201212100PHI  7:00 pm  Philadelphia 76ers    Detroit Pistons   \n",
       "201212100HOU  7:00 pm     Houston Rockets  San Antonio Spurs   \n",
       "201212110BRK  7:00 pm       Brooklyn Nets    New York Knicks   \n",
       "201212110DET  7:30 pm     Detroit Pistons     Denver Nuggets   \n",
       "\n",
       "                          winner               loser  \n",
       "GameId                                                \n",
       "201212090LAL           Utah Jazz  Los Angeles Lakers  \n",
       "201212100PHI  Philadelphia 76ers     Detroit Pistons  \n",
       "201212100HOU   San Antonio Spurs     Houston Rockets  \n",
       "201212110BRK     New York Knicks       Brooklyn Nets  \n",
       "201212110DET      Denver Nuggets     Detroit Pistons  "
      ]
     },
     "execution_count": 9,
     "metadata": {},
     "output_type": "execute_result"
    }
   ],
   "source": [
    "data.select_dtypes(include=['object']).head()"
   ]
  },
  {
   "cell_type": "markdown",
   "metadata": {},
   "source": [
    "Make our target whether the home team wins in a new columna called `host_wins`"
   ]
  },
  {
   "cell_type": "code",
   "execution_count": 10,
   "metadata": {},
   "outputs": [],
   "source": [
    "data['host_wins'] = data['HostName'] == data['winner']"
   ]
  },
  {
   "cell_type": "markdown",
   "metadata": {},
   "source": [
    "Drop the winner and loser columns from the dataset."
   ]
  },
  {
   "cell_type": "code",
   "execution_count": 11,
   "metadata": {},
   "outputs": [],
   "source": [
    "data.drop(['winner','loser','GameDate'],axis=1, inplace=True)"
   ]
  },
  {
   "cell_type": "markdown",
   "metadata": {},
   "source": [
    "We still have a few `object` columns in this dataset. Let's use `pd.get_dummies` to change these into numeric columns. "
   ]
  },
  {
   "cell_type": "code",
   "execution_count": 12,
   "metadata": {},
   "outputs": [
    {
     "data": {
      "text/html": [
       "<div>\n",
       "<table border=\"1\" class=\"dataframe\">\n",
       "  <thead>\n",
       "    <tr style=\"text-align: right;\">\n",
       "      <th></th>\n",
       "      <th>Season</th>\n",
       "      <th>total_score</th>\n",
       "      <th>total_line</th>\n",
       "      <th>game_line</th>\n",
       "      <th>Host_HostRank</th>\n",
       "      <th>Host_GameRank</th>\n",
       "      <th>Guest_GuestRank</th>\n",
       "      <th>Guest_GameRank</th>\n",
       "      <th>host_win_count</th>\n",
       "      <th>host_lose_count</th>\n",
       "      <th>...</th>\n",
       "      <th>GuestName_Oklahoma City Thunder</th>\n",
       "      <th>GuestName_Orlando Magic</th>\n",
       "      <th>GuestName_Philadelphia 76ers</th>\n",
       "      <th>GuestName_Phoenix Suns</th>\n",
       "      <th>GuestName_Portland Trail Blazers</th>\n",
       "      <th>GuestName_Sacramento Kings</th>\n",
       "      <th>GuestName_San Antonio Spurs</th>\n",
       "      <th>GuestName_Toronto Raptors</th>\n",
       "      <th>GuestName_Utah Jazz</th>\n",
       "      <th>GuestName_Washington Wizards</th>\n",
       "    </tr>\n",
       "    <tr>\n",
       "      <th>GameId</th>\n",
       "      <th></th>\n",
       "      <th></th>\n",
       "      <th></th>\n",
       "      <th></th>\n",
       "      <th></th>\n",
       "      <th></th>\n",
       "      <th></th>\n",
       "      <th></th>\n",
       "      <th></th>\n",
       "      <th></th>\n",
       "      <th></th>\n",
       "      <th></th>\n",
       "      <th></th>\n",
       "      <th></th>\n",
       "      <th></th>\n",
       "      <th></th>\n",
       "      <th></th>\n",
       "      <th></th>\n",
       "      <th></th>\n",
       "      <th></th>\n",
       "      <th></th>\n",
       "    </tr>\n",
       "  </thead>\n",
       "  <tbody>\n",
       "    <tr>\n",
       "      <th>201212090LAL</th>\n",
       "      <td>2013</td>\n",
       "      <td>227.0</td>\n",
       "      <td>207.5</td>\n",
       "      <td>7.5</td>\n",
       "      <td>13</td>\n",
       "      <td>21</td>\n",
       "      <td>13</td>\n",
       "      <td>22</td>\n",
       "      <td>9</td>\n",
       "      <td>11</td>\n",
       "      <td>...</td>\n",
       "      <td>0</td>\n",
       "      <td>0</td>\n",
       "      <td>0</td>\n",
       "      <td>0</td>\n",
       "      <td>0</td>\n",
       "      <td>0</td>\n",
       "      <td>0</td>\n",
       "      <td>0</td>\n",
       "      <td>1</td>\n",
       "      <td>0</td>\n",
       "    </tr>\n",
       "    <tr>\n",
       "      <th>201212100PHI</th>\n",
       "      <td>2013</td>\n",
       "      <td>201.0</td>\n",
       "      <td>186.5</td>\n",
       "      <td>5.5</td>\n",
       "      <td>13</td>\n",
       "      <td>21</td>\n",
       "      <td>13</td>\n",
       "      <td>23</td>\n",
       "      <td>11</td>\n",
       "      <td>9</td>\n",
       "      <td>...</td>\n",
       "      <td>0</td>\n",
       "      <td>0</td>\n",
       "      <td>0</td>\n",
       "      <td>0</td>\n",
       "      <td>0</td>\n",
       "      <td>0</td>\n",
       "      <td>0</td>\n",
       "      <td>0</td>\n",
       "      <td>0</td>\n",
       "      <td>0</td>\n",
       "    </tr>\n",
       "    <tr>\n",
       "      <th>201212100HOU</th>\n",
       "      <td>2013</td>\n",
       "      <td>240.0</td>\n",
       "      <td>212.0</td>\n",
       "      <td>-7.0</td>\n",
       "      <td>12</td>\n",
       "      <td>20</td>\n",
       "      <td>13</td>\n",
       "      <td>22</td>\n",
       "      <td>9</td>\n",
       "      <td>10</td>\n",
       "      <td>...</td>\n",
       "      <td>0</td>\n",
       "      <td>0</td>\n",
       "      <td>0</td>\n",
       "      <td>0</td>\n",
       "      <td>0</td>\n",
       "      <td>0</td>\n",
       "      <td>1</td>\n",
       "      <td>0</td>\n",
       "      <td>0</td>\n",
       "      <td>0</td>\n",
       "    </tr>\n",
       "    <tr>\n",
       "      <th>201212110BRK</th>\n",
       "      <td>2013</td>\n",
       "      <td>197.0</td>\n",
       "      <td>195.5</td>\n",
       "      <td>-3.5</td>\n",
       "      <td>12</td>\n",
       "      <td>20</td>\n",
       "      <td>13</td>\n",
       "      <td>21</td>\n",
       "      <td>11</td>\n",
       "      <td>8</td>\n",
       "      <td>...</td>\n",
       "      <td>0</td>\n",
       "      <td>0</td>\n",
       "      <td>0</td>\n",
       "      <td>0</td>\n",
       "      <td>0</td>\n",
       "      <td>0</td>\n",
       "      <td>0</td>\n",
       "      <td>0</td>\n",
       "      <td>0</td>\n",
       "      <td>0</td>\n",
       "    </tr>\n",
       "    <tr>\n",
       "      <th>201212110DET</th>\n",
       "      <td>2013</td>\n",
       "      <td>195.0</td>\n",
       "      <td>203.5</td>\n",
       "      <td>-4.5</td>\n",
       "      <td>11</td>\n",
       "      <td>24</td>\n",
       "      <td>16</td>\n",
       "      <td>22</td>\n",
       "      <td>7</td>\n",
       "      <td>16</td>\n",
       "      <td>...</td>\n",
       "      <td>0</td>\n",
       "      <td>0</td>\n",
       "      <td>0</td>\n",
       "      <td>0</td>\n",
       "      <td>0</td>\n",
       "      <td>0</td>\n",
       "      <td>0</td>\n",
       "      <td>0</td>\n",
       "      <td>0</td>\n",
       "      <td>0</td>\n",
       "    </tr>\n",
       "  </tbody>\n",
       "</table>\n",
       "<p>5 rows × 177 columns</p>\n",
       "</div>"
      ],
      "text/plain": [
       "              Season  total_score  total_line  game_line  Host_HostRank  \\\n",
       "GameId                                                                    \n",
       "201212090LAL    2013        227.0       207.5        7.5             13   \n",
       "201212100PHI    2013        201.0       186.5        5.5             13   \n",
       "201212100HOU    2013        240.0       212.0       -7.0             12   \n",
       "201212110BRK    2013        197.0       195.5       -3.5             12   \n",
       "201212110DET    2013        195.0       203.5       -4.5             11   \n",
       "\n",
       "              Host_GameRank  Guest_GuestRank  Guest_GameRank  host_win_count  \\\n",
       "GameId                                                                         \n",
       "201212090LAL             21               13              22               9   \n",
       "201212100PHI             21               13              23              11   \n",
       "201212100HOU             20               13              22               9   \n",
       "201212110BRK             20               13              21              11   \n",
       "201212110DET             24               16              22               7   \n",
       "\n",
       "              host_lose_count              ...               \\\n",
       "GameId                                     ...                \n",
       "201212090LAL               11              ...                \n",
       "201212100PHI                9              ...                \n",
       "201212100HOU               10              ...                \n",
       "201212110BRK                8              ...                \n",
       "201212110DET               16              ...                \n",
       "\n",
       "              GuestName_Oklahoma City Thunder  GuestName_Orlando Magic  \\\n",
       "GameId                                                                   \n",
       "201212090LAL                                0                        0   \n",
       "201212100PHI                                0                        0   \n",
       "201212100HOU                                0                        0   \n",
       "201212110BRK                                0                        0   \n",
       "201212110DET                                0                        0   \n",
       "\n",
       "              GuestName_Philadelphia 76ers  GuestName_Phoenix Suns  \\\n",
       "GameId                                                               \n",
       "201212090LAL                             0                       0   \n",
       "201212100PHI                             0                       0   \n",
       "201212100HOU                             0                       0   \n",
       "201212110BRK                             0                       0   \n",
       "201212110DET                             0                       0   \n",
       "\n",
       "              GuestName_Portland Trail Blazers  GuestName_Sacramento Kings  \\\n",
       "GameId                                                                       \n",
       "201212090LAL                                 0                           0   \n",
       "201212100PHI                                 0                           0   \n",
       "201212100HOU                                 0                           0   \n",
       "201212110BRK                                 0                           0   \n",
       "201212110DET                                 0                           0   \n",
       "\n",
       "              GuestName_San Antonio Spurs  GuestName_Toronto Raptors  \\\n",
       "GameId                                                                 \n",
       "201212090LAL                            0                          0   \n",
       "201212100PHI                            0                          0   \n",
       "201212100HOU                            1                          0   \n",
       "201212110BRK                            0                          0   \n",
       "201212110DET                            0                          0   \n",
       "\n",
       "              GuestName_Utah Jazz  GuestName_Washington Wizards  \n",
       "GameId                                                           \n",
       "201212090LAL                    1                             0  \n",
       "201212100PHI                    0                             0  \n",
       "201212100HOU                    0                             0  \n",
       "201212110BRK                    0                             0  \n",
       "201212110DET                    0                             0  \n",
       "\n",
       "[5 rows x 177 columns]"
      ]
     },
     "execution_count": 12,
     "metadata": {},
     "output_type": "execute_result"
    }
   ],
   "source": [
    "data_dummies = pd.get_dummies(data)\n",
    "data_dummies.head()"
   ]
  },
  {
   "cell_type": "markdown",
   "metadata": {},
   "source": [
    "##### Question:\n",
    "What do you think `pd.get_dummies` does?"
   ]
  },
  {
   "cell_type": "markdown",
   "metadata": {},
   "source": [
    "Finally, let's split the data into our `features` and `target`. "
   ]
  },
  {
   "cell_type": "code",
   "execution_count": 13,
   "metadata": {},
   "outputs": [],
   "source": [
    "target = data_dummies['host_wins']\n",
    "features = data_dummies.drop('host_wins',axis=1)"
   ]
  },
  {
   "cell_type": "markdown",
   "metadata": {},
   "source": [
    "Now's where you take over! \n",
    "\n",
    "### Exercise: `GridSearchCV` Workflow\n",
    "\n",
    "Perform a `train_test_split` on the data: \n",
    "* Your split data `X_train, X_test, y_train, y_test`. \n",
    "* Use a `test_size` of .25\n",
    "* Use a `random_state` of 42 so we all have the same results"
   ]
  },
  {
   "cell_type": "code",
   "execution_count": 14,
   "metadata": {},
   "outputs": [],
   "source": [
    "X_train, X_test, y_train, y_test = train_test_split(features, target, test_size = .25, random_state = 42)"
   ]
  },
  {
   "cell_type": "markdown",
   "metadata": {},
   "source": [
    "Import `KNeighborsClassifier` and `LogisticRegression`"
   ]
  },
  {
   "cell_type": "code",
   "execution_count": 15,
   "metadata": {},
   "outputs": [],
   "source": [
    "from sklearn.neighbors import KNeighborsClassifier\n",
    "from sklearn.linear_model import LogisticRegression"
   ]
  },
  {
   "cell_type": "markdown",
   "metadata": {},
   "source": [
    "Instantiate a `StandardScaler` object. `.fit` the scaler object on your training data (`X_train`), and then `.transform` both your training and test features so they are all scaled.\n",
    "\n",
    "Coming out of this, you should have two new `np.ndarray`s: `X_train_scaled` and `X_test_scaled`. \n",
    "\n",
    "**Question:** Why do we fit the scaler on only the training data? Why do we transform both the train and test data?"
   ]
  },
  {
   "cell_type": "code",
   "execution_count": 16,
   "metadata": {},
   "outputs": [],
   "source": [
    "from sklearn.preprocessing import StandardScaler"
   ]
  },
  {
   "cell_type": "code",
   "execution_count": 17,
   "metadata": {},
   "outputs": [
    {
     "data": {
      "text/plain": [
       "StandardScaler(copy=True, with_mean=True, with_std=True)"
      ]
     },
     "execution_count": 17,
     "metadata": {},
     "output_type": "execute_result"
    }
   ],
   "source": [
    "scaler = StandardScaler()\n",
    "scaler.fit(X_train)"
   ]
  },
  {
   "cell_type": "code",
   "execution_count": 18,
   "metadata": {},
   "outputs": [],
   "source": [
    "X_train_scaled = scaler.transform(X_train)\n",
    "X_test_scaled = scaler.transform(X_test)"
   ]
  },
  {
   "cell_type": "markdown",
   "metadata": {},
   "source": [
    "Ok, let's set up a `param_grid` for KNeighborsClassifier. Let's try neighbors from 5 to 50 with intervals of 5. Ex: `[5,10,15,...,45,50]`"
   ]
  },
  {
   "cell_type": "code",
   "execution_count": 19,
   "metadata": {},
   "outputs": [],
   "source": [
    "knc_params = {\n",
    "    'n_neighbors': range(5,51,5)\n",
    "}"
   ]
  },
  {
   "cell_type": "markdown",
   "metadata": {},
   "source": [
    "Almost there! Lets' instantiate our `GridSearchCV` object where...\n",
    "* our `estimator` is `KNeighborsClassifier`\n",
    "* our `param_grid` is our `knc_params`\n",
    "* our `cv=5` (5-fold cross-validation)"
   ]
  },
  {
   "cell_type": "code",
   "execution_count": 20,
   "metadata": {},
   "outputs": [],
   "source": [
    "knc_gs = GridSearchCV(KNeighborsClassifier(), param_grid= knc_params, cv=5)"
   ]
  },
  {
   "cell_type": "markdown",
   "metadata": {},
   "source": [
    "Use `.fit` once to fit ALL OUR MODELS!\n",
    "\n",
    "**Question:** Which of the below dataset pairs do we use to fit on? Why?\n",
    "1. `.fit(X_train, y_test)`\n",
    "1. `.fit(X_test, y_train)`\n",
    "1. `.fit(X_train, y_train)`\n",
    "1. `.fit(X_test, y_test)`\n",
    "1. `.fit(X_train, y_train)`\n",
    "1. `.fit(X_train_scaled, y_train)`\n",
    "1. `.fit(X_test_scaled, y_test)`\n",
    "1. `.fit(X_train_scaled, y_train_scaled)`"
   ]
  },
  {
   "cell_type": "code",
   "execution_count": 21,
   "metadata": {},
   "outputs": [
    {
     "data": {
      "text/plain": [
       "GridSearchCV(cv=5, error_score='raise',\n",
       "       estimator=KNeighborsClassifier(algorithm='auto', leaf_size=30, metric='minkowski',\n",
       "           metric_params=None, n_jobs=1, n_neighbors=5, p=2,\n",
       "           weights='uniform'),\n",
       "       fit_params={}, iid=True, n_jobs=1,\n",
       "       param_grid={'n_neighbors': range(5, 51, 5)},\n",
       "       pre_dispatch='2*n_jobs', refit=True, return_train_score=True,\n",
       "       scoring=None, verbose=0)"
      ]
     },
     "execution_count": 21,
     "metadata": {},
     "output_type": "execute_result"
    }
   ],
   "source": [
    "knc_gs.fit(X_train_scaled, y_train)"
   ]
  },
  {
   "cell_type": "markdown",
   "metadata": {},
   "source": [
    "That took way longer than we're used to... \n",
    "**Question:** Why?"
   ]
  },
  {
   "cell_type": "markdown",
   "metadata": {},
   "source": [
    "## Let's explore the **methods** and **attributes** available to our fit `GridSearchCV` object."
   ]
  },
  {
   "cell_type": "markdown",
   "metadata": {},
   "source": [
    "### `.cv_results_`\n",
    "\n",
    "This method summarizes all the results of all our cross-validated models. Let's put it and a DataFrame and see what we get!\n",
    "\n",
    "Notice the column names. Since we did 5-fold cross-validation, every time we see a mean, we're evaluating the mean of 5 individual fits on different folds of our cross-validation."
   ]
  },
  {
   "cell_type": "code",
   "execution_count": 22,
   "metadata": {},
   "outputs": [
    {
     "data": {
      "text/html": [
       "<div>\n",
       "<table border=\"1\" class=\"dataframe\">\n",
       "  <thead>\n",
       "    <tr style=\"text-align: right;\">\n",
       "      <th></th>\n",
       "      <th>mean_fit_time</th>\n",
       "      <th>mean_score_time</th>\n",
       "      <th>mean_test_score</th>\n",
       "      <th>mean_train_score</th>\n",
       "      <th>param_n_neighbors</th>\n",
       "      <th>params</th>\n",
       "      <th>rank_test_score</th>\n",
       "      <th>split0_test_score</th>\n",
       "      <th>split0_train_score</th>\n",
       "      <th>split1_test_score</th>\n",
       "      <th>...</th>\n",
       "      <th>split2_test_score</th>\n",
       "      <th>split2_train_score</th>\n",
       "      <th>split3_test_score</th>\n",
       "      <th>split3_train_score</th>\n",
       "      <th>split4_test_score</th>\n",
       "      <th>split4_train_score</th>\n",
       "      <th>std_fit_time</th>\n",
       "      <th>std_score_time</th>\n",
       "      <th>std_test_score</th>\n",
       "      <th>std_train_score</th>\n",
       "    </tr>\n",
       "  </thead>\n",
       "  <tbody>\n",
       "    <tr>\n",
       "      <th>0</th>\n",
       "      <td>0.020176</td>\n",
       "      <td>0.409696</td>\n",
       "      <td>0.611465</td>\n",
       "      <td>0.753274</td>\n",
       "      <td>5</td>\n",
       "      <td>{'n_neighbors': 5}</td>\n",
       "      <td>10</td>\n",
       "      <td>0.613074</td>\n",
       "      <td>0.766814</td>\n",
       "      <td>0.641343</td>\n",
       "      <td>...</td>\n",
       "      <td>0.601770</td>\n",
       "      <td>0.739054</td>\n",
       "      <td>0.582301</td>\n",
       "      <td>0.753649</td>\n",
       "      <td>0.618794</td>\n",
       "      <td>0.753316</td>\n",
       "      <td>0.001073</td>\n",
       "      <td>0.002324</td>\n",
       "      <td>0.019465</td>\n",
       "      <td>0.008784</td>\n",
       "    </tr>\n",
       "    <tr>\n",
       "      <th>1</th>\n",
       "      <td>0.019164</td>\n",
       "      <td>0.408914</td>\n",
       "      <td>0.617834</td>\n",
       "      <td>0.709130</td>\n",
       "      <td>10</td>\n",
       "      <td>{'n_neighbors': 10}</td>\n",
       "      <td>9</td>\n",
       "      <td>0.616608</td>\n",
       "      <td>0.718584</td>\n",
       "      <td>0.648410</td>\n",
       "      <td>...</td>\n",
       "      <td>0.598230</td>\n",
       "      <td>0.710305</td>\n",
       "      <td>0.610619</td>\n",
       "      <td>0.701460</td>\n",
       "      <td>0.615248</td>\n",
       "      <td>0.709991</td>\n",
       "      <td>0.000153</td>\n",
       "      <td>0.000569</td>\n",
       "      <td>0.016617</td>\n",
       "      <td>0.005743</td>\n",
       "    </tr>\n",
       "    <tr>\n",
       "      <th>2</th>\n",
       "      <td>0.019163</td>\n",
       "      <td>0.410302</td>\n",
       "      <td>0.640835</td>\n",
       "      <td>0.703290</td>\n",
       "      <td>15</td>\n",
       "      <td>{'n_neighbors': 15}</td>\n",
       "      <td>8</td>\n",
       "      <td>0.621908</td>\n",
       "      <td>0.706195</td>\n",
       "      <td>0.671378</td>\n",
       "      <td>...</td>\n",
       "      <td>0.628319</td>\n",
       "      <td>0.712517</td>\n",
       "      <td>0.644248</td>\n",
       "      <td>0.695268</td>\n",
       "      <td>0.638298</td>\n",
       "      <td>0.706012</td>\n",
       "      <td>0.000259</td>\n",
       "      <td>0.000318</td>\n",
       "      <td>0.017132</td>\n",
       "      <td>0.006511</td>\n",
       "    </tr>\n",
       "    <tr>\n",
       "      <th>3</th>\n",
       "      <td>0.019302</td>\n",
       "      <td>0.410910</td>\n",
       "      <td>0.649328</td>\n",
       "      <td>0.697010</td>\n",
       "      <td>20</td>\n",
       "      <td>{'n_neighbors': 20}</td>\n",
       "      <td>7</td>\n",
       "      <td>0.625442</td>\n",
       "      <td>0.702212</td>\n",
       "      <td>0.683746</td>\n",
       "      <td>...</td>\n",
       "      <td>0.631858</td>\n",
       "      <td>0.699248</td>\n",
       "      <td>0.642478</td>\n",
       "      <td>0.691287</td>\n",
       "      <td>0.663121</td>\n",
       "      <td>0.697613</td>\n",
       "      <td>0.000427</td>\n",
       "      <td>0.000417</td>\n",
       "      <td>0.021445</td>\n",
       "      <td>0.003757</td>\n",
       "    </tr>\n",
       "    <tr>\n",
       "      <th>4</th>\n",
       "      <td>0.019146</td>\n",
       "      <td>0.411914</td>\n",
       "      <td>0.657820</td>\n",
       "      <td>0.698690</td>\n",
       "      <td>25</td>\n",
       "      <td>{'n_neighbors': 25}</td>\n",
       "      <td>6</td>\n",
       "      <td>0.632509</td>\n",
       "      <td>0.702212</td>\n",
       "      <td>0.674912</td>\n",
       "      <td>...</td>\n",
       "      <td>0.661947</td>\n",
       "      <td>0.704998</td>\n",
       "      <td>0.660177</td>\n",
       "      <td>0.693941</td>\n",
       "      <td>0.659574</td>\n",
       "      <td>0.701149</td>\n",
       "      <td>0.000252</td>\n",
       "      <td>0.000685</td>\n",
       "      <td>0.013855</td>\n",
       "      <td>0.005247</td>\n",
       "    </tr>\n",
       "  </tbody>\n",
       "</table>\n",
       "<p>5 rows × 21 columns</p>\n",
       "</div>"
      ],
      "text/plain": [
       "   mean_fit_time  mean_score_time  mean_test_score  mean_train_score  \\\n",
       "0       0.020176         0.409696         0.611465          0.753274   \n",
       "1       0.019164         0.408914         0.617834          0.709130   \n",
       "2       0.019163         0.410302         0.640835          0.703290   \n",
       "3       0.019302         0.410910         0.649328          0.697010   \n",
       "4       0.019146         0.411914         0.657820          0.698690   \n",
       "\n",
       "  param_n_neighbors               params  rank_test_score  split0_test_score  \\\n",
       "0                 5   {'n_neighbors': 5}               10           0.613074   \n",
       "1                10  {'n_neighbors': 10}                9           0.616608   \n",
       "2                15  {'n_neighbors': 15}                8           0.621908   \n",
       "3                20  {'n_neighbors': 20}                7           0.625442   \n",
       "4                25  {'n_neighbors': 25}                6           0.632509   \n",
       "\n",
       "   split0_train_score  split1_test_score       ...         split2_test_score  \\\n",
       "0            0.766814           0.641343       ...                  0.601770   \n",
       "1            0.718584           0.648410       ...                  0.598230   \n",
       "2            0.706195           0.671378       ...                  0.628319   \n",
       "3            0.702212           0.683746       ...                  0.631858   \n",
       "4            0.702212           0.674912       ...                  0.661947   \n",
       "\n",
       "   split2_train_score  split3_test_score  split3_train_score  \\\n",
       "0            0.739054           0.582301            0.753649   \n",
       "1            0.710305           0.610619            0.701460   \n",
       "2            0.712517           0.644248            0.695268   \n",
       "3            0.699248           0.642478            0.691287   \n",
       "4            0.704998           0.660177            0.693941   \n",
       "\n",
       "   split4_test_score  split4_train_score  std_fit_time  std_score_time  \\\n",
       "0           0.618794            0.753316      0.001073        0.002324   \n",
       "1           0.615248            0.709991      0.000153        0.000569   \n",
       "2           0.638298            0.706012      0.000259        0.000318   \n",
       "3           0.663121            0.697613      0.000427        0.000417   \n",
       "4           0.659574            0.701149      0.000252        0.000685   \n",
       "\n",
       "   std_test_score  std_train_score  \n",
       "0        0.019465         0.008784  \n",
       "1        0.016617         0.005743  \n",
       "2        0.017132         0.006511  \n",
       "3        0.021445         0.003757  \n",
       "4        0.013855         0.005247  \n",
       "\n",
       "[5 rows x 21 columns]"
      ]
     },
     "execution_count": 22,
     "metadata": {},
     "output_type": "execute_result"
    }
   ],
   "source": [
    "cv_results = pd.DataFrame(knc_gs.cv_results_)\n",
    "cv_results.head()"
   ]
  },
  {
   "cell_type": "markdown",
   "metadata": {},
   "source": [
    "Below, let's sort our `cv_results` dataframe by `mean_test_score` using `.sort_values`. \n",
    "\n",
    "**Question:** How many neighbors give us our best score?"
   ]
  },
  {
   "cell_type": "code",
   "execution_count": 23,
   "metadata": {},
   "outputs": [
    {
     "data": {
      "text/html": [
       "<div>\n",
       "<table border=\"1\" class=\"dataframe\">\n",
       "  <thead>\n",
       "    <tr style=\"text-align: right;\">\n",
       "      <th></th>\n",
       "      <th>mean_fit_time</th>\n",
       "      <th>mean_score_time</th>\n",
       "      <th>mean_test_score</th>\n",
       "      <th>mean_train_score</th>\n",
       "      <th>param_n_neighbors</th>\n",
       "      <th>params</th>\n",
       "      <th>rank_test_score</th>\n",
       "      <th>split0_test_score</th>\n",
       "      <th>split0_train_score</th>\n",
       "      <th>split1_test_score</th>\n",
       "      <th>...</th>\n",
       "      <th>split2_test_score</th>\n",
       "      <th>split2_train_score</th>\n",
       "      <th>split3_test_score</th>\n",
       "      <th>split3_train_score</th>\n",
       "      <th>split4_test_score</th>\n",
       "      <th>split4_train_score</th>\n",
       "      <th>std_fit_time</th>\n",
       "      <th>std_score_time</th>\n",
       "      <th>std_test_score</th>\n",
       "      <th>std_train_score</th>\n",
       "    </tr>\n",
       "  </thead>\n",
       "  <tbody>\n",
       "    <tr>\n",
       "      <th>9</th>\n",
       "      <td>0.021286</td>\n",
       "      <td>0.418814</td>\n",
       "      <td>0.668436</td>\n",
       "      <td>0.690817</td>\n",
       "      <td>50</td>\n",
       "      <td>{'n_neighbors': 50}</td>\n",
       "      <td>1</td>\n",
       "      <td>0.641343</td>\n",
       "      <td>0.688053</td>\n",
       "      <td>0.706714</td>\n",
       "      <td>...</td>\n",
       "      <td>0.667257</td>\n",
       "      <td>0.700575</td>\n",
       "      <td>0.660177</td>\n",
       "      <td>0.685980</td>\n",
       "      <td>0.666667</td>\n",
       "      <td>0.691866</td>\n",
       "      <td>0.001036</td>\n",
       "      <td>0.001802</td>\n",
       "      <td>0.021331</td>\n",
       "      <td>0.005247</td>\n",
       "    </tr>\n",
       "    <tr>\n",
       "      <th>8</th>\n",
       "      <td>0.020165</td>\n",
       "      <td>0.415168</td>\n",
       "      <td>0.665251</td>\n",
       "      <td>0.687721</td>\n",
       "      <td>45</td>\n",
       "      <td>{'n_neighbors': 45}</td>\n",
       "      <td>2</td>\n",
       "      <td>0.639576</td>\n",
       "      <td>0.693363</td>\n",
       "      <td>0.701413</td>\n",
       "      <td>...</td>\n",
       "      <td>0.653097</td>\n",
       "      <td>0.698364</td>\n",
       "      <td>0.663717</td>\n",
       "      <td>0.677134</td>\n",
       "      <td>0.668440</td>\n",
       "      <td>0.688329</td>\n",
       "      <td>0.001260</td>\n",
       "      <td>0.000327</td>\n",
       "      <td>0.020639</td>\n",
       "      <td>0.007711</td>\n",
       "    </tr>\n",
       "    <tr>\n",
       "      <th>7</th>\n",
       "      <td>0.020120</td>\n",
       "      <td>0.414132</td>\n",
       "      <td>0.663482</td>\n",
       "      <td>0.691259</td>\n",
       "      <td>40</td>\n",
       "      <td>{'n_neighbors': 40}</td>\n",
       "      <td>3</td>\n",
       "      <td>0.634276</td>\n",
       "      <td>0.691593</td>\n",
       "      <td>0.696113</td>\n",
       "      <td>...</td>\n",
       "      <td>0.656637</td>\n",
       "      <td>0.700133</td>\n",
       "      <td>0.663717</td>\n",
       "      <td>0.688633</td>\n",
       "      <td>0.666667</td>\n",
       "      <td>0.694960</td>\n",
       "      <td>0.001245</td>\n",
       "      <td>0.000417</td>\n",
       "      <td>0.019887</td>\n",
       "      <td>0.006407</td>\n",
       "    </tr>\n",
       "    <tr>\n",
       "      <th>5</th>\n",
       "      <td>0.019498</td>\n",
       "      <td>0.414547</td>\n",
       "      <td>0.661005</td>\n",
       "      <td>0.699575</td>\n",
       "      <td>30</td>\n",
       "      <td>{'n_neighbors': 30}</td>\n",
       "      <td>4</td>\n",
       "      <td>0.636042</td>\n",
       "      <td>0.700885</td>\n",
       "      <td>0.690813</td>\n",
       "      <td>...</td>\n",
       "      <td>0.653097</td>\n",
       "      <td>0.705440</td>\n",
       "      <td>0.661947</td>\n",
       "      <td>0.693941</td>\n",
       "      <td>0.663121</td>\n",
       "      <td>0.703802</td>\n",
       "      <td>0.000459</td>\n",
       "      <td>0.002108</td>\n",
       "      <td>0.017786</td>\n",
       "      <td>0.004879</td>\n",
       "    </tr>\n",
       "    <tr>\n",
       "      <th>6</th>\n",
       "      <td>0.019035</td>\n",
       "      <td>0.413598</td>\n",
       "      <td>0.658528</td>\n",
       "      <td>0.691259</td>\n",
       "      <td>35</td>\n",
       "      <td>{'n_neighbors': 35}</td>\n",
       "      <td>5</td>\n",
       "      <td>0.628975</td>\n",
       "      <td>0.696018</td>\n",
       "      <td>0.690813</td>\n",
       "      <td>...</td>\n",
       "      <td>0.656637</td>\n",
       "      <td>0.693498</td>\n",
       "      <td>0.660177</td>\n",
       "      <td>0.682884</td>\n",
       "      <td>0.656028</td>\n",
       "      <td>0.697171</td>\n",
       "      <td>0.000155</td>\n",
       "      <td>0.000474</td>\n",
       "      <td>0.019651</td>\n",
       "      <td>0.005537</td>\n",
       "    </tr>\n",
       "  </tbody>\n",
       "</table>\n",
       "<p>5 rows × 21 columns</p>\n",
       "</div>"
      ],
      "text/plain": [
       "   mean_fit_time  mean_score_time  mean_test_score  mean_train_score  \\\n",
       "9       0.021286         0.418814         0.668436          0.690817   \n",
       "8       0.020165         0.415168         0.665251          0.687721   \n",
       "7       0.020120         0.414132         0.663482          0.691259   \n",
       "5       0.019498         0.414547         0.661005          0.699575   \n",
       "6       0.019035         0.413598         0.658528          0.691259   \n",
       "\n",
       "  param_n_neighbors               params  rank_test_score  split0_test_score  \\\n",
       "9                50  {'n_neighbors': 50}                1           0.641343   \n",
       "8                45  {'n_neighbors': 45}                2           0.639576   \n",
       "7                40  {'n_neighbors': 40}                3           0.634276   \n",
       "5                30  {'n_neighbors': 30}                4           0.636042   \n",
       "6                35  {'n_neighbors': 35}                5           0.628975   \n",
       "\n",
       "   split0_train_score  split1_test_score       ...         split2_test_score  \\\n",
       "9            0.688053           0.706714       ...                  0.667257   \n",
       "8            0.693363           0.701413       ...                  0.653097   \n",
       "7            0.691593           0.696113       ...                  0.656637   \n",
       "5            0.700885           0.690813       ...                  0.653097   \n",
       "6            0.696018           0.690813       ...                  0.656637   \n",
       "\n",
       "   split2_train_score  split3_test_score  split3_train_score  \\\n",
       "9            0.700575           0.660177            0.685980   \n",
       "8            0.698364           0.663717            0.677134   \n",
       "7            0.700133           0.663717            0.688633   \n",
       "5            0.705440           0.661947            0.693941   \n",
       "6            0.693498           0.660177            0.682884   \n",
       "\n",
       "   split4_test_score  split4_train_score  std_fit_time  std_score_time  \\\n",
       "9           0.666667            0.691866      0.001036        0.001802   \n",
       "8           0.668440            0.688329      0.001260        0.000327   \n",
       "7           0.666667            0.694960      0.001245        0.000417   \n",
       "5           0.663121            0.703802      0.000459        0.002108   \n",
       "6           0.656028            0.697171      0.000155        0.000474   \n",
       "\n",
       "   std_test_score  std_train_score  \n",
       "9        0.021331         0.005247  \n",
       "8        0.020639         0.007711  \n",
       "7        0.019887         0.006407  \n",
       "5        0.017786         0.004879  \n",
       "6        0.019651         0.005537  \n",
       "\n",
       "[5 rows x 21 columns]"
      ]
     },
     "execution_count": 23,
     "metadata": {},
     "output_type": "execute_result"
    }
   ],
   "source": [
    "cv_results.sort_values('mean_test_score', ascending=False).head()"
   ]
  },
  {
   "cell_type": "markdown",
   "metadata": {},
   "source": [
    "### `.best_score_`\n",
    "\n",
    "Let's say we don't want to look at the `cv_results_`. This attribute gives the **best mean test score** from our `cv_results_`. "
   ]
  },
  {
   "cell_type": "code",
   "execution_count": 24,
   "metadata": {},
   "outputs": [
    {
     "data": {
      "text/plain": [
       "0.66843595187544236"
      ]
     },
     "execution_count": 24,
     "metadata": {},
     "output_type": "execute_result"
    }
   ],
   "source": [
    "knc_gs.best_score_"
   ]
  },
  {
   "cell_type": "markdown",
   "metadata": {},
   "source": [
    "### `.best_params_`\n",
    "\n",
    "This attribute returns the parameters for the model that got the best mean test score."
   ]
  },
  {
   "cell_type": "code",
   "execution_count": 25,
   "metadata": {},
   "outputs": [
    {
     "data": {
      "text/plain": [
       "{'n_neighbors': 50}"
      ]
     },
     "execution_count": 25,
     "metadata": {},
     "output_type": "execute_result"
    }
   ],
   "source": [
    "knc_gs.best_params_"
   ]
  },
  {
   "cell_type": "markdown",
   "metadata": {},
   "source": [
    "### `.best_estimator_`\n",
    "\n",
    "The `best_estimator_` is an **actual model**. When we call `.predict()` on our `GridSearchCV` object, this is the model that it's using in the background. Notice that the `best_estimator_` has the hyperparameters from `best_params_`. Let's check it out!"
   ]
  },
  {
   "cell_type": "code",
   "execution_count": 26,
   "metadata": {},
   "outputs": [
    {
     "data": {
      "text/plain": [
       "KNeighborsClassifier(algorithm='auto', leaf_size=30, metric='minkowski',\n",
       "           metric_params=None, n_jobs=1, n_neighbors=50, p=2,\n",
       "           weights='uniform')"
      ]
     },
     "execution_count": 26,
     "metadata": {},
     "output_type": "execute_result"
    }
   ],
   "source": [
    "knc_gs.best_estimator_"
   ]
  },
  {
   "cell_type": "markdown",
   "metadata": {},
   "source": [
    "### `.predict()`\n",
    "\n",
    "This works just like the `predict` method on any other `sklearn` estimator. Let's try it out creating a `y_test_pred` array!\n",
    "\n",
    "**Note:** If your `estimator` is a classifier, you also have `.predict_proba()` available to you.\n",
    "\n",
    "**Question:** Which dataset goes into the `.predict()` method if we want our test predictions?\n",
    "\n",
    "1. `X_train`\n",
    "1. `X_train_scaled`\n",
    "1. `X_test`\n",
    "1. `X_test_scaled`\n",
    "1. `y_train`\n",
    "1. `y_train_scaled`\n",
    "1. `y_test`\n",
    "1. `y_test_scaled`"
   ]
  },
  {
   "cell_type": "code",
   "execution_count": 27,
   "metadata": {},
   "outputs": [],
   "source": [
    "y_test_pred = knc_gs.predict(X_test_scaled)"
   ]
  },
  {
   "cell_type": "markdown",
   "metadata": {},
   "source": [
    "### `.score()` \n",
    "\n",
    "This **inherits** the `.score()` functoin from our `estimator`. So, if we're doing classification, the default will be accuracy, and for regressors, the default will be $r^2$.\n",
    "\n",
    "What is the **train score**? What is the **test score**? What's your interpretation about our model's capacity to generalize to unseen data? What does that mean in terms of bias and variance?"
   ]
  },
  {
   "cell_type": "code",
   "execution_count": 28,
   "metadata": {},
   "outputs": [
    {
     "data": {
      "text/plain": [
       "0.69037508846426043"
      ]
     },
     "execution_count": 28,
     "metadata": {},
     "output_type": "execute_result"
    }
   ],
   "source": [
    "knc_gs.score(X_train_scaled, y_train)"
   ]
  },
  {
   "cell_type": "code",
   "execution_count": 29,
   "metadata": {},
   "outputs": [
    {
     "data": {
      "text/plain": [
       "0.67622080679405516"
      ]
     },
     "execution_count": 29,
     "metadata": {},
     "output_type": "execute_result"
    }
   ],
   "source": [
    "knc_gs.score(X_test_scaled, y_test)"
   ]
  },
  {
   "cell_type": "markdown",
   "metadata": {},
   "source": [
    "In our `train` and `test` y's, what percent of the time does the home team win? i.e. what is the accuracy if we guessed the home team won every time? (`y_pred` is all ones)"
   ]
  },
  {
   "cell_type": "code",
   "execution_count": 30,
   "metadata": {},
   "outputs": [
    {
     "data": {
      "text/plain": [
       "0.58881811748053792"
      ]
     },
     "execution_count": 30,
     "metadata": {},
     "output_type": "execute_result"
    }
   ],
   "source": [
    "y_train.mean()"
   ]
  },
  {
   "cell_type": "code",
   "execution_count": 31,
   "metadata": {},
   "outputs": [
    {
     "data": {
      "text/plain": [
       "0.61040339702760082"
      ]
     },
     "execution_count": 31,
     "metadata": {},
     "output_type": "execute_result"
    }
   ],
   "source": [
    "y_test.mean()"
   ]
  },
  {
   "cell_type": "markdown",
   "metadata": {},
   "source": [
    "Does our model out-perform chance?"
   ]
  },
  {
   "cell_type": "markdown",
   "metadata": {},
   "source": [
    "Yes! While it's not perfect, it's a lot better than chance. \n",
    "\n",
    "**Let's go back up to where we define our grid search object and use `StratifiedShuffleSplit` as an example.**"
   ]
  },
  {
   "cell_type": "markdown",
   "metadata": {},
   "source": [
    "### (if time permits) Exercise:\n",
    "\n",
    "Use `GridSearchCV` with `LogisticRegression` to see if this model out-performs your nearest neighbors model.\n",
    "\n",
    "* What hyperparameters can we tune for `LogisticRegression`? Let's tune `C` and `penalty`. Let's use a `np.logspace(-3,3,7)` for our `C` hyperparameter, and try both a `l1` and `l2` penalty. \n",
    "* Try using `ShuffleSplit` or `StratifiedShuffleSplit` with 5-fold cross-validation.\n",
    "\n",
    "What are the `best_params_`? The `best_score_`?"
   ]
  },
  {
   "cell_type": "code",
   "execution_count": 40,
   "metadata": {},
   "outputs": [],
   "source": [
    "lr_params = {\n",
    "    'C':np.logspace(-3,3,7),\n",
    "    'penalty':['l2','l1']\n",
    "}"
   ]
  },
  {
   "cell_type": "code",
   "execution_count": 41,
   "metadata": {},
   "outputs": [],
   "source": [
    "lrgs = GridSearchCV(LogisticRegression(n_jobs=-1),\n",
    "                    param_grid=lr_params,\n",
    "                    cv=StratifiedShuffleSplit(n_splits=5, test_size=.2, random_state=42),\n",
    "                    n_jobs=-1)"
   ]
  },
  {
   "cell_type": "code",
   "execution_count": 34,
   "metadata": {},
   "outputs": [
    {
     "data": {
      "text/plain": [
       "GridSearchCV(cv=StratifiedShuffleSplit(n_splits=5, random_state=42, test_size=0.2,\n",
       "            train_size=None),\n",
       "       error_score='raise',\n",
       "       estimator=LogisticRegression(C=1.0, class_weight=None, dual=False, fit_intercept=True,\n",
       "          intercept_scaling=1, max_iter=100, multi_class='ovr', n_jobs=-1,\n",
       "          penalty='l2', random_state=None, solver='liblinear', tol=0.0001,\n",
       "          verbose=0, warm_start=False),\n",
       "       fit_params={}, iid=True, n_jobs=-1,\n",
       "       param_grid={'C': array([  1.00000e-03,   1.00000e-02,   1.00000e-01,   1.00000e+00,\n",
       "         1.00000e+01,   1.00000e+02,   1.00000e+03]), 'penalty': ['l2', 'l1']},\n",
       "       pre_dispatch='2*n_jobs', refit=True, return_train_score=True,\n",
       "       scoring=None, verbose=0)"
      ]
     },
     "execution_count": 34,
     "metadata": {},
     "output_type": "execute_result"
    }
   ],
   "source": [
    "lrgs.fit(X_train_scaled, y_train)"
   ]
  },
  {
   "cell_type": "code",
   "execution_count": 35,
   "metadata": {},
   "outputs": [
    {
     "data": {
      "text/plain": [
       "0.68975265017667842"
      ]
     },
     "execution_count": 35,
     "metadata": {},
     "output_type": "execute_result"
    }
   ],
   "source": [
    "lrgs.best_score_"
   ]
  },
  {
   "cell_type": "code",
   "execution_count": 36,
   "metadata": {},
   "outputs": [
    {
     "data": {
      "text/plain": [
       "{'C': 0.10000000000000001, 'penalty': 'l1'}"
      ]
     },
     "execution_count": 36,
     "metadata": {},
     "output_type": "execute_result"
    }
   ],
   "source": [
    "lrgs.best_params_"
   ]
  },
  {
   "cell_type": "code",
   "execution_count": 37,
   "metadata": {},
   "outputs": [
    {
     "data": {
      "text/plain": [
       "0.70877565463552727"
      ]
     },
     "execution_count": 37,
     "metadata": {},
     "output_type": "execute_result"
    }
   ],
   "source": [
    "lrgs.score(X_train_scaled, y_train)"
   ]
  },
  {
   "cell_type": "code",
   "execution_count": 38,
   "metadata": {},
   "outputs": [
    {
     "data": {
      "text/plain": [
       "0.69320594479830144"
      ]
     },
     "execution_count": 38,
     "metadata": {},
     "output_type": "execute_result"
    }
   ],
   "source": [
    "lrgs.score(X_test_scaled, y_test)"
   ]
  },
  {
   "cell_type": "markdown",
   "metadata": {},
   "source": [
    "Let's plot out our mean test score over different values of `C` from our `.cv_results_`."
   ]
  },
  {
   "cell_type": "code",
   "execution_count": 39,
   "metadata": {},
   "outputs": [
    {
     "data": {
      "image/png": "[encoded data removed]",
      "text/plain": [
       "<matplotlib.figure.Figure at 0x7ff27846b630>"
      ]
     },
     "metadata": {},
     "output_type": "display_data"
    }
   ],
   "source": [
    "lrgs_results_df = pd.DataFrame(lrgs.cv_results_)\n",
    "\n",
    "(lrgs_results_df[lrgs_results_df['param_penalty'] == 'l1']\n",
    " [['mean_train_score','mean_test_score','param_C']]\n",
    " .plot(x='param_C'))\n",
    "\n",
    "plt.axvline(lrgs_results_df[lrgs_results_df['param_penalty'] == 'l1']['mean_test_score'].max(), c='r', ls='--', label = 'optimal C')\n",
    "\n",
    "plt.legend()\n",
    "plt.xscale('log')"
   ]
  },
  {
   "cell_type": "markdown",
   "metadata": {},
   "source": [
    "## In Conclusion...\n",
    "\n",
    "`GridSearchCV` performs two primary functions:\n",
    "\n",
    "* Cross-validation, to **identify bias and variance** during training\n",
    "* Grid Search, to **reduce bias and variance** by testing many combinations of model hyperparameters at once **without looking at our test data!**"
   ]
  },
  {
   "cell_type": "code",
   "execution_count": null,
   "metadata": {},
   "outputs": [],
   "source": []
  }
 ],
 "metadata": {
  "kernelspec": {
   "display_name": "Python 3",
   "language": "python",
   "name": "python3"
  },
  "language_info": {
   "codemirror_mode": {
    "name": "ipython",
    "version": 3
   },
   "file_extension": ".py",
   "mimetype": "text/x-python",
   "name": "python",
   "nbconvert_exporter": "python",
   "pygments_lexer": "ipython3",
   "version": "3.6.3"
  }
 },
 "nbformat": 4,
 "nbformat_minor": 2
}
