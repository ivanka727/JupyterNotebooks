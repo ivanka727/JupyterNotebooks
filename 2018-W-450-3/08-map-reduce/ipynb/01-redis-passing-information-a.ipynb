{
 "cells": [
  {
   "cell_type": "code",
<<<<<<< HEAD
   "execution_count": 1,
=======
   "execution_count": null,
>>>>>>> ae712c6dc7513a31cb5a47d30bf349a1f5ddf3f9
   "metadata": {},
   "outputs": [],
   "source": [
    "from redis import Redis\n",
    "REDIS = Redis('this_redis')"
   ]
  },
  {
   "cell_type": "markdown",
   "metadata": {},
   "source": [
    "# Redis\n",
    "\n",
    "One interesting use case is to have Redis track the evolution of some long running iterative process."
   ]
  },
  {
   "cell_type": "code",
<<<<<<< HEAD
   "execution_count": 2,
=======
   "execution_count": null,
>>>>>>> ae712c6dc7513a31cb5a47d30bf349a1f5ddf3f9
   "metadata": {},
   "outputs": [],
   "source": [
    "import time\n",
    "\n",
    "def some_iterative_process():\n",
    "    time.sleep(1)"
   ]
  },
  {
   "cell_type": "code",
<<<<<<< HEAD
   "execution_count": 3,
=======
   "execution_count": null,
>>>>>>> ae712c6dc7513a31cb5a47d30bf349a1f5ddf3f9
   "metadata": {},
   "outputs": [],
   "source": [
    "some_iterative_process()"
   ]
  },
  {
   "cell_type": "code",
<<<<<<< HEAD
   "execution_count": 4,
   "metadata": {},
   "outputs": [
    {
     "data": {
      "text/plain": [
       "True"
      ]
     },
     "execution_count": 4,
     "metadata": {},
     "output_type": "execute_result"
    }
   ],
=======
   "execution_count": null,
   "metadata": {},
   "outputs": [],
>>>>>>> ae712c6dc7513a31cb5a47d30bf349a1f5ddf3f9
   "source": [
    "count = 0\n",
    "REDIS.set('count', count)"
   ]
  },
  {
   "cell_type": "code",
<<<<<<< HEAD
   "execution_count": 5,
=======
   "execution_count": null,
>>>>>>> ae712c6dc7513a31cb5a47d30bf349a1f5ddf3f9
   "metadata": {},
   "outputs": [],
   "source": [
    "while count < 30:\n",
    "    some_iterative_process()\n",
    "    count = REDIS.incr('count')"
   ]
  },
  {
   "cell_type": "code",
<<<<<<< HEAD
   "execution_count": 6,
   "metadata": {},
   "outputs": [
    {
     "data": {
      "text/plain": [
       "30"
      ]
     },
     "execution_count": 6,
     "metadata": {},
     "output_type": "execute_result"
    }
   ],
=======
   "execution_count": null,
   "metadata": {},
   "outputs": [],
>>>>>>> ae712c6dc7513a31cb5a47d30bf349a1f5ddf3f9
   "source": [
    "count"
   ]
  },
  {
   "cell_type": "markdown",
   "metadata": {},
   "source": [
    "## Passing Parameters Between Processes\n",
    "\n",
    "We could also use Redis to pass parameters between procesess."
   ]
  },
  {
   "cell_type": "code",
<<<<<<< HEAD
   "execution_count": 7,
=======
   "execution_count": null,
>>>>>>> ae712c6dc7513a31cb5a47d30bf349a1f5ddf3f9
   "metadata": {},
   "outputs": [],
   "source": [
    "import numpy as np\n",
    "import json\n",
    "model_params = {'C':list(np.logspace(-3,3,7)),\n",
    "                'penalty':'l1',\n",
    "                'solver' : 'newton-cg'}"
   ]
  },
  {
   "cell_type": "code",
<<<<<<< HEAD
   "execution_count": 8,
   "metadata": {},
   "outputs": [
    {
     "data": {
      "text/plain": [
       "{'C': [0.001, 0.01, 0.10000000000000001, 1.0, 10.0, 100.0, 1000.0],\n",
       " 'penalty': 'l1',\n",
       " 'solver': 'newton-cg'}"
      ]
     },
     "execution_count": 8,
     "metadata": {},
     "output_type": "execute_result"
    }
   ],
=======
   "execution_count": null,
   "metadata": {},
   "outputs": [],
>>>>>>> ae712c6dc7513a31cb5a47d30bf349a1f5ddf3f9
   "source": [
    "model_params"
   ]
  },
  {
   "cell_type": "code",
<<<<<<< HEAD
   "execution_count": 9,
   "metadata": {},
   "outputs": [
    {
     "data": {
      "text/plain": [
       "dict"
      ]
     },
     "execution_count": 9,
     "metadata": {},
     "output_type": "execute_result"
    }
   ],
=======
   "execution_count": null,
   "metadata": {},
   "outputs": [],
>>>>>>> ae712c6dc7513a31cb5a47d30bf349a1f5ddf3f9
   "source": [
    "type(model_params)"
   ]
  },
  {
   "cell_type": "code",
<<<<<<< HEAD
   "execution_count": 10,
   "metadata": {},
   "outputs": [
    {
     "data": {
      "text/plain": [
       "'{\"C\": [0.001, 0.01, 0.1, 1.0, 10.0, 100.0, 1000.0], \"penalty\": \"l1\", \"solver\": \"newton-cg\"}'"
      ]
     },
     "execution_count": 10,
     "metadata": {},
     "output_type": "execute_result"
    }
   ],
   "source": [
    "json.dumps(model_params) # transfer the dictionary to a string"
=======
   "execution_count": null,
   "metadata": {},
   "outputs": [],
   "source": [
    "json.dumps(model_params)"
>>>>>>> ae712c6dc7513a31cb5a47d30bf349a1f5ddf3f9
   ]
  },
  {
   "cell_type": "code",
<<<<<<< HEAD
   "execution_count": 11,
   "metadata": {},
   "outputs": [
    {
     "data": {
      "text/plain": [
       "True"
      ]
     },
     "execution_count": 11,
     "metadata": {},
     "output_type": "execute_result"
    }
   ],
=======
   "execution_count": null,
   "metadata": {},
   "outputs": [],
>>>>>>> ae712c6dc7513a31cb5a47d30bf349a1f5ddf3f9
   "source": [
    "REDIS.set('model_params', json.dumps(model_params))"
   ]
  },
  {
   "cell_type": "markdown",
   "metadata": {},
   "source": [
    "## Passing Arrays Between Processes\n",
    "\n",
    "We could also use Redis to pass arrays between procesess."
   ]
  },
  {
   "cell_type": "code",
<<<<<<< HEAD
   "execution_count": 27,
=======
   "execution_count": null,
>>>>>>> ae712c6dc7513a31cb5a47d30bf349a1f5ddf3f9
   "metadata": {},
   "outputs": [],
   "source": [
    "A = np.array([[1,1,1],\n",
    "              [2,2,2],\n",
    "              [3,3,3]])"
   ]
  },
  {
   "cell_type": "code",
<<<<<<< HEAD
   "execution_count": 28,
=======
   "execution_count": null,
>>>>>>> ae712c6dc7513a31cb5a47d30bf349a1f5ddf3f9
   "metadata": {},
   "outputs": [],
   "source": [
    "n, m = A.shape"
   ]
  },
  {
   "cell_type": "code",
<<<<<<< HEAD
   "execution_count": 29,
   "metadata": {},
   "outputs": [],
   "source": [
    "encoded_A = A.ravel().tostring() # Ravel takes the matrix into a vector, use \"reshape\" to get back to original"
=======
   "execution_count": null,
   "metadata": {},
   "outputs": [],
   "source": [
    "encoded_A = A.ravel().tostring()"
>>>>>>> ae712c6dc7513a31cb5a47d30bf349a1f5ddf3f9
   ]
  },
  {
   "cell_type": "code",
<<<<<<< HEAD
   "execution_count": 30,
   "metadata": {},
   "outputs": [
    {
     "data": {
      "text/plain": [
       "True"
      ]
     },
     "execution_count": 30,
     "metadata": {},
     "output_type": "execute_result"
    }
   ],
=======
   "execution_count": null,
   "metadata": {},
   "outputs": [],
>>>>>>> ae712c6dc7513a31cb5a47d30bf349a1f5ddf3f9
   "source": [
    "REDIS.set('encoded_A', encoded_A)"
   ]
  },
  {
   "cell_type": "code",
<<<<<<< HEAD
   "execution_count": 25,
   "metadata": {
    "scrolled": true
   },
   "outputs": [
    {
     "data": {
      "text/plain": [
       "True"
      ]
     },
     "execution_count": 25,
     "metadata": {},
     "output_type": "execute_result"
    }
   ],
   "source": [
    "REDIS.set('A_n', n)\n",
    "REDIS.set('A_m', m)\n",
    "REDIS.set('A_type', 'int')"
=======
   "execution_count": null,
   "metadata": {
    "scrolled": true
   },
   "outputs": [],
   "source": [
    "REDIS.set('A_n', n)\n",
    "REDIS.set('A_m', m)"
>>>>>>> ae712c6dc7513a31cb5a47d30bf349a1f5ddf3f9
   ]
  },
  {
   "cell_type": "code",
<<<<<<< HEAD
   "execution_count": 17,
=======
   "execution_count": null,
>>>>>>> ae712c6dc7513a31cb5a47d30bf349a1f5ddf3f9
   "metadata": {},
   "outputs": [],
   "source": [
    "def matrix_to_redis(matrix, redis_client, key):\n",
    "    n, m = matrix.shape\n",
    "    encoded_mat = matrix.ravel().tostring()\n",
    "    redis_client.set(key, encoded_mat)\n",
    "    redis_client.set(key+'_n', n)\n",
    "    redis_client.set(key+'_m', m)"
   ]
  },
  {
   "cell_type": "code",
<<<<<<< HEAD
   "execution_count": 18,
=======
   "execution_count": null,
>>>>>>> ae712c6dc7513a31cb5a47d30bf349a1f5ddf3f9
   "metadata": {},
   "outputs": [],
   "source": [
    "matrix_to_redis(A, REDIS, 'new_A')"
   ]
  },
  {
   "cell_type": "markdown",
   "metadata": {},
   "source": [
    "This could also be done via the `pickle` library."
   ]
  },
  {
   "cell_type": "code",
<<<<<<< HEAD
   "execution_count": 19,
   "metadata": {},
   "outputs": [
    {
     "data": {
      "text/plain": [
       "True"
      ]
     },
     "execution_count": 19,
     "metadata": {},
     "output_type": "execute_result"
    }
   ],
=======
   "execution_count": null,
   "metadata": {},
   "outputs": [],
>>>>>>> ae712c6dc7513a31cb5a47d30bf349a1f5ddf3f9
   "source": [
    "import pickle\n",
    "import numpy as np\n",
    "\n",
    "B = np.random.randint(1,10,9).reshape(3,3)\n",
    "B_pkl = pickle.dumps(B)\n",
    "\n",
    "REDIS.set('B', B_pkl)"
   ]
  },
  {
   "cell_type": "code",
<<<<<<< HEAD
   "execution_count": 20,
   "metadata": {},
   "outputs": [
    {
     "data": {
      "text/plain": [
       "array([[8, 6, 2],\n",
       "       [4, 1, 1],\n",
       "       [4, 1, 2]])"
      ]
     },
     "execution_count": 20,
     "metadata": {},
     "output_type": "execute_result"
    }
   ],
=======
   "execution_count": null,
   "metadata": {},
   "outputs": [],
>>>>>>> ae712c6dc7513a31cb5a47d30bf349a1f5ddf3f9
   "source": [
    "B"
   ]
  }
 ],
 "metadata": {
  "kernelspec": {
   "display_name": "Python 3",
   "language": "python",
   "name": "python3"
  },
  "language_info": {
   "codemirror_mode": {
    "name": "ipython",
    "version": 3
   },
   "file_extension": ".py",
   "mimetype": "text/x-python",
   "name": "python",
   "nbconvert_exporter": "python",
   "pygments_lexer": "ipython3",
   "version": "3.6.3"
  }
 },
 "nbformat": 4,
 "nbformat_minor": 2
}
