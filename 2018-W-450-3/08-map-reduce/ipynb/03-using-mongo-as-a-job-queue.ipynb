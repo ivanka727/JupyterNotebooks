{
 "cells": [
  {
   "cell_type": "code",
<<<<<<< HEAD
   "execution_count": 1,
=======
   "execution_count": null,
>>>>>>> ae712c6dc7513a31cb5a47d30bf349a1f5ddf3f9
   "metadata": {},
   "outputs": [],
   "source": [
    "import pymongo\n",
    "from redis import Redis\n",
    "\n",
    "REDIS = Redis(host='this_redis')\n",
    "mongo_client = pymongo.MongoClient('this_mongo')\n",
    "corpus_db = mongo_client.corpus"
   ]
  },
  {
   "cell_type": "code",
<<<<<<< HEAD
   "execution_count": 2,
   "metadata": {
    "scrolled": false
   },
   "outputs": [
    {
     "name": "stdout",
     "output_type": "stream",
     "text": [
      "/home/jovyan\n"
     ]
    }
   ],
=======
   "execution_count": null,
   "metadata": {
    "scrolled": false
   },
   "outputs": [],
>>>>>>> ae712c6dc7513a31cb5a47d30bf349a1f5ddf3f9
   "source": [
    "cd .."
   ]
  },
  {
   "cell_type": "code",
<<<<<<< HEAD
   "execution_count": 3,
=======
   "execution_count": null,
>>>>>>> ae712c6dc7513a31cb5a47d30bf349a1f5ddf3f9
   "metadata": {},
   "outputs": [],
   "source": [
    "import pandas as pd"
   ]
  },
  {
   "cell_type": "code",
<<<<<<< HEAD
   "execution_count": 4,
=======
   "execution_count": null,
>>>>>>> ae712c6dc7513a31cb5a47d30bf349a1f5ddf3f9
   "metadata": {},
   "outputs": [],
   "source": [
    "corpus = pd.read_pickle('data/corpus.p')"
   ]
  },
  {
   "cell_type": "code",
<<<<<<< HEAD
   "execution_count": 22,
=======
   "execution_count": null,
>>>>>>> ae712c6dc7513a31cb5a47d30bf349a1f5ddf3f9
   "metadata": {},
   "outputs": [],
   "source": [
    "corpus_df_records = corpus.to_dict('records')"
   ]
  },
  {
   "cell_type": "code",
<<<<<<< HEAD
   "execution_count": 24,
   "metadata": {},
   "outputs": [
    {
     "data": {
      "text/plain": [
       "[{'sentence': 'In the great green room There was a telephone And a red balloon',\n",
       "  'title': 'Goodnight, Moon'},\n",
       " {'sentence': 'And a picture of-', 'title': 'Goodnight, Moon'},\n",
       " {'sentence': 'The cow jumping over the moon', 'title': 'Goodnight, Moon'},\n",
       " {'sentence': 'And there were three little bears sitting on chairs And two little kittens',\n",
       "  'title': 'Goodnight, Moon'}]"
      ]
     },
     "execution_count": 24,
     "metadata": {},
     "output_type": "execute_result"
    }
   ],
   "source": [
    "corpus_df_records[:4]"
   ]
  },
  {
   "cell_type": "code",
   "execution_count": 6,
   "metadata": {},
   "outputs": [
    {
     "data": {
      "text/plain": [
       "<pymongo.results.InsertManyResult at 0x7f3837842480>"
      ]
     },
     "execution_count": 6,
     "metadata": {},
     "output_type": "execute_result"
    }
   ],
   "source": [
    "corpus_db.documents.drop() # drop everything from the collection\n",
=======
   "execution_count": null,
   "metadata": {},
   "outputs": [],
   "source": [
    "corpus_db.documents.drop()\n",
>>>>>>> ae712c6dc7513a31cb5a47d30bf349a1f5ddf3f9
    "corpus_db.documents.insert_many(corpus_df_records)"
   ]
  },
  {
   "cell_type": "code",
<<<<<<< HEAD
   "execution_count": 7,
   "metadata": {},
   "outputs": [
    {
     "data": {
      "text/plain": [
       "170"
      ]
     },
     "execution_count": 7,
     "metadata": {},
     "output_type": "execute_result"
    }
   ],
=======
   "execution_count": null,
   "metadata": {},
   "outputs": [],
>>>>>>> ae712c6dc7513a31cb5a47d30bf349a1f5ddf3f9
   "source": [
    "corpus_db.documents.count()"
   ]
  },
  {
   "cell_type": "code",
<<<<<<< HEAD
   "execution_count": 8,
   "metadata": {},
   "outputs": [
    {
     "data": {
      "text/plain": [
       "{'_id': ObjectId('5a91c36d0a011800600794f6'),\n",
       " 'sentence': 'In the great green room There was a telephone And a red balloon',\n",
       " 'title': 'Goodnight, Moon'}"
      ]
     },
     "execution_count": 8,
     "metadata": {},
     "output_type": "execute_result"
    }
   ],
=======
   "execution_count": null,
   "metadata": {},
   "outputs": [],
>>>>>>> ae712c6dc7513a31cb5a47d30bf349a1f5ddf3f9
   "source": [
    "corpus_db.documents.find_one({'tokens' : {'$exists': False}})"
   ]
  },
  {
   "cell_type": "markdown",
   "metadata": {},
   "source": [
    "# `MAPPER`"
   ]
  },
  {
   "cell_type": "code",
<<<<<<< HEAD
   "execution_count": 9,
=======
   "execution_count": null,
>>>>>>> ae712c6dc7513a31cb5a47d30bf349a1f5ddf3f9
   "metadata": {},
   "outputs": [],
   "source": [
    "def tokenize(document):\n",
    "    return (document\n",
    "            .replace(',','')\n",
    "            .replace('.','')\n",
    "            .split())\n",
    "\n",
    "def MAPPER(document):\n",
    "    for word in tokenize(document):\n",
    "        yield (word, 1)"
   ]
  },
  {
   "cell_type": "code",
<<<<<<< HEAD
   "execution_count": 10,
   "metadata": {},
   "outputs": [
    {
     "data": {
      "text/plain": [
       "[('In', 1),\n",
       " ('the', 1),\n",
       " ('great', 1),\n",
       " ('green', 1),\n",
       " ('room', 1),\n",
       " ('There', 1),\n",
       " ('was', 1),\n",
       " ('a', 1),\n",
       " ('telephone', 1),\n",
       " ('And', 1),\n",
       " ('a', 1),\n",
       " ('red', 1),\n",
       " ('balloon', 1)]"
      ]
     },
     "execution_count": 10,
     "metadata": {},
     "output_type": "execute_result"
    }
   ],
=======
   "execution_count": null,
   "metadata": {},
   "outputs": [],
>>>>>>> ae712c6dc7513a31cb5a47d30bf349a1f5ddf3f9
   "source": [
    "doc = corpus_db.documents.find_one({'tokens' : {'$exists': False}})\n",
    "list(MAPPER(doc['sentence']))"
   ]
  },
  {
   "cell_type": "code",
<<<<<<< HEAD
   "execution_count": 11,
=======
   "execution_count": null,
>>>>>>> ae712c6dc7513a31cb5a47d30bf349a1f5ddf3f9
   "metadata": {},
   "outputs": [],
   "source": [
    "unprocessed_filter = {'processed' : {'$exists': False}}\n",
    "doc = corpus_db.documents.find_one(unprocessed_filter)\n",
    "while doc:\n",
    "    id_filter = { '_id' : doc['_id'] }\n",
    "    tokens = list(MAPPER(doc['sentence']))\n",
    "    update = { '$set' : {'tokens' : tokens, 'processed' : 'tokenized'} }\n",
    "    corpus_db.documents.update_one(id_filter, update)\n",
    "    doc = corpus_db.documents.find_one({'tokens' : {'$exists': False}})"
   ]
  },
  {
   "cell_type": "code",
<<<<<<< HEAD
   "execution_count": 12,
   "metadata": {},
   "outputs": [
    {
     "data": {
      "text/plain": [
       "{'_id': ObjectId('5a91c36d0a011800600794f6'),\n",
       " 'processed': 'tokenized',\n",
       " 'sentence': 'In the great green room There was a telephone And a red balloon',\n",
       " 'title': 'Goodnight, Moon',\n",
       " 'tokens': [['In', 1],\n",
       "  ['the', 1],\n",
       "  ['great', 1],\n",
       "  ['green', 1],\n",
       "  ['room', 1],\n",
       "  ['There', 1],\n",
       "  ['was', 1],\n",
       "  ['a', 1],\n",
       "  ['telephone', 1],\n",
       "  ['And', 1],\n",
       "  ['a', 1],\n",
       "  ['red', 1],\n",
       "  ['balloon', 1]]}"
      ]
     },
     "execution_count": 12,
     "metadata": {},
     "output_type": "execute_result"
    }
   ],
=======
   "execution_count": null,
   "metadata": {},
   "outputs": [],
>>>>>>> ae712c6dc7513a31cb5a47d30bf349a1f5ddf3f9
   "source": [
    "corpus_db.documents.find_one()"
   ]
  },
  {
   "cell_type": "markdown",
   "metadata": {},
   "source": [
    "# `COLLECTOR`"
   ]
  },
  {
   "cell_type": "code",
<<<<<<< HEAD
   "execution_count": 13,
=======
   "execution_count": null,
>>>>>>> ae712c6dc7513a31cb5a47d30bf349a1f5ddf3f9
   "metadata": {},
   "outputs": [],
   "source": [
    "def COLLECTOR(document, vocabulary):\n",
    "    for token in doc['tokens']:\n",
<<<<<<< HEAD
    "        REDIS.sadd(vocabulary, token[0]) # uniques\n",
    "        REDIS.rpush(token[0], token[1]) # or REDIS.rpush(*token)"
=======
    "        REDIS.sadd(vocabulary, token[0])\n",
    "        REDIS.rpush(*token)"
>>>>>>> ae712c6dc7513a31cb5a47d30bf349a1f5ddf3f9
   ]
  },
  {
   "cell_type": "code",
<<<<<<< HEAD
   "execution_count": 14,
   "metadata": {},
   "outputs": [
    {
     "data": {
      "text/plain": [
       "{'_id': ObjectId('5a91c36d0a011800600794f6'),\n",
       " 'processed': 'tokenized',\n",
       " 'sentence': 'In the great green room There was a telephone And a red balloon',\n",
       " 'title': 'Goodnight, Moon',\n",
       " 'tokens': [['In', 1],\n",
       "  ['the', 1],\n",
       "  ['great', 1],\n",
       "  ['green', 1],\n",
       "  ['room', 1],\n",
       "  ['There', 1],\n",
       "  ['was', 1],\n",
       "  ['a', 1],\n",
       "  ['telephone', 1],\n",
       "  ['And', 1],\n",
       "  ['a', 1],\n",
       "  ['red', 1],\n",
       "  ['balloon', 1]]}"
      ]
     },
     "execution_count": 14,
     "metadata": {},
     "output_type": "execute_result"
    }
   ],
=======
   "execution_count": null,
   "metadata": {},
   "outputs": [],
>>>>>>> ae712c6dc7513a31cb5a47d30bf349a1f5ddf3f9
   "source": [
    "tokenized_filter = {'processed' : 'tokenized'}\n",
    "doc = corpus_db.documents.find_one(tokenized_filter)\n",
    "doc"
   ]
  },
  {
   "cell_type": "code",
<<<<<<< HEAD
   "execution_count": 25,
=======
   "execution_count": null,
>>>>>>> ae712c6dc7513a31cb5a47d30bf349a1f5ddf3f9
   "metadata": {},
   "outputs": [],
   "source": [
    "while doc:\n",
    "    id_filter = { '_id' : doc['_id'] }\n",
    "    tokens = doc['tokens']\n",
    "    update = { '$set' : {'processed' : 'counted'} }\n",
    "    COLLECTOR(doc, 'corpus_vocab')\n",
    "    corpus_db.documents.update_one(id_filter, update)\n",
    "    doc = corpus_db.documents.find_one(tokenized_filter)"
   ]
  },
  {
   "cell_type": "code",
<<<<<<< HEAD
   "execution_count": 26,
   "metadata": {},
   "outputs": [
    {
     "data": {
      "text/plain": [
       "{b'\"',\n",
       " b'\"And',\n",
       " b'\"BE',\n",
       " b'\"Come',\n",
       " b'\"Could',\n",
       " b'\"Cut',\n",
       " b'\"Hello!\"',\n",
       " b'\"How',\n",
       " b'\"I',\n",
       " b'\"I\\'m',\n",
       " b'\"I\\'ve',\n",
       " b'\"I\\xe2\\x80\\x99LL',\n",
       " b'\"Look!',\n",
       " b'\"Me',\n",
       " b'\"My',\n",
       " b'\"No!\"',\n",
       " b'\"Not',\n",
       " b'\"Now',\n",
       " b'\"Oh',\n",
       " b'\"Shall',\n",
       " b'\"Somebody',\n",
       " b'\"The',\n",
       " b'\"Then',\n",
       " b'\"This',\n",
       " b'\"Tonight',\n",
       " b'\"WILD',\n",
       " b'\"Well\"',\n",
       " b'\"Why',\n",
       " b'\"You',\n",
       " b'\"and',\n",
       " b'\"but',\n",
       " b'\"come',\n",
       " b'\"hush\"',\n",
       " b'\"just',\n",
       " b'\"let',\n",
       " b'\"well',\n",
       " b'-',\n",
       " b'?\"',\n",
       " b'All',\n",
       " b'And',\n",
       " b'Besides',\n",
       " b'Boy',\n",
       " b'Boy\"',\n",
       " b'But',\n",
       " b'Can',\n",
       " b'Come',\n",
       " b'Corduroy',\n",
       " b\"Corduroy's\",\n",
       " b'Day',\n",
       " b'EAT',\n",
       " b'Good',\n",
       " b'Goodnight',\n",
       " b'He',\n",
       " b\"He's\",\n",
       " b'Her',\n",
       " b'I',\n",
       " b\"I'd\",\n",
       " b\"I'll\",\n",
       " b\"I've\",\n",
       " b'In',\n",
       " b'Last',\n",
       " b'Late',\n",
       " b'Lisa',\n",
       " b'Lisa\"',\n",
       " b'Max',\n",
       " b'Max\\xe2\\x80\\x99s',\n",
       " b'Mommy!\"',\n",
       " b'My',\n",
       " b'Off',\n",
       " b'Once',\n",
       " b'Over',\n",
       " b'POP!',\n",
       " b'Quite',\n",
       " b'STILL!\"',\n",
       " b'She',\n",
       " b'Sit',\n",
       " b'Suddenly',\n",
       " b'THING!\"',\n",
       " b'Take',\n",
       " b'That',\n",
       " b'The',\n",
       " b'Then',\n",
       " b'There',\n",
       " b\"There's\",\n",
       " b'UP!\"',\n",
       " b'When',\n",
       " b'YOU',\n",
       " b'You',\n",
       " b'a',\n",
       " b'above',\n",
       " b'accident',\n",
       " b'across',\n",
       " b'admiring',\n",
       " b'after',\n",
       " b'again',\n",
       " b'air',\n",
       " b'all',\n",
       " b'almost',\n",
       " b'alone',\n",
       " b'along',\n",
       " b'alongside',\n",
       " b'already',\n",
       " b'always',\n",
       " b'am',\n",
       " b'amazing',\n",
       " b'an',\n",
       " b'and',\n",
       " b'animals',\n",
       " b'another',\n",
       " b'answered',\n",
       " b'anything',\n",
       " b'apartment',\n",
       " b'apples',\n",
       " b'apples\"',\n",
       " b'are',\n",
       " b'are\"',\n",
       " b'arm',\n",
       " b'arms',\n",
       " b'around',\n",
       " b'as',\n",
       " b'asked',\n",
       " b'at',\n",
       " b'awake',\n",
       " b'away',\n",
       " b'back',\n",
       " b'balloon',\n",
       " b'bang',\n",
       " b'bank',\n",
       " b'be',\n",
       " b'bear',\n",
       " b'bears',\n",
       " b'became',\n",
       " b'bed',\n",
       " b'bed\"',\n",
       " b'beds',\n",
       " b'before',\n",
       " b'began',\n",
       " b'being',\n",
       " b'best',\n",
       " b'big',\n",
       " b'biggest',\n",
       " b'blinked',\n",
       " b'blinking',\n",
       " b'boat',\n",
       " b'boat\"',\n",
       " b'boat?\"',\n",
       " b'both',\n",
       " b'bowl',\n",
       " b'box',\n",
       " b'boy',\n",
       " b'branches',\n",
       " b'branches\"',\n",
       " b'bright',\n",
       " b'bring',\n",
       " b'brown',\n",
       " b'brush',\n",
       " b'build',\n",
       " b'busy',\n",
       " b'but',\n",
       " b'button',\n",
       " b'button!\"',\n",
       " b'button\"',\n",
       " b'buttons',\n",
       " b'buy',\n",
       " b'buying',\n",
       " b'by',\n",
       " b'called',\n",
       " b'came',\n",
       " b'can',\n",
       " b'cannot',\n",
       " b'carefully',\n",
       " b'carried',\n",
       " b'ceiling',\n",
       " b'chair',\n",
       " b'chairs',\n",
       " b'chest',\n",
       " b'children',\n",
       " b'city',\n",
       " b'claws',\n",
       " b'climb',\n",
       " b'climb\"',\n",
       " b'climbed',\n",
       " b'clocks',\n",
       " b'comb',\n",
       " b'come',\n",
       " b'comfortable',\n",
       " b'could',\n",
       " b'counted',\n",
       " b'cover',\n",
       " b'cow',\n",
       " b'crash',\n",
       " b'crash!',\n",
       " b'crawled',\n",
       " b'cried',\n",
       " b'crowns',\n",
       " b'customers',\n",
       " b'cut',\n",
       " b'dashing',\n",
       " b'day',\n",
       " b'dear\"',\n",
       " b'department',\n",
       " b'did',\n",
       " b\"didn't\",\n",
       " b\"doesn't\",\n",
       " b'dolls',\n",
       " b\"don't\",\n",
       " b'don\\xe2\\x80\\x99t',\n",
       " b'doors',\n",
       " b'down',\n",
       " b'drawers',\n",
       " b'ears',\n",
       " b'eat',\n",
       " b'eating',\n",
       " b'else',\n",
       " b'enormous',\n",
       " b'escalator',\n",
       " b'evening',\n",
       " b'ever',\n",
       " b'everyday',\n",
       " b'everywhere',\n",
       " b'exclaimed',\n",
       " b'eyes',\n",
       " b\"family's\",\n",
       " b'far',\n",
       " b'fastened\"',\n",
       " b'fell',\n",
       " b'felt',\n",
       " b'filled',\n",
       " b'find',\n",
       " b'first',\n",
       " b'flashed',\n",
       " b'flights',\n",
       " b'floor',\n",
       " b'for',\n",
       " b'forest',\n",
       " b'found',\n",
       " b'four',\n",
       " b'friend\"',\n",
       " b'frightened',\n",
       " b'from',\n",
       " b'full',\n",
       " b'fun',\n",
       " b'furniture',\n",
       " b'fuzzy',\n",
       " b'gasped',\n",
       " b'gather',\n",
       " b'gathered',\n",
       " b'gave',\n",
       " b'get',\n",
       " b'girl',\n",
       " b'girl-size',\n",
       " b'give',\n",
       " b'gnashed',\n",
       " b'go',\n",
       " b'go-',\n",
       " b'going',\n",
       " b'gone',\n",
       " b'gone\"',\n",
       " b'good',\n",
       " b'good-bye',\n",
       " b'goodnight',\n",
       " b'great',\n",
       " b'green',\n",
       " b'grew',\n",
       " b'grew-',\n",
       " b'guess',\n",
       " b'had',\n",
       " b'happy',\n",
       " b'happy\"',\n",
       " b'hardly',\n",
       " b'have',\n",
       " b'he',\n",
       " b\"he'd\",\n",
       " b'heard',\n",
       " b'her',\n",
       " b'here',\n",
       " b'here!\"',\n",
       " b\"here's\",\n",
       " b'herself',\n",
       " b'hide-and-go-seek',\n",
       " b'hiding',\n",
       " b'him',\n",
       " b'him!',\n",
       " b'himself',\n",
       " b'his',\n",
       " b'home',\n",
       " b'home!\"',\n",
       " b'home\"',\n",
       " b'hot',\n",
       " b'house',\n",
       " b'house\"',\n",
       " b'hug',\n",
       " b'hung',\n",
       " b'if',\n",
       " b'in',\n",
       " b'into',\n",
       " b'is',\n",
       " b'it',\n",
       " b'it\"',\n",
       " b'joy',\n",
       " b'jumping',\n",
       " b'just',\n",
       " b'keep',\n",
       " b'kind',\n",
       " b'king',\n",
       " b'kittens',\n",
       " b'know',\n",
       " b'lady',\n",
       " b'lamp',\n",
       " b'lamps',\n",
       " b'lap',\n",
       " b'large',\n",
       " b'leaves',\n",
       " b'left',\n",
       " b'light',\n",
       " b'like',\n",
       " b'little',\n",
       " b'live',\n",
       " b'lived',\n",
       " b'locked',\n",
       " b'lonely',\n",
       " b'long',\n",
       " b'look',\n",
       " b'looked',\n",
       " b'looking',\n",
       " b'lost',\n",
       " b'love',\n",
       " b'loved',\n",
       " b'made',\n",
       " b'magic',\n",
       " b'make',\n",
       " b'mattress',\n",
       " b'may',\n",
       " b'me',\n",
       " b'mischief',\n",
       " b'mittens',\n",
       " b'money',\n",
       " b'money?\"',\n",
       " b'moon',\n",
       " b'more',\n",
       " b'morning',\n",
       " b'most',\n",
       " b'mother',\n",
       " b'mountain\"',\n",
       " b'mountain?\"',\n",
       " b'mouse',\n",
       " b'moving',\n",
       " b'much',\n",
       " b'mush',\n",
       " b'must',\n",
       " b'my',\n",
       " b'need',\n",
       " b'new',\n",
       " b'next',\n",
       " b'night',\n",
       " b'no',\n",
       " b'nobody',\n",
       " b'noises',\n",
       " b'not',\n",
       " b'nothing',\n",
       " b'now\"',\n",
       " b'ocean',\n",
       " b'of',\n",
       " b'of-',\n",
       " b'off',\n",
       " b'often',\n",
       " b'old',\n",
       " b'older',\n",
       " b'on',\n",
       " b'once',\n",
       " b'one',\n",
       " b'only',\n",
       " b'onto',\n",
       " b'other',\n",
       " b'out',\n",
       " b'over',\n",
       " b'overalls',\n",
       " b'own',\n",
       " b'pair',\n",
       " b'palace',\n",
       " b'palace!\"',\n",
       " b'palace\"',\n",
       " b'paws',\n",
       " b'pick',\n",
       " b'picture',\n",
       " b'piggy',\n",
       " b'place',\n",
       " b'play',\n",
       " b'play\"',\n",
       " b'please',\n",
       " b'private',\n",
       " b'pulled',\n",
       " b'put',\n",
       " b'quiet',\n",
       " b'ran',\n",
       " b'reached',\n",
       " b'really',\n",
       " b'red',\n",
       " b'rest',\n",
       " b'rest\"',\n",
       " b'resting',\n",
       " b'right',\n",
       " b'roared',\n",
       " b'roars',\n",
       " b'rolled',\n",
       " b'room',\n",
       " b'round',\n",
       " b'rounds',\n",
       " b'rows',\n",
       " b'rumpus',\n",
       " b'sad',\n",
       " b'sadly',\n",
       " b'said',\n",
       " b'sail',\n",
       " b'sailed',\n",
       " b'saleslady',\n",
       " b'same',\n",
       " b'sat',\n",
       " b'saved',\n",
       " b'saw',\n",
       " b'searching',\n",
       " b'see',\n",
       " b'seemed',\n",
       " b'seen',\n",
       " b'sell',\n",
       " b'sent',\n",
       " b'set',\n",
       " b'sew',\n",
       " b'shade',\n",
       " b'she',\n",
       " b'shelf',\n",
       " b'shook',\n",
       " b'shoppers',\n",
       " b'shoulder',\n",
       " b'showed',\n",
       " b'shut',\n",
       " b'sighed',\n",
       " b'sight',\n",
       " b'sit',\n",
       " b'sitting',\n",
       " b'size',\n",
       " b'sleep',\n",
       " b'small',\n",
       " b'smelled',\n",
       " b'smile',\n",
       " b'so',\n",
       " b'so!\"',\n",
       " b'socks',\n",
       " b'sofas',\n",
       " b'some',\n",
       " b'someone',\n",
       " b'something',\n",
       " b'sorry',\n",
       " b'sorry\"',\n",
       " b'sorts',\n",
       " b'speak',\n",
       " b'spent',\n",
       " b'stairs',\n",
       " b'staring',\n",
       " b'stars',\n",
       " b'start!\"',\n",
       " b'stayed',\n",
       " b'stepped',\n",
       " b'sticking',\n",
       " b'still',\n",
       " b'stood',\n",
       " b'stop!\"',\n",
       " b'stopped',\n",
       " b'store',\n",
       " b'straight',\n",
       " b'straightening',\n",
       " b'strap',\n",
       " b'straps\"',\n",
       " b'stump',\n",
       " b'suit',\n",
       " b'supper',\n",
       " b'swing',\n",
       " b'tables',\n",
       " b'take',\n",
       " b'tall',\n",
       " b'tamed',\n",
       " b'teeth',\n",
       " b'telephone',\n",
       " b'terrible',\n",
       " b'thank',\n",
       " b'that',\n",
       " b'that!\"',\n",
       " b'the',\n",
       " b'their',\n",
       " b'them',\n",
       " b'then',\n",
       " b'there',\n",
       " b'they',\n",
       " b'thick',\n",
       " b'thing',\n",
       " b'things',\n",
       " b'think',\n",
       " b'this',\n",
       " b'three',\n",
       " b'through',\n",
       " b'tied',\n",
       " b'tight',\n",
       " b'till',\n",
       " b'time',\n",
       " b'tired',\n",
       " b'tired\"',\n",
       " b'to',\n",
       " b'today',\n",
       " b'too',\n",
       " b'too!\"',\n",
       " b'toppled',\n",
       " b'toy',\n",
       " b'tree',\n",
       " b'tree\"',\n",
       " b'trees\"',\n",
       " b'trick',\n",
       " b'tried',\n",
       " b'trunk',\n",
       " b'tucked',\n",
       " b'tumbled',\n",
       " b'two',\n",
       " b'under',\n",
       " b'until',\n",
       " b'up',\n",
       " b'up-we',\n",
       " b'upstairs?\"',\n",
       " b'very',\n",
       " b'vines',\n",
       " b'waited',\n",
       " b'waiting',\n",
       " b'waking',\n",
       " b'walked',\n",
       " b'walls',\n",
       " b'wandered',\n",
       " b'want',\n",
       " b'wanted',\n",
       " b'wanted\"',\n",
       " b'warm',\n",
       " b'warm\"',\n",
       " b'was',\n",
       " b'watched',\n",
       " b'watchman',\n",
       " b'waved',\n",
       " b'way',\n",
       " b'weak',\n",
       " b'weeks',\n",
       " b'went',\n",
       " b'went!',\n",
       " b'were',\n",
       " b'we\\xe2\\x80\\x99ll',\n",
       " b'what',\n",
       " b'when',\n",
       " b'where',\n",
       " b'whispered',\n",
       " b'whispering',\n",
       " b'who',\n",
       " b'wide',\n",
       " b'wife',\n",
       " b'wild',\n",
       " b'will',\n",
       " b'wish',\n",
       " b'with',\n",
       " b'without',\n",
       " b'wolf',\n",
       " b'wondered',\n",
       " b'wore',\n",
       " b'world',\n",
       " b'would',\n",
       " b'yanked',\n",
       " b'year',\n",
       " b'yellow',\n",
       " b'you',\n",
       " b'you\"',\n",
       " b\"you'll\",\n",
       " b\"you're\",\n",
       " b'you?\"',\n",
       " b'young',\n",
       " b'your',\n",
       " b'\\xe2\\x80\\x93'}"
      ]
     },
     "execution_count": 26,
     "metadata": {},
     "output_type": "execute_result"
    }
   ],
   "source": [
    "REDIS.smembers('corpus_vocab')"
   ]
  },
  {
   "cell_type": "code",
   "execution_count": 16,
   "metadata": {},
   "outputs": [
    {
     "data": {
      "text/plain": [
       "[b'\"I\\'m', b'almost', b'play\"', b'someone', b'a']"
      ]
     },
     "execution_count": 16,
     "metadata": {},
     "output_type": "execute_result"
    }
   ],
=======
   "execution_count": null,
   "metadata": {},
   "outputs": [],
>>>>>>> ae712c6dc7513a31cb5a47d30bf349a1f5ddf3f9
   "source": [
    "vocabulary = REDIS.smembers('corpus_vocab')\n",
    "list(vocabulary)[:5]"
   ]
  },
  {
   "cell_type": "code",
<<<<<<< HEAD
   "execution_count": 29,
   "metadata": {
    "scrolled": false
   },
   "outputs": [
    {
     "name": "stdout",
     "output_type": "stream",
     "text": [
      "b'\"I\\'m' [b'1', b'1']\n",
      "b'almost' [b'1']\n",
      "b'play\"' [b'1', b'1', b'1']\n",
      "b'someone' [b'1', b'1', b'1']\n",
      "b'a' [b'1', b'1', b'1', b'1', b'1', b'1', b'1', b'1', b'1', b'1', b'1', b'1', b'1', b'1', b'1', b'1', b'1', b'1', b'1', b'1', b'1', b'1', b'1', b'1', b'1', b'1', b'1', b'1', b'1', b'1', b'1', b'1', b'1', b'1', b'1', b'1', b'1', b'1', b'1', b'1', b'1', b'1', b'1', b'1', b'1', b'1', b'1', b'1', b'1', b'1', b'1', b'1', b'1', b'1', b'1', b'1']\n"
     ]
    }
   ],
   "source": [
    "for word in list(vocabulary)[:5]:\n",
    "    print(word, (REDIS.lrange(word, 0, -1)))"
=======
   "execution_count": null,
   "metadata": {
    "scrolled": false
   },
   "outputs": [],
   "source": [
    "for word in list(vocabulary)[:5]:\n",
    "    print(REDIS.lrange(word, 0, -1))"
>>>>>>> ae712c6dc7513a31cb5a47d30bf349a1f5ddf3f9
   ]
  },
  {
   "cell_type": "markdown",
   "metadata": {},
   "source": [
    "# `REDUCER`"
   ]
  },
  {
   "cell_type": "code",
<<<<<<< HEAD
   "execution_count": 18,
=======
   "execution_count": null,
>>>>>>> ae712c6dc7513a31cb5a47d30bf349a1f5ddf3f9
   "metadata": {},
   "outputs": [],
   "source": [
    "def REDUCER(word):\n",
    "    counts = [int(i) for i in REDIS.lrange(word, 0, -1)]\n",
    "    return sum(counts)"
   ]
  },
  {
   "cell_type": "code",
<<<<<<< HEAD
   "execution_count": 19,
=======
   "execution_count": null,
>>>>>>> ae712c6dc7513a31cb5a47d30bf349a1f5ddf3f9
   "metadata": {
    "scrolled": false
   },
   "outputs": [],
   "source": [
    "word_counts = []\n",
    "for word in vocabulary:\n",
    "    word_counts.append((word.decode(), REDUCER(word)))"
   ]
  },
  {
   "cell_type": "code",
<<<<<<< HEAD
   "execution_count": 20,
=======
   "execution_count": null,
>>>>>>> ae712c6dc7513a31cb5a47d30bf349a1f5ddf3f9
   "metadata": {},
   "outputs": [],
   "source": [
    "word_counts.sort(key=lambda x: x[1], reverse=True)"
   ]
  },
  {
   "cell_type": "code",
<<<<<<< HEAD
   "execution_count": 21,
   "metadata": {
    "scrolled": false
   },
   "outputs": [
    {
     "data": {
      "text/plain": [
       "[('and', 98),\n",
       " ('the', 97),\n",
       " ('a', 56),\n",
       " ('And', 41),\n",
       " ('said', 31),\n",
       " ('he', 30),\n",
       " ('to', 30),\n",
       " ('was', 24),\n",
       " ('tree', 21),\n",
       " ('boy', 20)]"
      ]
     },
     "execution_count": 21,
     "metadata": {},
     "output_type": "execute_result"
    }
   ],
=======
   "execution_count": null,
   "metadata": {
    "scrolled": false
   },
   "outputs": [],
>>>>>>> ae712c6dc7513a31cb5a47d30bf349a1f5ddf3f9
   "source": [
    "word_counts[:10]"
   ]
  },
  {
   "cell_type": "code",
   "execution_count": null,
   "metadata": {},
   "outputs": [],
   "source": []
  }
 ],
 "metadata": {
  "kernelspec": {
   "display_name": "Python 3",
   "language": "python",
   "name": "python3"
  },
  "language_info": {
   "codemirror_mode": {
    "name": "ipython",
    "version": 3
   },
   "file_extension": ".py",
   "mimetype": "text/x-python",
   "name": "python",
   "nbconvert_exporter": "python",
   "pygments_lexer": "ipython3",
   "version": "3.6.3"
  }
 },
 "nbformat": 4,
 "nbformat_minor": 2
}
