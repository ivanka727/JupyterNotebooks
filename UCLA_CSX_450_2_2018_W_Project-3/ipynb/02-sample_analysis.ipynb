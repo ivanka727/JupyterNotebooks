{
 "cells": [
  {
   "cell_type": "markdown",
   "metadata": {},
   "source": [
    "#### 1. Select a small sample (3-5 points) of the dataset.\n",
    "#### 2. Compare this sample to the dataset as a whole.\n",
    "#### 3. Convert the samples into Z-scores.\n",
    "#### 4. Prepare a heatmap and a barplot of your sample points and of the sample point z-scores."
   ]
  },
  {
   "cell_type": "code",
   "execution_count": 131,
   "metadata": {},
   "outputs": [],
   "source": [
    "Boston <- read.table('Boston.csv', sep=\",\", header = T)"
   ]
  },
  {
   "cell_type": "code",
   "execution_count": 132,
   "metadata": {},
   "outputs": [],
   "source": [
    "Boston$X <- NULL"
   ]
  },
  {
   "cell_type": "code",
   "execution_count": 133,
   "metadata": {},
   "outputs": [
    {
     "data": {
      "text/html": [
       "<ol class=list-inline>\n",
       "\t<li>506</li>\n",
       "\t<li>14</li>\n",
       "</ol>\n"
      ],
      "text/latex": [
       "\\begin{enumerate*}\n",
       "\\item 506\n",
       "\\item 14\n",
       "\\end{enumerate*}\n"
      ],
      "text/markdown": [
       "1. 506\n",
       "2. 14\n",
       "\n",
       "\n"
      ],
      "text/plain": [
       "[1] 506  14"
      ]
     },
     "metadata": {},
     "output_type": "display_data"
    },
    {
     "name": "stdout",
     "output_type": "stream",
     "text": [
      "'data.frame':\t506 obs. of  14 variables:\n",
      " $ crim   : num  0.00632 0.02731 0.02729 0.03237 0.06905 ...\n",
      " $ zn     : num  18 0 0 0 0 0 12.5 12.5 12.5 12.5 ...\n",
      " $ indus  : num  2.31 7.07 7.07 2.18 2.18 2.18 7.87 7.87 7.87 7.87 ...\n",
      " $ chas   : int  0 0 0 0 0 0 0 0 0 0 ...\n",
      " $ nox    : num  0.538 0.469 0.469 0.458 0.458 0.458 0.524 0.524 0.524 0.524 ...\n",
      " $ rm     : num  6.58 6.42 7.18 7 7.15 ...\n",
      " $ age    : num  65.2 78.9 61.1 45.8 54.2 58.7 66.6 96.1 100 85.9 ...\n",
      " $ dis    : num  4.09 4.97 4.97 6.06 6.06 ...\n",
      " $ rad    : int  1 2 2 3 3 3 5 5 5 5 ...\n",
      " $ tax    : int  296 242 242 222 222 222 311 311 311 311 ...\n",
      " $ ptratio: num  15.3 17.8 17.8 18.7 18.7 18.7 15.2 15.2 15.2 15.2 ...\n",
      " $ black  : num  397 397 393 395 397 ...\n",
      " $ lstat  : num  4.98 9.14 4.03 2.94 5.33 ...\n",
      " $ medv   : num  24 21.6 34.7 33.4 36.2 28.7 22.9 27.1 16.5 18.9 ...\n"
     ]
    }
   ],
   "source": [
    "dim(Boston); str(Boston)"
   ]
  },
  {
   "cell_type": "code",
   "execution_count": 134,
   "metadata": {},
   "outputs": [],
   "source": [
    "Boston$medv <- NULL\n",
    "Boston_features = Filter(is.numeric, Boston)"
   ]
  },
  {
   "cell_type": "code",
   "execution_count": 135,
   "metadata": {},
   "outputs": [
    {
     "data": {
      "text/html": [
       "<table>\n",
       "<thead><tr><th scope=col>feature</th><th scope=col>mean_</th></tr></thead>\n",
       "<tbody>\n",
       "\t<tr><td>crim        </td><td>  3.61352356</td></tr>\n",
       "\t<tr><td>zn          </td><td> 11.36363636</td></tr>\n",
       "\t<tr><td>indus       </td><td> 11.13677866</td></tr>\n",
       "\t<tr><td>chas        </td><td>  0.06916996</td></tr>\n",
       "\t<tr><td>nox         </td><td>  0.55469506</td></tr>\n",
       "\t<tr><td>rm          </td><td>  6.28463439</td></tr>\n",
       "\t<tr><td>age         </td><td> 68.57490119</td></tr>\n",
       "\t<tr><td>dis         </td><td>  3.79504269</td></tr>\n",
       "\t<tr><td>rad         </td><td>  9.54940711</td></tr>\n",
       "\t<tr><td>tax         </td><td>408.23715415</td></tr>\n",
       "\t<tr><td>ptratio     </td><td> 18.45553360</td></tr>\n",
       "\t<tr><td>black       </td><td>356.67403162</td></tr>\n",
       "\t<tr><td>lstat       </td><td> 12.65306324</td></tr>\n",
       "</tbody>\n",
       "</table>\n"
      ],
      "text/latex": [
       "\\begin{tabular}{r|ll}\n",
       " feature & mean\\_\\\\\n",
       "\\hline\n",
       "\t crim         &   3.61352356\\\\\n",
       "\t zn           &  11.36363636\\\\\n",
       "\t indus        &  11.13677866\\\\\n",
       "\t chas         &   0.06916996\\\\\n",
       "\t nox          &   0.55469506\\\\\n",
       "\t rm           &   6.28463439\\\\\n",
       "\t age          &  68.57490119\\\\\n",
       "\t dis          &   3.79504269\\\\\n",
       "\t rad          &   9.54940711\\\\\n",
       "\t tax          & 408.23715415\\\\\n",
       "\t ptratio      &  18.45553360\\\\\n",
       "\t black        & 356.67403162\\\\\n",
       "\t lstat        &  12.65306324\\\\\n",
       "\\end{tabular}\n"
      ],
      "text/markdown": [
       "\n",
       "feature | mean_ | \n",
       "|---|---|---|---|---|---|---|---|---|---|---|---|---|\n",
       "| crim         |   3.61352356 | \n",
       "| zn           |  11.36363636 | \n",
       "| indus        |  11.13677866 | \n",
       "| chas         |   0.06916996 | \n",
       "| nox          |   0.55469506 | \n",
       "| rm           |   6.28463439 | \n",
       "| age          |  68.57490119 | \n",
       "| dis          |   3.79504269 | \n",
       "| rad          |   9.54940711 | \n",
       "| tax          | 408.23715415 | \n",
       "| ptratio      |  18.45553360 | \n",
       "| black        | 356.67403162 | \n",
       "| lstat        |  12.65306324 | \n",
       "\n",
       "\n"
      ],
      "text/plain": [
       "   feature mean_       \n",
       "1  crim      3.61352356\n",
       "2  zn       11.36363636\n",
       "3  indus    11.13677866\n",
       "4  chas      0.06916996\n",
       "5  nox       0.55469506\n",
       "6  rm        6.28463439\n",
       "7  age      68.57490119\n",
       "8  dis       3.79504269\n",
       "9  rad       9.54940711\n",
       "10 tax     408.23715415\n",
       "11 ptratio  18.45553360\n",
       "12 black   356.67403162\n",
       "13 lstat    12.65306324"
      ]
     },
     "metadata": {},
     "output_type": "display_data"
    }
   ],
   "source": [
    "sum_vals = data.frame(feature=colnames(Boston_features))\n",
    "sum_vals['mean_'] = sapply(Boston_features, mean)\n",
    "sum_vals"
   ]
  },
  {
   "cell_type": "code",
   "execution_count": 136,
   "metadata": {},
   "outputs": [
    {
     "name": "stderr",
     "output_type": "stream",
     "text": [
      "Updating HTML index of packages in '.Library'\n",
      "Making 'packages.html' ... done\n"
     ]
    }
   ],
   "source": [
    "install.packages('moments')"
   ]
  },
  {
   "cell_type": "code",
   "execution_count": 137,
   "metadata": {},
   "outputs": [],
   "source": [
    "library(moments)"
   ]
  },
  {
   "cell_type": "code",
   "execution_count": 138,
   "metadata": {},
   "outputs": [
    {
     "data": {
      "text/html": [
       "<dl class=dl-horizontal>\n",
       "\t<dt>crim</dt>\n",
       "\t\t<dd>5.20765238785972</dd>\n",
       "\t<dt>zn</dt>\n",
       "\t\t<dd>2.21906305714843</dd>\n",
       "\t<dt>indus</dt>\n",
       "\t\t<dd>0.294146276844185</dd>\n",
       "\t<dt>chas</dt>\n",
       "\t\t<dd>3.39579929264252</dd>\n",
       "\t<dt>nox</dt>\n",
       "\t\t<dd>0.727144159774032</dd>\n",
       "\t<dt>rm</dt>\n",
       "\t\t<dd>0.402414668024963</dd>\n",
       "\t<dt>age</dt>\n",
       "\t\t<dd>-0.597185594801614</dd>\n",
       "\t<dt>dis</dt>\n",
       "\t\t<dd>1.00877875651523</dd>\n",
       "\t<dt>rad</dt>\n",
       "\t\t<dd>1.0018334924537</dd>\n",
       "\t<dt>tax</dt>\n",
       "\t\t<dd>0.667968268723777</dd>\n",
       "\t<dt>ptratio</dt>\n",
       "\t\t<dd>-0.799944532036745</dd>\n",
       "\t<dt>black</dt>\n",
       "\t\t<dd>-2.88179834526277</dd>\n",
       "\t<dt>lstat</dt>\n",
       "\t\t<dd>0.903770743134614</dd>\n",
       "</dl>\n"
      ],
      "text/latex": [
       "\\begin{description*}\n",
       "\\item[crim] 5.20765238785972\n",
       "\\item[zn] 2.21906305714843\n",
       "\\item[indus] 0.294146276844185\n",
       "\\item[chas] 3.39579929264252\n",
       "\\item[nox] 0.727144159774032\n",
       "\\item[rm] 0.402414668024963\n",
       "\\item[age] -0.597185594801614\n",
       "\\item[dis] 1.00877875651523\n",
       "\\item[rad] 1.0018334924537\n",
       "\\item[tax] 0.667968268723777\n",
       "\\item[ptratio] -0.799944532036745\n",
       "\\item[black] -2.88179834526277\n",
       "\\item[lstat] 0.903770743134614\n",
       "\\end{description*}\n"
      ],
      "text/markdown": [
       "crim\n",
       ":   5.20765238785972zn\n",
       ":   2.21906305714843indus\n",
       ":   0.294146276844185chas\n",
       ":   3.39579929264252nox\n",
       ":   0.727144159774032rm\n",
       ":   0.402414668024963age\n",
       ":   -0.597185594801614dis\n",
       ":   1.00877875651523rad\n",
       ":   1.0018334924537tax\n",
       ":   0.667968268723777ptratio\n",
       ":   -0.799944532036745black\n",
       ":   -2.88179834526277lstat\n",
       ":   0.903770743134614\n",
       "\n"
      ],
      "text/plain": [
       "      crim         zn      indus       chas        nox         rm        age \n",
       " 5.2076524  2.2190631  0.2941463  3.3957993  0.7271442  0.4024147 -0.5971856 \n",
       "       dis        rad        tax    ptratio      black      lstat \n",
       " 1.0087788  1.0018335  0.6679683 -0.7999445 -2.8817983  0.9037707 "
      ]
     },
     "metadata": {},
     "output_type": "display_data"
    }
   ],
   "source": [
    "skewness(Boston)"
   ]
  },
  {
   "cell_type": "code",
   "execution_count": 198,
   "metadata": {},
   "outputs": [
    {
     "data": {
      "text/html": [
       "<table>\n",
       "<thead><tr><th scope=col>feature</th><th scope=col>mean_</th><th scope=col>sd_</th><th scope=col>skewness_</th><th scope=col>kurtosis_</th></tr></thead>\n",
       "<tbody>\n",
       "\t<tr><td>crim        </td><td>  3.61352356</td><td>  8.6015451 </td><td> 5.2076524  </td><td>39.752786   </td></tr>\n",
       "\t<tr><td>zn          </td><td> 11.36363636</td><td> 23.3224530 </td><td> 2.2190631  </td><td> 6.979949   </td></tr>\n",
       "\t<tr><td>indus       </td><td> 11.13677866</td><td>  6.8603529 </td><td> 0.2941463  </td><td> 1.766782   </td></tr>\n",
       "\t<tr><td>chas        </td><td>  0.06916996</td><td>  0.2539940 </td><td> 3.3957993  </td><td>12.531453   </td></tr>\n",
       "\t<tr><td>nox         </td><td>  0.55469506</td><td>  0.1158777 </td><td> 0.7271442  </td><td> 2.924136   </td></tr>\n",
       "\t<tr><td>rm          </td><td>  6.28463439</td><td>  0.7026171 </td><td> 0.4024147  </td><td> 4.861027   </td></tr>\n",
       "\t<tr><td>age         </td><td> 68.57490119</td><td> 28.1488614 </td><td>-0.5971856  </td><td> 2.029986   </td></tr>\n",
       "\t<tr><td>dis         </td><td>  3.79504269</td><td>  2.1057101 </td><td> 1.0087788  </td><td> 3.471299   </td></tr>\n",
       "\t<tr><td>rad         </td><td>  9.54940711</td><td>  8.7072594 </td><td> 1.0018335  </td><td> 2.129479   </td></tr>\n",
       "\t<tr><td>tax         </td><td>408.23715415</td><td>168.5371161 </td><td> 0.6679683  </td><td> 1.857015   </td></tr>\n",
       "\t<tr><td>ptratio     </td><td> 18.45553360</td><td>  2.1649455 </td><td>-0.7999445  </td><td> 2.705884   </td></tr>\n",
       "\t<tr><td>black       </td><td>356.67403162</td><td> 91.2948644 </td><td>-2.8817983  </td><td>10.143769   </td></tr>\n",
       "\t<tr><td>lstat       </td><td> 12.65306324</td><td>  7.1410615 </td><td> 0.9037707  </td><td> 3.476545   </td></tr>\n",
       "</tbody>\n",
       "</table>\n"
      ],
      "text/latex": [
       "\\begin{tabular}{r|lllll}\n",
       " feature & mean\\_ & sd\\_ & skewness\\_ & kurtosis\\_\\\\\n",
       "\\hline\n",
       "\t crim         &   3.61352356 &   8.6015451  &  5.2076524   & 39.752786   \\\\\n",
       "\t zn           &  11.36363636 &  23.3224530  &  2.2190631   &  6.979949   \\\\\n",
       "\t indus        &  11.13677866 &   6.8603529  &  0.2941463   &  1.766782   \\\\\n",
       "\t chas         &   0.06916996 &   0.2539940  &  3.3957993   & 12.531453   \\\\\n",
       "\t nox          &   0.55469506 &   0.1158777  &  0.7271442   &  2.924136   \\\\\n",
       "\t rm           &   6.28463439 &   0.7026171  &  0.4024147   &  4.861027   \\\\\n",
       "\t age          &  68.57490119 &  28.1488614  & -0.5971856   &  2.029986   \\\\\n",
       "\t dis          &   3.79504269 &   2.1057101  &  1.0087788   &  3.471299   \\\\\n",
       "\t rad          &   9.54940711 &   8.7072594  &  1.0018335   &  2.129479   \\\\\n",
       "\t tax          & 408.23715415 & 168.5371161  &  0.6679683   &  1.857015   \\\\\n",
       "\t ptratio      &  18.45553360 &   2.1649455  & -0.7999445   &  2.705884   \\\\\n",
       "\t black        & 356.67403162 &  91.2948644  & -2.8817983   & 10.143769   \\\\\n",
       "\t lstat        &  12.65306324 &   7.1410615  &  0.9037707   &  3.476545   \\\\\n",
       "\\end{tabular}\n"
      ],
      "text/markdown": [
       "\n",
       "feature | mean_ | sd_ | skewness_ | kurtosis_ | \n",
       "|---|---|---|---|---|---|---|---|---|---|---|---|---|\n",
       "| crim         |   3.61352356 |   8.6015451  |  5.2076524   | 39.752786    | \n",
       "| zn           |  11.36363636 |  23.3224530  |  2.2190631   |  6.979949    | \n",
       "| indus        |  11.13677866 |   6.8603529  |  0.2941463   |  1.766782    | \n",
       "| chas         |   0.06916996 |   0.2539940  |  3.3957993   | 12.531453    | \n",
       "| nox          |   0.55469506 |   0.1158777  |  0.7271442   |  2.924136    | \n",
       "| rm           |   6.28463439 |   0.7026171  |  0.4024147   |  4.861027    | \n",
       "| age          |  68.57490119 |  28.1488614  | -0.5971856   |  2.029986    | \n",
       "| dis          |   3.79504269 |   2.1057101  |  1.0087788   |  3.471299    | \n",
       "| rad          |   9.54940711 |   8.7072594  |  1.0018335   |  2.129479    | \n",
       "| tax          | 408.23715415 | 168.5371161  |  0.6679683   |  1.857015    | \n",
       "| ptratio      |  18.45553360 |   2.1649455  | -0.7999445   |  2.705884    | \n",
       "| black        | 356.67403162 |  91.2948644  | -2.8817983   | 10.143769    | \n",
       "| lstat        |  12.65306324 |   7.1410615  |  0.9037707   |  3.476545    | \n",
       "\n",
       "\n"
      ],
      "text/plain": [
       "   feature mean_        sd_         skewness_  kurtosis_\n",
       "1  crim      3.61352356   8.6015451  5.2076524 39.752786\n",
       "2  zn       11.36363636  23.3224530  2.2190631  6.979949\n",
       "3  indus    11.13677866   6.8603529  0.2941463  1.766782\n",
       "4  chas      0.06916996   0.2539940  3.3957993 12.531453\n",
       "5  nox       0.55469506   0.1158777  0.7271442  2.924136\n",
       "6  rm        6.28463439   0.7026171  0.4024147  4.861027\n",
       "7  age      68.57490119  28.1488614 -0.5971856  2.029986\n",
       "8  dis       3.79504269   2.1057101  1.0087788  3.471299\n",
       "9  rad       9.54940711   8.7072594  1.0018335  2.129479\n",
       "10 tax     408.23715415 168.5371161  0.6679683  1.857015\n",
       "11 ptratio  18.45553360   2.1649455 -0.7999445  2.705884\n",
       "12 black   356.67403162  91.2948644 -2.8817983 10.143769\n",
       "13 lstat    12.65306324   7.1410615  0.9037707  3.476545"
      ]
     },
     "metadata": {},
     "output_type": "display_data"
    }
   ],
   "source": [
    "stats = data.frame(feature=colnames(Boston))\n",
    "stats['mean_'] = sapply(Boston, mean)\n",
    "stats['sd_'] = sapply(Boston, sd)\n",
    "stats['skewness_'] = sapply(Boston, skewness)\n",
    "stats['kurtosis_'] = sapply(Boston, kurtosis)\n",
    "stats"
   ]
  },
  {
   "cell_type": "code",
   "execution_count": 199,
   "metadata": {},
   "outputs": [],
   "source": [
    "library(dplyr, warn.conflicts = FALSE)"
   ]
  },
  {
   "cell_type": "code",
   "execution_count": 200,
   "metadata": {},
   "outputs": [],
   "source": [
    "sample_1pct_1 = sample_n(Boston, 5)"
   ]
  },
  {
   "cell_type": "code",
   "execution_count": 201,
   "metadata": {},
   "outputs": [
    {
     "data": {
      "text/html": [
       "<dl class=dl-horizontal>\n",
       "\t<dt>crim</dt>\n",
       "\t\t<dd>0.125806</dd>\n",
       "\t<dt>zn</dt>\n",
       "\t\t<dd>14</dd>\n",
       "\t<dt>indus</dt>\n",
       "\t\t<dd>7.07</dd>\n",
       "\t<dt>chas</dt>\n",
       "\t\t<dd>0</dd>\n",
       "\t<dt>nox</dt>\n",
       "\t\t<dd>0.4698</dd>\n",
       "\t<dt>rm</dt>\n",
       "\t\t<dd>6.0112</dd>\n",
       "\t<dt>age</dt>\n",
       "\t\t<dd>50.28</dd>\n",
       "\t<dt>dis</dt>\n",
       "\t\t<dd>4.48768</dd>\n",
       "\t<dt>rad</dt>\n",
       "\t\t<dd>5.6</dd>\n",
       "\t<dt>tax</dt>\n",
       "\t\t<dd>339.6</dd>\n",
       "\t<dt>ptratio</dt>\n",
       "\t\t<dd>18.22</dd>\n",
       "\t<dt>black</dt>\n",
       "\t\t<dd>386.996</dd>\n",
       "\t<dt>lstat</dt>\n",
       "\t\t<dd>10.946</dd>\n",
       "</dl>\n"
      ],
      "text/latex": [
       "\\begin{description*}\n",
       "\\item[crim] 0.125806\n",
       "\\item[zn] 14\n",
       "\\item[indus] 7.07\n",
       "\\item[chas] 0\n",
       "\\item[nox] 0.4698\n",
       "\\item[rm] 6.0112\n",
       "\\item[age] 50.28\n",
       "\\item[dis] 4.48768\n",
       "\\item[rad] 5.6\n",
       "\\item[tax] 339.6\n",
       "\\item[ptratio] 18.22\n",
       "\\item[black] 386.996\n",
       "\\item[lstat] 10.946\n",
       "\\end{description*}\n"
      ],
      "text/markdown": [
       "crim\n",
       ":   0.125806zn\n",
       ":   14indus\n",
       ":   7.07chas\n",
       ":   0nox\n",
       ":   0.4698rm\n",
       ":   6.0112age\n",
       ":   50.28dis\n",
       ":   4.48768rad\n",
       ":   5.6tax\n",
       ":   339.6ptratio\n",
       ":   18.22black\n",
       ":   386.996lstat\n",
       ":   10.946\n",
       "\n"
      ],
      "text/plain": [
       "      crim         zn      indus       chas        nox         rm        age \n",
       "  0.125806  14.000000   7.070000   0.000000   0.469800   6.011200  50.280000 \n",
       "       dis        rad        tax    ptratio      black      lstat \n",
       "  4.487680   5.600000 339.600000  18.220000 386.996000  10.946000 "
      ]
     },
     "metadata": {},
     "output_type": "display_data"
    }
   ],
   "source": [
    "colMeans(sample_1pct_1)"
   ]
  },
  {
   "cell_type": "code",
   "execution_count": 202,
   "metadata": {},
   "outputs": [
    {
     "data": {
      "text/html": [
       "<dl class=dl-horizontal>\n",
       "\t<dt>crim</dt>\n",
       "\t\t<dd>-3.48771755731225</dd>\n",
       "\t<dt>zn</dt>\n",
       "\t\t<dd>2.63636363636364</dd>\n",
       "\t<dt>indus</dt>\n",
       "\t\t<dd>-4.06677865612648</dd>\n",
       "\t<dt>chas</dt>\n",
       "\t\t<dd>-0.0691699604743083</dd>\n",
       "\t<dt>nox</dt>\n",
       "\t\t<dd>-0.0848950592885376</dd>\n",
       "\t<dt>rm</dt>\n",
       "\t\t<dd>-0.273434387351779</dd>\n",
       "\t<dt>age</dt>\n",
       "\t\t<dd>-18.2949011857708</dd>\n",
       "\t<dt>dis</dt>\n",
       "\t\t<dd>0.692637312252965</dd>\n",
       "\t<dt>rad</dt>\n",
       "\t\t<dd>-3.94940711462451</dd>\n",
       "\t<dt>tax</dt>\n",
       "\t\t<dd>-68.6371541501976</dd>\n",
       "\t<dt>ptratio</dt>\n",
       "\t\t<dd>-0.235533596837946</dd>\n",
       "\t<dt>black</dt>\n",
       "\t\t<dd>30.3219683794466</dd>\n",
       "\t<dt>lstat</dt>\n",
       "\t\t<dd>-1.70706324110672</dd>\n",
       "</dl>\n"
      ],
      "text/latex": [
       "\\begin{description*}\n",
       "\\item[crim] -3.48771755731225\n",
       "\\item[zn] 2.63636363636364\n",
       "\\item[indus] -4.06677865612648\n",
       "\\item[chas] -0.0691699604743083\n",
       "\\item[nox] -0.0848950592885376\n",
       "\\item[rm] -0.273434387351779\n",
       "\\item[age] -18.2949011857708\n",
       "\\item[dis] 0.692637312252965\n",
       "\\item[rad] -3.94940711462451\n",
       "\\item[tax] -68.6371541501976\n",
       "\\item[ptratio] -0.235533596837946\n",
       "\\item[black] 30.3219683794466\n",
       "\\item[lstat] -1.70706324110672\n",
       "\\end{description*}\n"
      ],
      "text/markdown": [
       "crim\n",
       ":   -3.48771755731225zn\n",
       ":   2.63636363636364indus\n",
       ":   -4.06677865612648chas\n",
       ":   -0.0691699604743083nox\n",
       ":   -0.0848950592885376rm\n",
       ":   -0.273434387351779age\n",
       ":   -18.2949011857708dis\n",
       ":   0.692637312252965rad\n",
       ":   -3.94940711462451tax\n",
       ":   -68.6371541501976ptratio\n",
       ":   -0.235533596837946black\n",
       ":   30.3219683794466lstat\n",
       ":   -1.70706324110672\n",
       "\n"
      ],
      "text/plain": [
       "        crim           zn        indus         chas          nox           rm \n",
       " -3.48771756   2.63636364  -4.06677866  -0.06916996  -0.08489506  -0.27343439 \n",
       "         age          dis          rad          tax      ptratio        black \n",
       "-18.29490119   0.69263731  -3.94940711 -68.63715415  -0.23553360  30.32196838 \n",
       "       lstat \n",
       " -1.70706324 "
      ]
     },
     "metadata": {},
     "output_type": "display_data"
    }
   ],
   "source": [
    "colMeans(sample_1pct_1) - stats$mean_"
   ]
  },
  {
   "cell_type": "code",
   "execution_count": 203,
   "metadata": {},
   "outputs": [
    {
     "data": {
      "text/html": [
       "<dl class=dl-horizontal>\n",
       "\t<dt>crim</dt>\n",
       "\t\t<dd>-0.40547570402788</dd>\n",
       "\t<dt>zn</dt>\n",
       "\t\t<dd>0.113039723436623</dd>\n",
       "\t<dt>indus</dt>\n",
       "\t\t<dd>-0.592794378242936</dd>\n",
       "\t<dt>chas</dt>\n",
       "\t\t<dd>-0.272329067679209</dd>\n",
       "\t<dt>nox</dt>\n",
       "\t\t<dd>-0.732626528789677</dd>\n",
       "\t<dt>rm</dt>\n",
       "\t\t<dd>-0.389165550420038</dd>\n",
       "\t<dt>age</dt>\n",
       "\t\t<dd>-0.649933967889865</dd>\n",
       "\t<dt>dis</dt>\n",
       "\t\t<dd>0.328932887530087</dd>\n",
       "\t<dt>rad</dt>\n",
       "\t\t<dd>-0.453576371202764</dd>\n",
       "\t<dt>tax</dt>\n",
       "\t\t<dd>-0.407252454277285</dd>\n",
       "\t<dt>ptratio</dt>\n",
       "\t\t<dd>-0.108794237202716</dd>\n",
       "\t<dt>black</dt>\n",
       "\t\t<dd>0.332132246254898</dd>\n",
       "\t<dt>lstat</dt>\n",
       "\t\t<dd>-0.23904894789015</dd>\n",
       "</dl>\n"
      ],
      "text/latex": [
       "\\begin{description*}\n",
       "\\item[crim] -0.40547570402788\n",
       "\\item[zn] 0.113039723436623\n",
       "\\item[indus] -0.592794378242936\n",
       "\\item[chas] -0.272329067679209\n",
       "\\item[nox] -0.732626528789677\n",
       "\\item[rm] -0.389165550420038\n",
       "\\item[age] -0.649933967889865\n",
       "\\item[dis] 0.328932887530087\n",
       "\\item[rad] -0.453576371202764\n",
       "\\item[tax] -0.407252454277285\n",
       "\\item[ptratio] -0.108794237202716\n",
       "\\item[black] 0.332132246254898\n",
       "\\item[lstat] -0.23904894789015\n",
       "\\end{description*}\n"
      ],
      "text/markdown": [
       "crim\n",
       ":   -0.40547570402788zn\n",
       ":   0.113039723436623indus\n",
       ":   -0.592794378242936chas\n",
       ":   -0.272329067679209nox\n",
       ":   -0.732626528789677rm\n",
       ":   -0.389165550420038age\n",
       ":   -0.649933967889865dis\n",
       ":   0.328932887530087rad\n",
       ":   -0.453576371202764tax\n",
       ":   -0.407252454277285ptratio\n",
       ":   -0.108794237202716black\n",
       ":   0.332132246254898lstat\n",
       ":   -0.23904894789015\n",
       "\n"
      ],
      "text/plain": [
       "      crim         zn      indus       chas        nox         rm        age \n",
       "-0.4054757  0.1130397 -0.5927944 -0.2723291 -0.7326265 -0.3891656 -0.6499340 \n",
       "       dis        rad        tax    ptratio      black      lstat \n",
       " 0.3289329 -0.4535764 -0.4072525 -0.1087942  0.3321322 -0.2390489 "
      ]
     },
     "metadata": {},
     "output_type": "display_data"
    }
   ],
   "source": [
    "(colMeans(sample_1pct_1) - stats$mean_)/stats$sd_"
   ]
  },
  {
   "cell_type": "code",
   "execution_count": 204,
   "metadata": {},
   "outputs": [
    {
     "data": {
      "text/html": [
       "<table>\n",
       "<thead><tr><th scope=col>feature</th><th scope=col>mean_</th><th scope=col>sd_</th><th scope=col>skewness_</th><th scope=col>kurtosis_</th><th scope=col>mean_sample</th><th scope=col>sd_sample</th><th scope=col>skewness_sample</th><th scope=col>kurtosis_sample</th></tr></thead>\n",
       "<tbody>\n",
       "\t<tr><td>crim        </td><td>  3.61352356</td><td>  8.6015451 </td><td> 5.2076524  </td><td>39.752786   </td><td>  0.125806  </td><td> 0.03541548 </td><td>-0.4494110  </td><td>1.423192    </td></tr>\n",
       "\t<tr><td>zn          </td><td> 11.36363636</td><td> 23.3224530 </td><td> 2.2190631  </td><td> 6.979949   </td><td> 14.000000  </td><td>20.43281674 </td><td> 0.7499911  </td><td>1.888576    </td></tr>\n",
       "\t<tr><td>indus       </td><td> 11.13677866</td><td>  6.8603529 </td><td> 0.2941463  </td><td> 1.766782   </td><td>  7.070000  </td><td> 3.19389261 </td><td> 0.1820852  </td><td>1.380456    </td></tr>\n",
       "\t<tr><td>chas        </td><td>  0.06916996</td><td>  0.2539940 </td><td> 3.3957993  </td><td>12.531453   </td><td>  0.000000  </td><td> 0.00000000 </td><td>       NaN  </td><td>     NaN    </td></tr>\n",
       "\t<tr><td>nox         </td><td>  0.55469506</td><td>  0.1158777 </td><td> 0.7271442  </td><td> 2.924136   </td><td>  0.469800  </td><td> 0.05337790 </td><td> 0.4809974  </td><td>1.843617    </td></tr>\n",
       "\t<tr><td>rm          </td><td>  6.28463439</td><td>  0.7026171 </td><td> 0.4024147  </td><td> 4.861027   </td><td>  6.011200  </td><td> 0.44077795 </td><td> 1.3420288  </td><td>3.024544    </td></tr>\n",
       "\t<tr><td>age         </td><td> 68.57490119</td><td> 28.1488614 </td><td>-0.5971856  </td><td> 2.029986   </td><td> 50.280000  </td><td>20.96728404 </td><td>-0.8267638  </td><td>2.087073    </td></tr>\n",
       "\t<tr><td>dis         </td><td>  3.79504269</td><td>  2.1057101 </td><td> 1.0087788  </td><td> 3.471299   </td><td>  4.487680  </td><td> 1.79181964 </td><td> 0.6878937  </td><td>2.039278    </td></tr>\n",
       "\t<tr><td>rad         </td><td>  9.54940711</td><td>  8.7072594 </td><td> 1.0018335  </td><td> 2.129479   </td><td>  5.600000  </td><td> 1.51657509 </td><td> 0.7500308  </td><td>2.363894    </td></tr>\n",
       "\t<tr><td>tax         </td><td>408.23715415</td><td>168.5371161 </td><td> 0.6679683  </td><td> 1.857015   </td><td>339.600000  </td><td>70.54998228 </td><td> 0.4395577  </td><td>1.374971    </td></tr>\n",
       "\t<tr><td>ptratio     </td><td> 18.45553360</td><td>  2.1649455 </td><td>-0.7999445  </td><td> 2.705884   </td><td> 18.220000  </td><td> 1.83084680 </td><td>-1.0244633  </td><td>2.499115    </td></tr>\n",
       "\t<tr><td>black       </td><td>356.67403162</td><td> 91.2948644 </td><td>-2.8817983  </td><td>10.143769   </td><td>386.996000  </td><td> 8.99355491 </td><td>-0.3483808  </td><td>1.200492    </td></tr>\n",
       "\t<tr><td>lstat       </td><td> 12.65306324</td><td>  7.1410615 </td><td> 0.9037707  </td><td> 3.476545   </td><td> 10.946000  </td><td> 2.80646219 </td><td>-0.6213105  </td><td>2.047709    </td></tr>\n",
       "</tbody>\n",
       "</table>\n"
      ],
      "text/latex": [
       "\\begin{tabular}{r|lllllllll}\n",
       " feature & mean\\_ & sd\\_ & skewness\\_ & kurtosis\\_ & mean\\_sample & sd\\_sample & skewness\\_sample & kurtosis\\_sample\\\\\n",
       "\\hline\n",
       "\t crim         &   3.61352356 &   8.6015451  &  5.2076524   & 39.752786    &   0.125806   &  0.03541548  & -0.4494110   & 1.423192    \\\\\n",
       "\t zn           &  11.36363636 &  23.3224530  &  2.2190631   &  6.979949    &  14.000000   & 20.43281674  &  0.7499911   & 1.888576    \\\\\n",
       "\t indus        &  11.13677866 &   6.8603529  &  0.2941463   &  1.766782    &   7.070000   &  3.19389261  &  0.1820852   & 1.380456    \\\\\n",
       "\t chas         &   0.06916996 &   0.2539940  &  3.3957993   & 12.531453    &   0.000000   &  0.00000000  &        NaN   &      NaN    \\\\\n",
       "\t nox          &   0.55469506 &   0.1158777  &  0.7271442   &  2.924136    &   0.469800   &  0.05337790  &  0.4809974   & 1.843617    \\\\\n",
       "\t rm           &   6.28463439 &   0.7026171  &  0.4024147   &  4.861027    &   6.011200   &  0.44077795  &  1.3420288   & 3.024544    \\\\\n",
       "\t age          &  68.57490119 &  28.1488614  & -0.5971856   &  2.029986    &  50.280000   & 20.96728404  & -0.8267638   & 2.087073    \\\\\n",
       "\t dis          &   3.79504269 &   2.1057101  &  1.0087788   &  3.471299    &   4.487680   &  1.79181964  &  0.6878937   & 2.039278    \\\\\n",
       "\t rad          &   9.54940711 &   8.7072594  &  1.0018335   &  2.129479    &   5.600000   &  1.51657509  &  0.7500308   & 2.363894    \\\\\n",
       "\t tax          & 408.23715415 & 168.5371161  &  0.6679683   &  1.857015    & 339.600000   & 70.54998228  &  0.4395577   & 1.374971    \\\\\n",
       "\t ptratio      &  18.45553360 &   2.1649455  & -0.7999445   &  2.705884    &  18.220000   &  1.83084680  & -1.0244633   & 2.499115    \\\\\n",
       "\t black        & 356.67403162 &  91.2948644  & -2.8817983   & 10.143769    & 386.996000   &  8.99355491  & -0.3483808   & 1.200492    \\\\\n",
       "\t lstat        &  12.65306324 &   7.1410615  &  0.9037707   &  3.476545    &  10.946000   &  2.80646219  & -0.6213105   & 2.047709    \\\\\n",
       "\\end{tabular}\n"
      ],
      "text/markdown": [
       "\n",
       "feature | mean_ | sd_ | skewness_ | kurtosis_ | mean_sample | sd_sample | skewness_sample | kurtosis_sample | \n",
       "|---|---|---|---|---|---|---|---|---|---|---|---|---|\n",
       "| crim         |   3.61352356 |   8.6015451  |  5.2076524   | 39.752786    |   0.125806   |  0.03541548  | -0.4494110   | 1.423192     | \n",
       "| zn           |  11.36363636 |  23.3224530  |  2.2190631   |  6.979949    |  14.000000   | 20.43281674  |  0.7499911   | 1.888576     | \n",
       "| indus        |  11.13677866 |   6.8603529  |  0.2941463   |  1.766782    |   7.070000   |  3.19389261  |  0.1820852   | 1.380456     | \n",
       "| chas         |   0.06916996 |   0.2539940  |  3.3957993   | 12.531453    |   0.000000   |  0.00000000  |        NaN   |      NaN     | \n",
       "| nox          |   0.55469506 |   0.1158777  |  0.7271442   |  2.924136    |   0.469800   |  0.05337790  |  0.4809974   | 1.843617     | \n",
       "| rm           |   6.28463439 |   0.7026171  |  0.4024147   |  4.861027    |   6.011200   |  0.44077795  |  1.3420288   | 3.024544     | \n",
       "| age          |  68.57490119 |  28.1488614  | -0.5971856   |  2.029986    |  50.280000   | 20.96728404  | -0.8267638   | 2.087073     | \n",
       "| dis          |   3.79504269 |   2.1057101  |  1.0087788   |  3.471299    |   4.487680   |  1.79181964  |  0.6878937   | 2.039278     | \n",
       "| rad          |   9.54940711 |   8.7072594  |  1.0018335   |  2.129479    |   5.600000   |  1.51657509  |  0.7500308   | 2.363894     | \n",
       "| tax          | 408.23715415 | 168.5371161  |  0.6679683   |  1.857015    | 339.600000   | 70.54998228  |  0.4395577   | 1.374971     | \n",
       "| ptratio      |  18.45553360 |   2.1649455  | -0.7999445   |  2.705884    |  18.220000   |  1.83084680  | -1.0244633   | 2.499115     | \n",
       "| black        | 356.67403162 |  91.2948644  | -2.8817983   | 10.143769    | 386.996000   |  8.99355491  | -0.3483808   | 1.200492     | \n",
       "| lstat        |  12.65306324 |   7.1410615  |  0.9037707   |  3.476545    |  10.946000   |  2.80646219  | -0.6213105   | 2.047709     | \n",
       "\n",
       "\n"
      ],
      "text/plain": [
       "   feature mean_        sd_         skewness_  kurtosis_ mean_sample\n",
       "1  crim      3.61352356   8.6015451  5.2076524 39.752786   0.125806 \n",
       "2  zn       11.36363636  23.3224530  2.2190631  6.979949  14.000000 \n",
       "3  indus    11.13677866   6.8603529  0.2941463  1.766782   7.070000 \n",
       "4  chas      0.06916996   0.2539940  3.3957993 12.531453   0.000000 \n",
       "5  nox       0.55469506   0.1158777  0.7271442  2.924136   0.469800 \n",
       "6  rm        6.28463439   0.7026171  0.4024147  4.861027   6.011200 \n",
       "7  age      68.57490119  28.1488614 -0.5971856  2.029986  50.280000 \n",
       "8  dis       3.79504269   2.1057101  1.0087788  3.471299   4.487680 \n",
       "9  rad       9.54940711   8.7072594  1.0018335  2.129479   5.600000 \n",
       "10 tax     408.23715415 168.5371161  0.6679683  1.857015 339.600000 \n",
       "11 ptratio  18.45553360   2.1649455 -0.7999445  2.705884  18.220000 \n",
       "12 black   356.67403162  91.2948644 -2.8817983 10.143769 386.996000 \n",
       "13 lstat    12.65306324   7.1410615  0.9037707  3.476545  10.946000 \n",
       "   sd_sample   skewness_sample kurtosis_sample\n",
       "1   0.03541548 -0.4494110      1.423192       \n",
       "2  20.43281674  0.7499911      1.888576       \n",
       "3   3.19389261  0.1820852      1.380456       \n",
       "4   0.00000000        NaN           NaN       \n",
       "5   0.05337790  0.4809974      1.843617       \n",
       "6   0.44077795  1.3420288      3.024544       \n",
       "7  20.96728404 -0.8267638      2.087073       \n",
       "8   1.79181964  0.6878937      2.039278       \n",
       "9   1.51657509  0.7500308      2.363894       \n",
       "10 70.54998228  0.4395577      1.374971       \n",
       "11  1.83084680 -1.0244633      2.499115       \n",
       "12  8.99355491 -0.3483808      1.200492       \n",
       "13  2.80646219 -0.6213105      2.047709       "
      ]
     },
     "metadata": {},
     "output_type": "display_data"
    }
   ],
   "source": [
    "stats['mean_sample'] = sapply(sample_1pct_1, mean)\n",
    "stats['sd_sample'] = sapply(sample_1pct_1, sd)\n",
    "stats['skewness_sample'] = sapply(sample_1pct_1, skewness)\n",
    "stats['kurtosis_sample'] = sapply(sample_1pct_1, kurtosis)\n",
    "stats"
   ]
  },
  {
   "cell_type": "code",
   "execution_count": 168,
   "metadata": {},
   "outputs": [
    {
     "name": "stderr",
     "output_type": "stream",
     "text": [
      "Using feature as id variables\n"
     ]
    },
    {
     "data": {},
     "metadata": {},
     "output_type": "display_data"
    },
    {
     "data": {
      "image/png": "[encoded data removed]",
      "text/plain": [
       "plot without title"
      ]
     },
     "metadata": {},
     "output_type": "display_data"
    }
   ],
   "source": [
    "library(reshape2)\n",
    "library(ggplot2)\n",
    "\n",
    "ggplot(melt(stats[,c('feature','mean_','mean_sample')]), aes(x = feature, y = value, fill = variable)) + \n",
    "    geom_bar(stat = \"identity\", width=0.5, position = \"dodge\")"
   ]
  },
  {
   "cell_type": "code",
   "execution_count": 169,
   "metadata": {},
   "outputs": [
    {
     "name": "stderr",
     "output_type": "stream",
     "text": [
      "Using feature as id variables\n",
      "Warning message:\n",
      "“Removed 2 rows containing missing values (geom_bar).”"
     ]
    },
    {
     "data": {},
     "metadata": {},
     "output_type": "display_data"
    },
    {
     "data": {
      "image/png": "[encoded data removed]",
      "text/plain": [
       "plot without title"
      ]
     },
     "metadata": {},
     "output_type": "display_data"
    }
   ],
   "source": [
    "library(reshape2)\n",
    "library(ggplot2)\n",
    "\n",
    "ggplot(melt(stats[,c('feature','skewness_','skewness_sample')]), aes(x = feature, y = value, fill = variable)) + \n",
    "    geom_bar(stat = \"identity\", width=0.5, position = \"dodge\")"
   ]
  },
  {
   "cell_type": "code",
   "execution_count": 173,
   "metadata": {},
   "outputs": [
    {
     "name": "stderr",
     "output_type": "stream",
     "text": [
      "Using feature as id variables\n",
      "Warning message:\n",
      "“Removed 2 rows containing missing values (geom_bar).”"
     ]
    },
    {
     "data": {},
     "metadata": {},
     "output_type": "display_data"
    },
    {
     "data": {
      "image/png": "[encoded data removed]",
      "text/plain": [
       "plot without title"
      ]
     },
     "metadata": {},
     "output_type": "display_data"
    }
   ],
   "source": [
    "library(reshape2)\n",
    "library(ggplot2)\n",
    "\n",
    "ggplot(melt(stats[,c('feature','kurtosis_','kurtosis_sample')]), aes(x = feature, y = value, fill = variable)) + \n",
    "    geom_bar(stat = \"identity\", width=0.5, position = \"dodge\")"
   ]
  },
  {
   "cell_type": "code",
   "execution_count": 189,
   "metadata": {},
   "outputs": [],
   "source": [
    "sample_1pct_1_matrix <- data.matrix(sample_1pct_1)\n"
   ]
  },
  {
   "cell_type": "code",
   "execution_count": 207,
   "metadata": {},
   "outputs": [
    {
     "data": {
      "image/png": "[encoded data removed]",
      "text/plain": [
       "plot without title"
      ]
     },
     "metadata": {},
     "output_type": "display_data"
    }
   ],
   "source": [
    "sample_1pct_1_heatmap <- heatmap(sample_1pct_1_matrix, Rowv=NA, Colv=NA, \n",
    "col = heat.colors(256), scale=\"column\", margins=c(5,10))"
   ]
  },
  {
   "cell_type": "markdown",
   "metadata": {},
   "source": [
    "#### 5. Prepare a speculation as to what each sample might represent."
   ]
  },
  {
   "cell_type": "markdown",
   "metadata": {},
   "source": [
    " 1) Sample 334 might be a pretty old small house in rural area which is not very safe.\n",
    " \n",
    " 2) Sample 452 might in a neighborhood with high ratio of black, very safe area but far away from highways.\n",
    " \n",
    " 3) Sample 328 might be an old small house which is far from the employment centres.\n",
    " \n",
    " 4) Sample 162 might be a house with few rooms and it is in an area with small population, but with a high ratio of purpil teacher.\n",
    " \n",
    " 5) Sample 324 may have more rooms in a not very safe rural area."
   ]
  },
  {
   "cell_type": "markdown",
   "metadata": {},
   "source": [
    "#### 6. Discuss whether values across categories be easily compared."
   ]
  },
  {
   "cell_type": "markdown",
   "metadata": {},
   "source": [
    "It's hard to compare across categories because the values are in different range, but after scaling the values, they become comparable. "
   ]
  },
  {
   "cell_type": "code",
   "execution_count": null,
   "metadata": {},
   "outputs": [],
   "source": []
  }
 ],
 "metadata": {
  "kernelspec": {
   "display_name": "R",
   "language": "R",
   "name": "ir"
  },
  "language_info": {
   "codemirror_mode": "r",
   "file_extension": ".r",
   "mimetype": "text/x-r-source",
   "name": "R",
   "pygments_lexer": "r",
   "version": "3.3.2"
  }
 },
 "nbformat": 4,
 "nbformat_minor": 2
}
