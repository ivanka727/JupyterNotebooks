{
 "cells": [
  {
   "cell_type": "code",
   "execution_count": 1,
   "metadata": {},
   "outputs": [
    {
     "name": "stdout",
     "output_type": "stream",
     "text": [
      "/home/jovyan/2018-W-450-4/09-ML-pipelines\n"
     ]
    }
   ],
   "source": [
    "cd .. "
   ]
  },
  {
   "cell_type": "code",
   "execution_count": 2,
   "metadata": {},
   "outputs": [],
   "source": [
    "run __init__.py"
   ]
  },
  {
   "cell_type": "code",
   "execution_count": 3,
   "metadata": {},
   "outputs": [],
   "source": [
    "run src/load_data.py"
   ]
  },
  {
   "cell_type": "code",
   "execution_count": 4,
   "metadata": {},
   "outputs": [],
   "source": [
    "adult_train_df = data['adult']['train']['engineered']\n",
    "adult_train_target = data['adult']['train']['labels']"
   ]
  },
  {
   "cell_type": "code",
   "execution_count": 5,
   "metadata": {},
   "outputs": [],
   "source": [
    "from sklearn.model_selection import train_test_split"
   ]
  },
  {
   "cell_type": "code",
   "execution_count": 6,
   "metadata": {},
   "outputs": [],
   "source": [
    "X_train, X_test, y_train, y_test = train_test_split(adult_train_df,\n",
    "                                                    adult_train_target, \n",
    "                                                    test_size=0.25, \n",
    "                                                    random_state=42,\n",
    "                                                    stratify=adult_train_target)"
   ]
  },
  {
   "cell_type": "code",
   "execution_count": 7,
   "metadata": {},
   "outputs": [],
   "source": [
    "from sklearn.preprocessing import StandardScaler\n",
    "\n",
    "scaler = StandardScaler()\n",
    "\n",
    "X_train_scaled = scaler.fit_transform(X_train)\n",
    "X_test_scaled = scaler.transform(X_test)"
   ]
  },
  {
   "cell_type": "code",
   "execution_count": 15,
   "metadata": {},
   "outputs": [],
   "source": [
    "sample_perc = 20\n",
    "X_train_scaled = pd.DataFrame(X_train_scaled, columns=X_train.columns)\n",
    "y_train = pd.Series(y_train)"
   ]
  },
  {
   "cell_type": "code",
   "execution_count": 16,
   "metadata": {},
   "outputs": [],
   "source": [
    "X_train_scaled_sample = X_train_scaled.sample(frac=sample_perc/100)\n",
    "y_train_sample = y_train.iloc[X_train_scaled_sample.index]"
   ]
  },
  {
   "cell_type": "code",
   "execution_count": 17,
   "metadata": {},
   "outputs": [],
   "source": [
    "from sklearn.neighbors import KNeighborsClassifier\n",
    "from sklearn.linear_model import LogisticRegression\n",
    "from sklearn.tree import DecisionTreeClassifier\n",
    "from sklearn.svm import SVC\n",
    "\n",
    "from sklearn.model_selection import GridSearchCV"
   ]
  },
  {
   "cell_type": "code",
   "execution_count": 18,
   "metadata": {},
   "outputs": [],
   "source": [
    "knc_params = { 'n_neighbors' : range(5,51,10) }"
   ]
  },
  {
   "cell_type": "code",
   "execution_count": 21,
   "metadata": {},
   "outputs": [],
   "source": [
    "knc_gs = GridSearchCV(KNeighborsClassifier(), \n",
    "                      param_grid=knc_params,\n",
    "                      cv=5,\n",
    "                      return_train_score=True,\n",
    "                      scoring='f1', n_jobs=-1) # n_jobs=-1 means to use all the processing power so it will work faster"
   ]
  },
  {
   "cell_type": "code",
   "execution_count": 22,
   "metadata": {},
   "outputs": [
    {
     "data": {
      "text/plain": [
       "GridSearchCV(cv=5, error_score='raise',\n",
       "       estimator=KNeighborsClassifier(algorithm='auto', leaf_size=30, metric='minkowski',\n",
       "           metric_params=None, n_jobs=1, n_neighbors=5, p=2,\n",
       "           weights='uniform'),\n",
       "       fit_params={}, iid=True, n_jobs=-1,\n",
       "       param_grid={'n_neighbors': range(5, 51, 10)},\n",
       "       pre_dispatch='2*n_jobs', refit=True, return_train_score=True,\n",
       "       scoring='f1', verbose=0)"
      ]
     },
     "execution_count": 22,
     "metadata": {},
     "output_type": "execute_result"
    }
   ],
   "source": [
    "knc_gs.fit(X_train_scaled_sample, y_train_sample)"
   ]
  },
  {
   "cell_type": "code",
   "execution_count": 23,
   "metadata": {},
   "outputs": [
    {
     "data": {
      "text/html": [
       "<div>\n",
       "<table border=\"1\" class=\"dataframe\">\n",
       "  <thead>\n",
       "    <tr style=\"text-align: right;\">\n",
       "      <th></th>\n",
       "      <th>0</th>\n",
       "      <th>1</th>\n",
       "      <th>2</th>\n",
       "      <th>3</th>\n",
       "      <th>4</th>\n",
       "    </tr>\n",
       "  </thead>\n",
       "  <tbody>\n",
       "    <tr>\n",
       "      <th>mean_fit_time</th>\n",
       "      <td>0.0268836</td>\n",
       "      <td>0.0216894</td>\n",
       "      <td>0.0217181</td>\n",
       "      <td>0.0218466</td>\n",
       "      <td>0.0216738</td>\n",
       "    </tr>\n",
       "    <tr>\n",
       "      <th>mean_score_time</th>\n",
       "      <td>0.349766</td>\n",
       "      <td>0.377687</td>\n",
       "      <td>0.388337</td>\n",
       "      <td>0.389294</td>\n",
       "      <td>0.391184</td>\n",
       "    </tr>\n",
       "    <tr>\n",
       "      <th>mean_test_score</th>\n",
       "      <td>0.557687</td>\n",
       "      <td>0.608298</td>\n",
       "      <td>0.588457</td>\n",
       "      <td>0.582152</td>\n",
       "      <td>0.584608</td>\n",
       "    </tr>\n",
       "    <tr>\n",
       "      <th>mean_train_score</th>\n",
       "      <td>0.691987</td>\n",
       "      <td>0.644311</td>\n",
       "      <td>0.623703</td>\n",
       "      <td>0.613933</td>\n",
       "      <td>0.605244</td>\n",
       "    </tr>\n",
       "    <tr>\n",
       "      <th>param_n_neighbors</th>\n",
       "      <td>5</td>\n",
       "      <td>15</td>\n",
       "      <td>25</td>\n",
       "      <td>35</td>\n",
       "      <td>45</td>\n",
       "    </tr>\n",
       "    <tr>\n",
       "      <th>params</th>\n",
       "      <td>{'n_neighbors': 5}</td>\n",
       "      <td>{'n_neighbors': 15}</td>\n",
       "      <td>{'n_neighbors': 25}</td>\n",
       "      <td>{'n_neighbors': 35}</td>\n",
       "      <td>{'n_neighbors': 45}</td>\n",
       "    </tr>\n",
       "    <tr>\n",
       "      <th>rank_test_score</th>\n",
       "      <td>5</td>\n",
       "      <td>1</td>\n",
       "      <td>2</td>\n",
       "      <td>4</td>\n",
       "      <td>3</td>\n",
       "    </tr>\n",
       "    <tr>\n",
       "      <th>split0_test_score</th>\n",
       "      <td>0.550459</td>\n",
       "      <td>0.610778</td>\n",
       "      <td>0.58104</td>\n",
       "      <td>0.570533</td>\n",
       "      <td>0.5875</td>\n",
       "    </tr>\n",
       "    <tr>\n",
       "      <th>split0_train_score</th>\n",
       "      <td>0.697572</td>\n",
       "      <td>0.649776</td>\n",
       "      <td>0.636846</td>\n",
       "      <td>0.620849</td>\n",
       "      <td>0.612373</td>\n",
       "    </tr>\n",
       "    <tr>\n",
       "      <th>split1_test_score</th>\n",
       "      <td>0.573209</td>\n",
       "      <td>0.654321</td>\n",
       "      <td>0.647619</td>\n",
       "      <td>0.626198</td>\n",
       "      <td>0.59661</td>\n",
       "    </tr>\n",
       "    <tr>\n",
       "      <th>split1_train_score</th>\n",
       "      <td>0.69282</td>\n",
       "      <td>0.630712</td>\n",
       "      <td>0.606811</td>\n",
       "      <td>0.598586</td>\n",
       "      <td>0.581848</td>\n",
       "    </tr>\n",
       "    <tr>\n",
       "      <th>split2_test_score</th>\n",
       "      <td>0.541176</td>\n",
       "      <td>0.610272</td>\n",
       "      <td>0.564263</td>\n",
       "      <td>0.544872</td>\n",
       "      <td>0.55873</td>\n",
       "    </tr>\n",
       "    <tr>\n",
       "      <th>split2_train_score</th>\n",
       "      <td>0.698868</td>\n",
       "      <td>0.650231</td>\n",
       "      <td>0.619718</td>\n",
       "      <td>0.622361</td>\n",
       "      <td>0.620961</td>\n",
       "    </tr>\n",
       "    <tr>\n",
       "      <th>split3_test_score</th>\n",
       "      <td>0.568047</td>\n",
       "      <td>0.5875</td>\n",
       "      <td>0.561514</td>\n",
       "      <td>0.574924</td>\n",
       "      <td>0.578313</td>\n",
       "    </tr>\n",
       "    <tr>\n",
       "      <th>split3_train_score</th>\n",
       "      <td>0.68924</td>\n",
       "      <td>0.652206</td>\n",
       "      <td>0.640244</td>\n",
       "      <td>0.619523</td>\n",
       "      <td>0.607889</td>\n",
       "    </tr>\n",
       "    <tr>\n",
       "      <th>split4_test_score</th>\n",
       "      <td>0.555556</td>\n",
       "      <td>0.578616</td>\n",
       "      <td>0.587859</td>\n",
       "      <td>0.594249</td>\n",
       "      <td>0.601881</td>\n",
       "    </tr>\n",
       "    <tr>\n",
       "      <th>split4_train_score</th>\n",
       "      <td>0.681436</td>\n",
       "      <td>0.638629</td>\n",
       "      <td>0.614897</td>\n",
       "      <td>0.608347</td>\n",
       "      <td>0.60315</td>\n",
       "    </tr>\n",
       "    <tr>\n",
       "      <th>std_fit_time</th>\n",
       "      <td>0.00333271</td>\n",
       "      <td>0.000277475</td>\n",
       "      <td>0.000215409</td>\n",
       "      <td>0.000283267</td>\n",
       "      <td>0.000153292</td>\n",
       "    </tr>\n",
       "    <tr>\n",
       "      <th>std_score_time</th>\n",
       "      <td>0.00133773</td>\n",
       "      <td>0.00462591</td>\n",
       "      <td>0.00480522</td>\n",
       "      <td>0.00452652</td>\n",
       "      <td>0.00105687</td>\n",
       "    </tr>\n",
       "    <tr>\n",
       "      <th>std_test_score</th>\n",
       "      <td>0.0116408</td>\n",
       "      <td>0.0262329</td>\n",
       "      <td>0.0311947</td>\n",
       "      <td>0.0270654</td>\n",
       "      <td>0.01523</td>\n",
       "    </tr>\n",
       "    <tr>\n",
       "      <th>std_train_score</th>\n",
       "      <td>0.00629437</td>\n",
       "      <td>0.00830039</td>\n",
       "      <td>0.012846</td>\n",
       "      <td>0.00913084</td>\n",
       "      <td>0.0130891</td>\n",
       "    </tr>\n",
       "  </tbody>\n",
       "</table>\n",
       "</div>"
      ],
      "text/plain": [
       "                                     0                    1  \\\n",
       "mean_fit_time                0.0268836            0.0216894   \n",
       "mean_score_time               0.349766             0.377687   \n",
       "mean_test_score               0.557687             0.608298   \n",
       "mean_train_score              0.691987             0.644311   \n",
       "param_n_neighbors                    5                   15   \n",
       "params              {'n_neighbors': 5}  {'n_neighbors': 15}   \n",
       "rank_test_score                      5                    1   \n",
       "split0_test_score             0.550459             0.610778   \n",
       "split0_train_score            0.697572             0.649776   \n",
       "split1_test_score             0.573209             0.654321   \n",
       "split1_train_score             0.69282             0.630712   \n",
       "split2_test_score             0.541176             0.610272   \n",
       "split2_train_score            0.698868             0.650231   \n",
       "split3_test_score             0.568047               0.5875   \n",
       "split3_train_score             0.68924             0.652206   \n",
       "split4_test_score             0.555556             0.578616   \n",
       "split4_train_score            0.681436             0.638629   \n",
       "std_fit_time                0.00333271          0.000277475   \n",
       "std_score_time              0.00133773           0.00462591   \n",
       "std_test_score               0.0116408            0.0262329   \n",
       "std_train_score             0.00629437           0.00830039   \n",
       "\n",
       "                                      2                    3  \\\n",
       "mean_fit_time                 0.0217181            0.0218466   \n",
       "mean_score_time                0.388337             0.389294   \n",
       "mean_test_score                0.588457             0.582152   \n",
       "mean_train_score               0.623703             0.613933   \n",
       "param_n_neighbors                    25                   35   \n",
       "params              {'n_neighbors': 25}  {'n_neighbors': 35}   \n",
       "rank_test_score                       2                    4   \n",
       "split0_test_score               0.58104             0.570533   \n",
       "split0_train_score             0.636846             0.620849   \n",
       "split1_test_score              0.647619             0.626198   \n",
       "split1_train_score             0.606811             0.598586   \n",
       "split2_test_score              0.564263             0.544872   \n",
       "split2_train_score             0.619718             0.622361   \n",
       "split3_test_score              0.561514             0.574924   \n",
       "split3_train_score             0.640244             0.619523   \n",
       "split4_test_score              0.587859             0.594249   \n",
       "split4_train_score             0.614897             0.608347   \n",
       "std_fit_time                0.000215409          0.000283267   \n",
       "std_score_time               0.00480522           0.00452652   \n",
       "std_test_score                0.0311947            0.0270654   \n",
       "std_train_score                0.012846           0.00913084   \n",
       "\n",
       "                                      4  \n",
       "mean_fit_time                 0.0216738  \n",
       "mean_score_time                0.391184  \n",
       "mean_test_score                0.584608  \n",
       "mean_train_score               0.605244  \n",
       "param_n_neighbors                    45  \n",
       "params              {'n_neighbors': 45}  \n",
       "rank_test_score                       3  \n",
       "split0_test_score                0.5875  \n",
       "split0_train_score             0.612373  \n",
       "split1_test_score               0.59661  \n",
       "split1_train_score             0.581848  \n",
       "split2_test_score               0.55873  \n",
       "split2_train_score             0.620961  \n",
       "split3_test_score              0.578313  \n",
       "split3_train_score             0.607889  \n",
       "split4_test_score              0.601881  \n",
       "split4_train_score              0.60315  \n",
       "std_fit_time                0.000153292  \n",
       "std_score_time               0.00105687  \n",
       "std_test_score                  0.01523  \n",
       "std_train_score               0.0130891  "
      ]
     },
     "execution_count": 23,
     "metadata": {},
     "output_type": "execute_result"
    }
   ],
   "source": [
    "pd.DataFrame(knc_gs.cv_results_).T"
   ]
  },
  {
   "cell_type": "code",
   "execution_count": 25,
   "metadata": {},
   "outputs": [
    {
     "data": {
      "text/plain": [
       "KNeighborsClassifier(algorithm='auto', leaf_size=30, metric='minkowski',\n",
       "           metric_params=None, n_jobs=1, n_neighbors=15, p=2,\n",
       "           weights='uniform')"
      ]
     },
     "execution_count": 25,
     "metadata": {},
     "output_type": "execute_result"
    }
   ],
   "source": [
    "knc_gs.best_estimator_"
   ]
  },
  {
   "cell_type": "code",
   "execution_count": null,
   "metadata": {},
   "outputs": [],
   "source": []
  }
 ],
 "metadata": {
  "kernelspec": {
   "display_name": "Python 3",
   "language": "python",
   "name": "python3"
  },
  "language_info": {
   "codemirror_mode": {
    "name": "ipython",
    "version": 3
   },
   "file_extension": ".py",
   "mimetype": "text/x-python",
   "name": "python",
   "nbconvert_exporter": "python",
   "pygments_lexer": "ipython3",
   "version": "3.6.3"
  }
 },
 "nbformat": 4,
 "nbformat_minor": 2
}
