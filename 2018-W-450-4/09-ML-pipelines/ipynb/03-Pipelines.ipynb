{
 "cells": [
  {
   "cell_type": "markdown",
   "metadata": {},
   "source": [
    "<img src=\"https://cdn-images.threadless.com/threadless-shop/products/543/1272x920design_01.jpg\" alt=\"This is not a pipe\" style=\"width: 400px;\"/>\n",
    "\n",
    "# 6.1 Pipelines\n",
    "\n",
    "_author: Mike Frantz (Santa Monica)_\n",
    "\n",
    "---\n",
    "\n",
    "So far, we've established a general workflow where we:\n",
    "\n",
    "\n",
    "* Clean the data\n",
    "  * Fill/impute/drop `NaN` values\n",
    "  * One-hot encode categorical variables\n",
    "  * Label-encode target if categorical\n",
    "  * Check for skew / deskew\n",
    "\n",
    "\n",
    "* Preprocess the data\n",
    "  * Feature selection (`SelectKBest, SelectFromModel, SelectPercentile, RFE`, etc.)\n",
    "  * Scaling (`StandardScaler, MinMaxScaler`)\n",
    "\n",
    "\n",
    "* Modeling\n",
    "  * Classification (`KNeighborsClassifier, LogisticRegression`, etc.)\n",
    "  * Regression (`Lasso, Ridge, ElasticNet`, etc.)\n",
    "  \n",
    "For every dataset, we've done some version of all of these. Pipelines give us a convenient way to chain these tasks together. As a result, we can feed cleaned data into a pipeline and a trained model a the end!"
   ]
  },
  {
   "cell_type": "code",
   "execution_count": 1,
   "metadata": {},
   "outputs": [],
   "source": [
    "import pandas as pd\n",
    "import numpy as np"
   ]
  },
  {
   "cell_type": "code",
   "execution_count": 2,
   "metadata": {},
   "outputs": [
    {
     "name": "stdout",
     "output_type": "stream",
     "text": [
      "/home/jovyan/2018-W-450-4/09-ML-pipelines\n"
     ]
    }
   ],
   "source": [
    "cd .."
   ]
  },
  {
   "cell_type": "code",
   "execution_count": 3,
   "metadata": {},
   "outputs": [],
   "source": [
    "bike_data = pd.read_csv('data/bike_sharing.csv',index_col=0)"
   ]
  },
  {
   "cell_type": "code",
   "execution_count": 4,
   "metadata": {},
   "outputs": [
    {
     "data": {
      "text/html": [
       "<div>\n",
       "<table border=\"1\" class=\"dataframe\">\n",
       "  <thead>\n",
       "    <tr style=\"text-align: right;\">\n",
       "      <th></th>\n",
       "      <th>datetime</th>\n",
       "      <th>season</th>\n",
       "      <th>holiday</th>\n",
       "      <th>workingday</th>\n",
       "      <th>weather</th>\n",
       "      <th>temp</th>\n",
       "      <th>atemp</th>\n",
       "      <th>humidity</th>\n",
       "      <th>windspeed</th>\n",
       "      <th>count</th>\n",
       "    </tr>\n",
       "  </thead>\n",
       "  <tbody>\n",
       "    <tr>\n",
       "      <th>0</th>\n",
       "      <td>2011-01-01 00:00:00</td>\n",
       "      <td>1</td>\n",
       "      <td>0</td>\n",
       "      <td>0</td>\n",
       "      <td>1</td>\n",
       "      <td>9.84</td>\n",
       "      <td>14.395</td>\n",
       "      <td>81</td>\n",
       "      <td>0.0</td>\n",
       "      <td>16</td>\n",
       "    </tr>\n",
       "    <tr>\n",
       "      <th>1</th>\n",
       "      <td>2011-01-01 01:00:00</td>\n",
       "      <td>1</td>\n",
       "      <td>0</td>\n",
       "      <td>0</td>\n",
       "      <td>1</td>\n",
       "      <td>9.02</td>\n",
       "      <td>13.635</td>\n",
       "      <td>80</td>\n",
       "      <td>0.0</td>\n",
       "      <td>40</td>\n",
       "    </tr>\n",
       "    <tr>\n",
       "      <th>2</th>\n",
       "      <td>2011-01-01 02:00:00</td>\n",
       "      <td>1</td>\n",
       "      <td>0</td>\n",
       "      <td>0</td>\n",
       "      <td>1</td>\n",
       "      <td>9.02</td>\n",
       "      <td>13.635</td>\n",
       "      <td>80</td>\n",
       "      <td>0.0</td>\n",
       "      <td>32</td>\n",
       "    </tr>\n",
       "    <tr>\n",
       "      <th>3</th>\n",
       "      <td>2011-01-01 03:00:00</td>\n",
       "      <td>1</td>\n",
       "      <td>0</td>\n",
       "      <td>0</td>\n",
       "      <td>1</td>\n",
       "      <td>9.84</td>\n",
       "      <td>14.395</td>\n",
       "      <td>75</td>\n",
       "      <td>0.0</td>\n",
       "      <td>13</td>\n",
       "    </tr>\n",
       "    <tr>\n",
       "      <th>4</th>\n",
       "      <td>2011-01-01 04:00:00</td>\n",
       "      <td>1</td>\n",
       "      <td>0</td>\n",
       "      <td>0</td>\n",
       "      <td>1</td>\n",
       "      <td>9.84</td>\n",
       "      <td>14.395</td>\n",
       "      <td>75</td>\n",
       "      <td>0.0</td>\n",
       "      <td>1</td>\n",
       "    </tr>\n",
       "  </tbody>\n",
       "</table>\n",
       "</div>"
      ],
      "text/plain": [
       "              datetime  season  holiday  workingday  weather  temp   atemp  \\\n",
       "0  2011-01-01 00:00:00       1        0           0        1  9.84  14.395   \n",
       "1  2011-01-01 01:00:00       1        0           0        1  9.02  13.635   \n",
       "2  2011-01-01 02:00:00       1        0           0        1  9.02  13.635   \n",
       "3  2011-01-01 03:00:00       1        0           0        1  9.84  14.395   \n",
       "4  2011-01-01 04:00:00       1        0           0        1  9.84  14.395   \n",
       "\n",
       "   humidity  windspeed  count  \n",
       "0        81        0.0     16  \n",
       "1        80        0.0     40  \n",
       "2        80        0.0     32  \n",
       "3        75        0.0     13  \n",
       "4        75        0.0      1  "
      ]
     },
     "execution_count": 4,
     "metadata": {},
     "output_type": "execute_result"
    }
   ],
   "source": [
    "bike_data.head()"
   ]
  },
  {
   "cell_type": "markdown",
   "metadata": {},
   "source": [
    "### Clean the data"
   ]
  },
  {
   "cell_type": "code",
   "execution_count": 5,
   "metadata": {},
   "outputs": [],
   "source": [
    "# Convert the datetime colum to datetime using pd.to_datetime()\n",
    "bike_data['datetime'] = pd.to_datetime(bike_data['datetime'])\n",
    "\n",
    "# Make a feature for the day of week\n",
    "bike_data['dayofweek'] = bike_data['datetime'].apply(lambda x: x.dayofweek)\n",
    "\n",
    "# Make a feature for month\n",
    "bike_data['month'] = bike_data['datetime'].apply(lambda x: x.month)\n",
    "\n",
    "# Make a feature for hour\n",
    "bike_data['hour'] = bike_data['datetime'].apply(lambda x: x.hour)"
   ]
  },
  {
   "cell_type": "code",
   "execution_count": 6,
   "metadata": {},
   "outputs": [],
   "source": [
    "# Drop the datetime column\n",
    "bike_data.drop('datetime', axis=1, inplace=True)"
   ]
  },
  {
   "cell_type": "markdown",
   "metadata": {},
   "source": [
    "#### Split up our features and target into features and target"
   ]
  },
  {
   "cell_type": "code",
   "execution_count": 7,
   "metadata": {},
   "outputs": [],
   "source": [
    "features = bike_data.drop('count',axis=1)\n",
    "target = bike_data['count']"
   ]
  },
  {
   "cell_type": "code",
   "execution_count": 8,
   "metadata": {},
   "outputs": [],
   "source": [
    "# Get dummies of categorical columns\n",
    "num_cols = ['temp','atemp','humidity','windspeed']\n",
    "cat_cols = [i for i in features.columns if i not in num_cols]"
   ]
  },
  {
   "cell_type": "code",
   "execution_count": 9,
   "metadata": {},
   "outputs": [],
   "source": [
    "features_dummies = pd.get_dummies(features, columns=cat_cols)"
   ]
  },
  {
   "cell_type": "code",
   "execution_count": 10,
   "metadata": {},
   "outputs": [
    {
     "data": {
      "text/html": [
       "<div>\n",
       "<table border=\"1\" class=\"dataframe\">\n",
       "  <thead>\n",
       "    <tr style=\"text-align: right;\">\n",
       "      <th></th>\n",
       "      <th>temp</th>\n",
       "      <th>atemp</th>\n",
       "      <th>humidity</th>\n",
       "      <th>windspeed</th>\n",
       "      <th>season_1</th>\n",
       "      <th>season_2</th>\n",
       "      <th>season_3</th>\n",
       "      <th>season_4</th>\n",
       "      <th>holiday_0</th>\n",
       "      <th>holiday_1</th>\n",
       "      <th>...</th>\n",
       "      <th>hour_14</th>\n",
       "      <th>hour_15</th>\n",
       "      <th>hour_16</th>\n",
       "      <th>hour_17</th>\n",
       "      <th>hour_18</th>\n",
       "      <th>hour_19</th>\n",
       "      <th>hour_20</th>\n",
       "      <th>hour_21</th>\n",
       "      <th>hour_22</th>\n",
       "      <th>hour_23</th>\n",
       "    </tr>\n",
       "  </thead>\n",
       "  <tbody>\n",
       "    <tr>\n",
       "      <th>0</th>\n",
       "      <td>9.84</td>\n",
       "      <td>14.395</td>\n",
       "      <td>81</td>\n",
       "      <td>0.0</td>\n",
       "      <td>1</td>\n",
       "      <td>0</td>\n",
       "      <td>0</td>\n",
       "      <td>0</td>\n",
       "      <td>1</td>\n",
       "      <td>0</td>\n",
       "      <td>...</td>\n",
       "      <td>0</td>\n",
       "      <td>0</td>\n",
       "      <td>0</td>\n",
       "      <td>0</td>\n",
       "      <td>0</td>\n",
       "      <td>0</td>\n",
       "      <td>0</td>\n",
       "      <td>0</td>\n",
       "      <td>0</td>\n",
       "      <td>0</td>\n",
       "    </tr>\n",
       "    <tr>\n",
       "      <th>1</th>\n",
       "      <td>9.02</td>\n",
       "      <td>13.635</td>\n",
       "      <td>80</td>\n",
       "      <td>0.0</td>\n",
       "      <td>1</td>\n",
       "      <td>0</td>\n",
       "      <td>0</td>\n",
       "      <td>0</td>\n",
       "      <td>1</td>\n",
       "      <td>0</td>\n",
       "      <td>...</td>\n",
       "      <td>0</td>\n",
       "      <td>0</td>\n",
       "      <td>0</td>\n",
       "      <td>0</td>\n",
       "      <td>0</td>\n",
       "      <td>0</td>\n",
       "      <td>0</td>\n",
       "      <td>0</td>\n",
       "      <td>0</td>\n",
       "      <td>0</td>\n",
       "    </tr>\n",
       "    <tr>\n",
       "      <th>2</th>\n",
       "      <td>9.02</td>\n",
       "      <td>13.635</td>\n",
       "      <td>80</td>\n",
       "      <td>0.0</td>\n",
       "      <td>1</td>\n",
       "      <td>0</td>\n",
       "      <td>0</td>\n",
       "      <td>0</td>\n",
       "      <td>1</td>\n",
       "      <td>0</td>\n",
       "      <td>...</td>\n",
       "      <td>0</td>\n",
       "      <td>0</td>\n",
       "      <td>0</td>\n",
       "      <td>0</td>\n",
       "      <td>0</td>\n",
       "      <td>0</td>\n",
       "      <td>0</td>\n",
       "      <td>0</td>\n",
       "      <td>0</td>\n",
       "      <td>0</td>\n",
       "    </tr>\n",
       "  </tbody>\n",
       "</table>\n",
       "<p>3 rows × 59 columns</p>\n",
       "</div>"
      ],
      "text/plain": [
       "   temp   atemp  humidity  windspeed  season_1  season_2  season_3  season_4  \\\n",
       "0  9.84  14.395        81        0.0         1         0         0         0   \n",
       "1  9.02  13.635        80        0.0         1         0         0         0   \n",
       "2  9.02  13.635        80        0.0         1         0         0         0   \n",
       "\n",
       "   holiday_0  holiday_1   ...     hour_14  hour_15  hour_16  hour_17  hour_18  \\\n",
       "0          1          0   ...           0        0        0        0        0   \n",
       "1          1          0   ...           0        0        0        0        0   \n",
       "2          1          0   ...           0        0        0        0        0   \n",
       "\n",
       "   hour_19  hour_20  hour_21  hour_22  hour_23  \n",
       "0        0        0        0        0        0  \n",
       "1        0        0        0        0        0  \n",
       "2        0        0        0        0        0  \n",
       "\n",
       "[3 rows x 59 columns]"
      ]
     },
     "execution_count": 10,
     "metadata": {},
     "output_type": "execute_result"
    }
   ],
   "source": [
    "features_dummies.head(3)"
   ]
  },
  {
   "cell_type": "markdown",
   "metadata": {},
   "source": [
    "## `Pipeline`\n",
    "---\n",
    "\n",
    "`Pipeline` is a class in `sklearn` that allows us to chain steps together. \n",
    "\n",
    "We add steps to the pipeline using a list of tuples of the form `[('step name', sklearn object)...]`\n",
    "\n",
    "Let's make a `Pipeline` that scales the data and fits a `RandomForestRegressor` model."
   ]
  },
  {
   "cell_type": "code",
   "execution_count": 11,
   "metadata": {},
   "outputs": [],
   "source": [
    "from sklearn.pipeline import Pipeline\n",
    "from sklearn.ensemble import RandomForestRegressor\n",
    "from sklearn.preprocessing import StandardScaler, MinMaxScaler\n",
    "from sklearn.linear_model import Lasso, Ridge\n",
    "from sklearn.model_selection import train_test_split"
   ]
  },
  {
   "cell_type": "code",
   "execution_count": 12,
   "metadata": {},
   "outputs": [],
   "source": [
    "# Train-test split your data\n",
    "X_train, X_test, y_train, y_test = train_test_split(features_dummies, target, random_state = 42)"
   ]
  },
  {
   "cell_type": "code",
   "execution_count": 13,
   "metadata": {},
   "outputs": [],
   "source": [
    "# Instantiate your pipeline\n",
    "simple_pipe = Pipeline([('scaler',StandardScaler()), ('lasso', Lasso())])"
   ]
  },
  {
   "cell_type": "code",
   "execution_count": 14,
   "metadata": {},
   "outputs": [
    {
     "data": {
      "text/plain": [
       "Pipeline(steps=[('scaler', StandardScaler(copy=True, with_mean=True, with_std=True)), ('lasso', Lasso(alpha=1.0, copy_X=True, fit_intercept=True, max_iter=1000,\n",
       "   normalize=False, positive=False, precompute=False, random_state=None,\n",
       "   selection='cyclic', tol=0.0001, warm_start=False))])"
      ]
     },
     "execution_count": 14,
     "metadata": {},
     "output_type": "execute_result"
    }
   ],
   "source": [
    "# Fit the pipeline to your training features and target\n",
    "simple_pipe.fit(X_train, y_train)"
   ]
  },
  {
   "cell_type": "code",
   "execution_count": 15,
   "metadata": {},
   "outputs": [
    {
     "data": {
      "text/plain": [
       "0.63884996110229186"
      ]
     },
     "execution_count": 15,
     "metadata": {},
     "output_type": "execute_result"
    }
   ],
   "source": [
    "# What's your train r2 score?\n",
    "simple_pipe.score(X_train, y_train)"
   ]
  },
  {
   "cell_type": "code",
   "execution_count": 16,
   "metadata": {},
   "outputs": [
    {
     "data": {
      "text/plain": [
       "0.62742603763215188"
      ]
     },
     "execution_count": 16,
     "metadata": {},
     "output_type": "execute_result"
    }
   ],
   "source": [
    "# What's your test r2 score?\n",
    "simple_pipe.score(X_test, y_test)"
   ]
  },
  {
   "cell_type": "markdown",
   "metadata": {},
   "source": [
    "We now have a fit `Pipeline` object that scores just like any other model. This consists of a `StandardScaler` and a `Lasso`. What properties does this `Pipeline` have?\n",
    "\n",
    "* `.steps` gives you a list of tuples containing the names of your steps and the fit object of the step itself.\n",
    "* `.named_steps` gives you a dictionary with your pipeline objects where the keys are the names and the values are the fit sklearn object."
   ]
  },
  {
   "cell_type": "code",
   "execution_count": 17,
   "metadata": {},
   "outputs": [
    {
     "data": {
      "text/plain": [
       "[('scaler', StandardScaler(copy=True, with_mean=True, with_std=True)),\n",
       " ('lasso', Lasso(alpha=1.0, copy_X=True, fit_intercept=True, max_iter=1000,\n",
       "     normalize=False, positive=False, precompute=False, random_state=None,\n",
       "     selection='cyclic', tol=0.0001, warm_start=False))]"
      ]
     },
     "execution_count": 17,
     "metadata": {},
     "output_type": "execute_result"
    }
   ],
   "source": [
    "# Look at the steps\n",
    "simple_pipe.steps"
   ]
  },
  {
   "cell_type": "code",
   "execution_count": 18,
   "metadata": {},
   "outputs": [
    {
     "data": {
      "text/plain": [
       "{'lasso': Lasso(alpha=1.0, copy_X=True, fit_intercept=True, max_iter=1000,\n",
       "    normalize=False, positive=False, precompute=False, random_state=None,\n",
       "    selection='cyclic', tol=0.0001, warm_start=False),\n",
       " 'scaler': StandardScaler(copy=True, with_mean=True, with_std=True)}"
      ]
     },
     "execution_count": 18,
     "metadata": {},
     "output_type": "execute_result"
    }
   ],
   "source": [
    "# Look at the named steps\n",
    "simple_pipe.named_steps"
   ]
  },
  {
   "cell_type": "markdown",
   "metadata": {},
   "source": [
    "We can access each step and use it if we'd like. Let's look at the mean and standard deviation of our data from the scaler object."
   ]
  },
  {
   "cell_type": "code",
   "execution_count": 19,
   "metadata": {},
   "outputs": [
    {
     "data": {
      "text/plain": [
       "array([  2.02449804e+01,   2.36701605e+01,   6.18351298e+01,\n",
       "         1.27913341e+01,   2.45835375e-01,   2.51224890e-01,\n",
       "         2.49755022e-01,   2.53184713e-01,   9.70602646e-01,\n",
       "         2.93973542e-02,   3.16756492e-01,   6.83243508e-01,\n",
       "         6.62175404e-01,   2.60289074e-01,   7.74130328e-02,\n",
       "         1.22488976e-04,   1.41474767e-01,   1.42822146e-01,\n",
       "         1.43312102e-01,   1.43434591e-01,   1.41597256e-01,\n",
       "         1.44169525e-01,   1.43189613e-01,   7.96178344e-02,\n",
       "         8.30475257e-02,   8.31700147e-02,   8.14551690e-02,\n",
       "         8.56197942e-02,   8.41499265e-02,   8.31700147e-02,\n",
       "         8.47623714e-02,   8.18226360e-02,   8.51298383e-02,\n",
       "         8.51298383e-02,   8.29250367e-02,   4.28711416e-02,\n",
       "         4.10338070e-02,   4.22586967e-02,   4.00538951e-02,\n",
       "         4.12787849e-02,   4.20137188e-02,   4.16462518e-02,\n",
       "         4.12787849e-02,   4.21362077e-02,   4.12787849e-02,\n",
       "         4.18912298e-02,   4.06663400e-02,   4.11562959e-02,\n",
       "         4.04213621e-02,   4.10338070e-02,   4.22586967e-02,\n",
       "         4.18912298e-02,   4.31161195e-02,   4.37285644e-02,\n",
       "         4.17687408e-02,   4.15237629e-02,   4.02988731e-02,\n",
       "         4.14012739e-02,   4.29936306e-02])"
      ]
     },
     "execution_count": 19,
     "metadata": {},
     "output_type": "execute_result"
    }
   ],
   "source": [
    "simple_pipe.steps[0][1].mean_"
   ]
  },
  {
   "cell_type": "code",
   "execution_count": 20,
   "metadata": {},
   "outputs": [
    {
     "data": {
      "text/plain": [
       "array([  7.79554011e+00,   8.46820631e+00,   1.92546121e+01,\n",
       "         8.21341117e+00,   4.30581401e-01,   4.33717586e-01,\n",
       "         4.32871171e-01,   4.34835848e-01,   1.68917583e-01,\n",
       "         1.68917583e-01,   4.65211583e-01,   4.65211583e-01,\n",
       "         4.72968433e-01,   4.38792288e-01,   2.67245683e-01,\n",
       "         1.10667959e-02,   3.48510628e-01,   3.49891384e-01,\n",
       "         3.50390844e-01,   3.50515490e-01,   3.48636592e-01,\n",
       "         3.51261545e-01,   3.50266110e-01,   2.70700637e-01,\n",
       "         2.75954044e-01,   2.76139029e-01,   2.73532858e-01,\n",
       "         2.79801796e-01,   2.77612529e-01,   2.76139029e-01,\n",
       "         2.78527758e-01,   2.74094313e-01,   2.79074809e-01,\n",
       "         2.79074809e-01,   2.75768880e-01,   2.02566549e-01,\n",
       "         1.98368429e-01,   2.01178774e-01,   1.96085646e-01,\n",
       "         1.98934278e-01,   2.00620453e-01,   1.99779482e-01,\n",
       "         1.98934278e-01,   2.00899845e-01,   1.98934278e-01,\n",
       "         2.00340597e-01,   1.97516047e-01,   1.98651593e-01,\n",
       "         1.96945362e-01,   1.98368429e-01,   2.01178774e-01,\n",
       "         2.00340597e-01,   2.03118487e-01,   2.04490531e-01,\n",
       "         2.00060274e-01,   1.99498220e-01,   1.96659284e-01,\n",
       "         1.99216486e-01,   2.02842743e-01])"
      ]
     },
     "execution_count": 20,
     "metadata": {},
     "output_type": "execute_result"
    }
   ],
   "source": [
    "# .std_ is deprecated, use .scale_\n",
    "simple_pipe.named_steps['scaler'].scale_"
   ]
  },
  {
   "cell_type": "markdown",
   "metadata": {},
   "source": [
    "## `make_pipeline`\n",
    "---\n",
    "\n",
    "While `Pipeline` gives us the ability to explicitly name our steps, this can be cumbersome, especially when we may not care what are steps are named. If this is the case, we use `make_pipeline`.\n",
    "\n",
    "Let's execute the same pipeline, except this time we'll use `make_pipeline`."
   ]
  },
  {
   "cell_type": "code",
   "execution_count": 21,
   "metadata": {},
   "outputs": [],
   "source": [
    "from sklearn.pipeline import make_pipeline"
   ]
  },
  {
   "cell_type": "code",
   "execution_count": 22,
   "metadata": {},
   "outputs": [],
   "source": [
    "another_pipe = make_pipeline(StandardScaler(),\n",
    "                             Lasso())"
   ]
  },
  {
   "cell_type": "code",
   "execution_count": 23,
   "metadata": {},
   "outputs": [
    {
     "data": {
      "text/plain": [
       "Pipeline(steps=[('standardscaler', StandardScaler(copy=True, with_mean=True, with_std=True)), ('lasso', Lasso(alpha=1.0, copy_X=True, fit_intercept=True, max_iter=1000,\n",
       "   normalize=False, positive=False, precompute=False, random_state=None,\n",
       "   selection='cyclic', tol=0.0001, warm_start=False))])"
      ]
     },
     "execution_count": 23,
     "metadata": {},
     "output_type": "execute_result"
    }
   ],
   "source": [
    "another_pipe.fit(X_train, y_train)"
   ]
  },
  {
   "cell_type": "code",
   "execution_count": 24,
   "metadata": {},
   "outputs": [
    {
     "data": {
      "text/plain": [
       "0.63884996110229186"
      ]
     },
     "execution_count": 24,
     "metadata": {},
     "output_type": "execute_result"
    }
   ],
   "source": [
    "another_pipe.score(X_train, y_train)"
   ]
  },
  {
   "cell_type": "code",
   "execution_count": 25,
   "metadata": {},
   "outputs": [
    {
     "data": {
      "text/plain": [
       "0.62742603763215188"
      ]
     },
     "execution_count": 25,
     "metadata": {},
     "output_type": "execute_result"
    }
   ],
   "source": [
    "another_pipe.score(X_test, y_test)"
   ]
  },
  {
   "cell_type": "markdown",
   "metadata": {},
   "source": [
    "Even though we don't name them, `make_pipeline` still has a `.named_steps` attribute. It automatically assigns names to each step and we can access them similarly to how we did before."
   ]
  },
  {
   "cell_type": "code",
   "execution_count": 26,
   "metadata": {},
   "outputs": [
    {
     "data": {
      "text/plain": [
       "{'lasso': Lasso(alpha=1.0, copy_X=True, fit_intercept=True, max_iter=1000,\n",
       "    normalize=False, positive=False, precompute=False, random_state=None,\n",
       "    selection='cyclic', tol=0.0001, warm_start=False),\n",
       " 'standardscaler': StandardScaler(copy=True, with_mean=True, with_std=True)}"
      ]
     },
     "execution_count": 26,
     "metadata": {},
     "output_type": "execute_result"
    }
   ],
   "source": [
    "another_pipe.named_steps"
   ]
  },
  {
   "cell_type": "code",
   "execution_count": 27,
   "metadata": {},
   "outputs": [
    {
     "data": {
      "text/plain": [
       "[('standardscaler', StandardScaler(copy=True, with_mean=True, with_std=True)),\n",
       " ('lasso', Lasso(alpha=1.0, copy_X=True, fit_intercept=True, max_iter=1000,\n",
       "     normalize=False, positive=False, precompute=False, random_state=None,\n",
       "     selection='cyclic', tol=0.0001, warm_start=False))]"
      ]
     },
     "execution_count": 27,
     "metadata": {},
     "output_type": "execute_result"
    }
   ],
   "source": [
    "another_pipe.steps"
   ]
  },
  {
   "cell_type": "markdown",
   "metadata": {},
   "source": [
    "### Aside: Transformation pipelines\n",
    "\n",
    "Although it's standard to have a pipeline end in a model, it's also possible to have a pipeline just for transformers, as shown below:"
   ]
  },
  {
   "cell_type": "code",
   "execution_count": 28,
   "metadata": {},
   "outputs": [],
   "source": [
    "from sklearn.feature_selection import SelectFromModel, SelectKBest, f_regression"
   ]
  },
  {
   "cell_type": "code",
   "execution_count": 29,
   "metadata": {},
   "outputs": [],
   "source": [
    "transformer_pipe = make_pipeline(SelectKBest(score_func=f_regression, k=40),\n",
    "                                 StandardScaler(),\n",
    "                                 SelectFromModel(Lasso()))"
   ]
  },
  {
   "cell_type": "code",
   "execution_count": 30,
   "metadata": {},
   "outputs": [
    {
     "data": {
      "text/plain": [
       "(8164, 59)"
      ]
     },
     "execution_count": 30,
     "metadata": {},
     "output_type": "execute_result"
    }
   ],
   "source": [
    "X_train.shape"
   ]
  },
  {
   "cell_type": "code",
   "execution_count": 31,
   "metadata": {},
   "outputs": [
    {
     "data": {
      "text/plain": [
       "Pipeline(steps=[('selectkbest', SelectKBest(k=40, score_func=<function f_regression at 0x7f3de98d9048>)), ('standardscaler', StandardScaler(copy=True, with_mean=True, with_std=True)), ('selectfrommodel', SelectFromModel(estimator=Lasso(alpha=1.0, copy_X=True, fit_intercept=True, max_iter=1000,\n",
       "   normalize=False, positive=False, precompute=False, random_state=None,\n",
       "   selection='cyclic', tol=0.0001, warm_start=False),\n",
       "        prefit=False, threshold=None))])"
      ]
     },
     "execution_count": 31,
     "metadata": {},
     "output_type": "execute_result"
    }
   ],
   "source": [
    "transformer_pipe.fit(X_train, y_train)"
   ]
  },
  {
   "cell_type": "code",
   "execution_count": 48,
   "metadata": {},
   "outputs": [],
   "source": [
    "features_skb_scaled_sfm = transformer_pipe.transform(X_train)"
   ]
  },
  {
   "cell_type": "code",
   "execution_count": 49,
   "metadata": {
    "scrolled": true
   },
   "outputs": [],
   "source": [
    "#X_train.shape"
   ]
  },
  {
   "cell_type": "code",
   "execution_count": 50,
   "metadata": {},
   "outputs": [],
   "source": [
    "#features_skb_scaled_sfm_test = transformer_pipe.transform(X_test)"
   ]
  },
  {
   "cell_type": "code",
   "execution_count": 51,
   "metadata": {},
   "outputs": [
    {
     "data": {
      "text/plain": [
       "(8164, 36)"
      ]
     },
     "execution_count": 51,
     "metadata": {},
     "output_type": "execute_result"
    }
   ],
   "source": [
    "features_skb_scaled_sfm.shape"
   ]
  },
  {
   "cell_type": "code",
   "execution_count": 52,
   "metadata": {},
   "outputs": [
    {
     "data": {
      "text/plain": [
       "[('selectkbest',\n",
       "  SelectKBest(k=40, score_func=<function f_regression at 0x7f3de98d9048>)),\n",
       " ('standardscaler', StandardScaler(copy=True, with_mean=True, with_std=True)),\n",
       " ('selectfrommodel',\n",
       "  SelectFromModel(estimator=Lasso(alpha=1.0, copy_X=True, fit_intercept=True, max_iter=1000,\n",
       "     normalize=False, positive=False, precompute=False, random_state=None,\n",
       "     selection='cyclic', tol=0.0001, warm_start=False),\n",
       "          prefit=False, threshold=None))]"
      ]
     },
     "execution_count": 52,
     "metadata": {},
     "output_type": "execute_result"
    }
   ],
   "source": [
    "transformer_pipe.steps"
   ]
  },
  {
   "cell_type": "code",
   "execution_count": null,
   "metadata": {},
   "outputs": [],
   "source": []
  },
  {
   "cell_type": "code",
   "execution_count": null,
   "metadata": {},
   "outputs": [],
   "source": []
  },
  {
   "cell_type": "markdown",
   "metadata": {},
   "source": [
    "## Using Pipelines with `GridSearchCV`\n",
    "---\n",
    "\n",
    "So far, we've only chained transformers and models together in a `pipeline`. What if we want to use GridSearch to tune our model in the `pipeline`?\n",
    "\n",
    "Since we have to refer to our steps by name, let's use `Pipeline` instead of `make_pipeline`. \n",
    "\n",
    "Let's make a pipeline with the following steps:\n",
    "\n",
    "    ('skb', SelectKBest(score_func=f_regression, k=40)),\n",
    "    ('scaler', StandardScaler()),\n",
    "    ('sfm', SelectFromModel(Lasso())),\n",
    "    ('regr', ElasticNet())"
   ]
  },
  {
   "cell_type": "code",
   "execution_count": 53,
   "metadata": {},
   "outputs": [],
   "source": [
    "from sklearn.model_selection import GridSearchCV, ShuffleSplit\n",
    "from sklearn.linear_model import ElasticNet"
   ]
  },
  {
   "cell_type": "code",
   "execution_count": 54,
   "metadata": {},
   "outputs": [],
   "source": [
    "pipe_for_gs = Pipeline([\n",
    "    ('skb', SelectKBest(score_func=f_regression, k=40)),\n",
    "    ('scaler', StandardScaler()),\n",
    "    ('sfm', SelectFromModel(Lasso())),\n",
    "    ('regr', ElasticNet())\n",
    "])"
   ]
  },
  {
   "cell_type": "markdown",
   "metadata": {},
   "source": [
    "Next, let's make our parameter grid. When using a `Pipeline`, we need to specify which step our params are for. To do that, we use the name we gave the step (in this case `'rf'` for `RandomForestRegressor`), with a **dunder** to reference a parameter for that model. \n",
    "\n",
    "As an example, if we wanted to tune `ElasticNet`'s `l1_ratio` parameter, we use `regr__l1_ratio:[.1,.5,.9]`. \n",
    "\n",
    "Let's fill out the params below to tune `alpha` and `l1_ratio`:"
   ]
  },
  {
   "cell_type": "code",
   "execution_count": 55,
   "metadata": {},
   "outputs": [],
   "source": [
    "params = {\n",
    "    'regr__l1_ratio':[.1,.3,.5,.7,.9], # how much l1\n",
    "    'regr__alpha':np.logspace(-3,3,7) # how much regularization\n",
    "}"
   ]
  },
  {
   "cell_type": "markdown",
   "metadata": {},
   "source": [
    "Now pass your pipeline into `GridSearchCV` with your parameters, using `ShuffleSplit`"
   ]
  },
  {
   "cell_type": "code",
   "execution_count": 56,
   "metadata": {},
   "outputs": [],
   "source": [
    "gspipe = GridSearchCV(pipe_for_gs,\n",
    "                      param_grid=params,\n",
    "                      n_jobs=-1,\n",
    "                      cv=ShuffleSplit(n_splits=5, random_state=42))"
   ]
  },
  {
   "cell_type": "code",
   "execution_count": 57,
   "metadata": {
    "scrolled": true
   },
   "outputs": [
    {
     "data": {
      "text/plain": [
       "GridSearchCV(cv=ShuffleSplit(n_splits=5, random_state=42, test_size=0.1, train_size=None),\n",
       "       error_score='raise',\n",
       "       estimator=Pipeline(steps=[('skb', SelectKBest(k=40, score_func=<function f_regression at 0x7f3de98d9048>)), ('scaler', StandardScaler(copy=True, with_mean=True, with_std=True)), ('sfm', SelectFromModel(estimator=Lasso(alpha=1.0, copy_X=True, fit_intercept=True, max_iter=1000,\n",
       "   normalize=False, positive=False, precom...alse, precompute=False,\n",
       "      random_state=None, selection='cyclic', tol=0.0001, warm_start=False))]),\n",
       "       fit_params={}, iid=True, n_jobs=-1,\n",
       "       param_grid={'regr__l1_ratio': [0.1, 0.3, 0.5, 0.7, 0.9], 'regr__alpha': array([  1.00000e-03,   1.00000e-02,   1.00000e-01,   1.00000e+00,\n",
       "         1.00000e+01,   1.00000e+02,   1.00000e+03])},\n",
       "       pre_dispatch='2*n_jobs', refit=True, return_train_score=True,\n",
       "       scoring=None, verbose=0)"
      ]
     },
     "execution_count": 57,
     "metadata": {},
     "output_type": "execute_result"
    }
   ],
   "source": [
    "gspipe.fit(X_train, y_train.ravel())"
   ]
  },
  {
   "cell_type": "code",
   "execution_count": 58,
   "metadata": {},
   "outputs": [
    {
     "data": {
      "text/plain": [
       "0.64417030407767828"
      ]
     },
     "execution_count": 58,
     "metadata": {},
     "output_type": "execute_result"
    }
   ],
   "source": [
    "gspipe.best_score_"
   ]
  },
  {
   "cell_type": "markdown",
   "metadata": {},
   "source": [
    "To get the `.steps` or `.named_steps`, we need to access `GridSearchCV`'s `.best_estimator_` parameter, which contains our `Pipeline`. How do we access our model? Our scaler?"
   ]
  },
  {
   "cell_type": "code",
   "execution_count": 59,
   "metadata": {},
   "outputs": [
    {
     "data": {
      "text/plain": [
       "{'regr': ElasticNet(alpha=0.001, copy_X=True, fit_intercept=True, l1_ratio=0.9,\n",
       "       max_iter=1000, normalize=False, positive=False, precompute=False,\n",
       "       random_state=None, selection='cyclic', tol=0.0001, warm_start=False),\n",
       " 'scaler': StandardScaler(copy=True, with_mean=True, with_std=True),\n",
       " 'sfm': SelectFromModel(estimator=Lasso(alpha=1.0, copy_X=True, fit_intercept=True, max_iter=1000,\n",
       "    normalize=False, positive=False, precompute=False, random_state=None,\n",
       "    selection='cyclic', tol=0.0001, warm_start=False),\n",
       "         prefit=False, threshold=None),\n",
       " 'skb': SelectKBest(k=40, score_func=<function f_regression at 0x7f3de98d9048>)}"
      ]
     },
     "execution_count": 59,
     "metadata": {},
     "output_type": "execute_result"
    }
   ],
   "source": [
    "gspipe.best_estimator_.named_steps"
   ]
  },
  {
   "cell_type": "code",
   "execution_count": 60,
   "metadata": {},
   "outputs": [
    {
     "data": {
      "text/plain": [
       "ElasticNet(alpha=0.001, copy_X=True, fit_intercept=True, l1_ratio=0.9,\n",
       "      max_iter=1000, normalize=False, positive=False, precompute=False,\n",
       "      random_state=None, selection='cyclic', tol=0.0001, warm_start=False)"
      ]
     },
     "execution_count": 60,
     "metadata": {},
     "output_type": "execute_result"
    }
   ],
   "source": [
    "gspipe.best_estimator_.named_steps['regr']"
   ]
  },
  {
   "cell_type": "code",
   "execution_count": 61,
   "metadata": {},
   "outputs": [
    {
     "data": {
      "text/plain": [
       "SelectFromModel(estimator=Lasso(alpha=1.0, copy_X=True, fit_intercept=True, max_iter=1000,\n",
       "   normalize=False, positive=False, precompute=False, random_state=None,\n",
       "   selection='cyclic', tol=0.0001, warm_start=False),\n",
       "        prefit=False, threshold=None)"
      ]
     },
     "execution_count": 61,
     "metadata": {},
     "output_type": "execute_result"
    }
   ],
   "source": [
    "gspipe.best_estimator_.named_steps['sfm']"
   ]
  },
  {
   "cell_type": "markdown",
   "metadata": {},
   "source": [
    "## Grid-searching preprocessing steps *and* model parameters\n",
    "---\n",
    "\n",
    "Let's augment our GridSearch from before. Except this time, let's GridSearch our preprocessing steps too to find an optimal pipeline. \n",
    "\n",
    "Before we code it up, look at this handy diagram from `mglearn`. Now finally, we've got proper processing where we're cross-validating not only our models, but our preprocessing steps. **From now on, this is how you should do ALL your modeling!**"
   ]
  },
  {
   "cell_type": "code",
   "execution_count": 62,
   "metadata": {},
   "outputs": [],
   "source": [
    "!pip install --quiet mglearn"
   ]
  },
  {
   "cell_type": "code",
   "execution_count": 64,
   "metadata": {},
   "outputs": [],
   "source": [
    "import mglearn\n",
    "mglearn.plots.plot_improper_processing()"
   ]
  },
  {
   "cell_type": "code",
   "execution_count": 65,
   "metadata": {},
   "outputs": [
    {
     "data": {
      "image/png": "[encoded data removed]",
      "text/plain": [
       "<matplotlib.figure.Figure at 0x7f3dd063ba20>"
      ]
     },
     "metadata": {},
     "output_type": "display_data"
    }
   ],
   "source": [
    "import mglearn\n",
    "%matplotlib inline\n",
    "mglearn.plots.plot_proper_processing()"
   ]
  },
  {
   "cell_type": "code",
   "execution_count": 66,
   "metadata": {},
   "outputs": [],
   "source": [
    "pipe_for_gs = Pipeline([\n",
    "    ('skb', SelectKBest(score_func=f_regression, k=40)),\n",
    "    ('scaler', StandardScaler()),\n",
    "    ('sfm', SelectFromModel(Lasso())),\n",
    "    ('regr', ElasticNet())\n",
    "])"
   ]
  },
  {
   "cell_type": "code",
   "execution_count": 67,
   "metadata": {},
   "outputs": [],
   "source": [
    "params = {\n",
    "    'regr__l1_ratio':[.1,.3,.5,.7,.9],\n",
    "    'regr__alpha':np.logspace(-3,3,7),\n",
    "    'skb__k':[50, 40],\n",
    "    'sfm__estimator':[Lasso(), Ridge()]\n",
    "}"
   ]
  },
  {
   "cell_type": "code",
   "execution_count": 68,
   "metadata": {},
   "outputs": [],
   "source": [
    "gspipe = GridSearchCV(pipe_for_gs,\n",
    "                      param_grid=params,\n",
    "                      n_jobs=-1,\n",
    "                      cv=ShuffleSplit(n_splits=5, random_state=42)\n",
    "                     )"
   ]
  },
  {
   "cell_type": "markdown",
   "metadata": {},
   "source": [
    "This will take a while, and you may see some errors..."
   ]
  },
  {
   "cell_type": "code",
   "execution_count": 69,
   "metadata": {},
   "outputs": [
    {
     "name": "stderr",
     "output_type": "stream",
     "text": [
      "/opt/conda/lib/python3.6/site-packages/sklearn/linear_model/coordinate_descent.py:484: ConvergenceWarning: Objective did not converge. You might want to increase the number of iterations. Fitting data with very small alpha may cause precision problems.\n",
      "  ConvergenceWarning)\n",
      "/opt/conda/lib/python3.6/site-packages/sklearn/linear_model/coordinate_descent.py:484: ConvergenceWarning: Objective did not converge. You might want to increase the number of iterations. Fitting data with very small alpha may cause precision problems.\n",
      "  ConvergenceWarning)\n",
      "/opt/conda/lib/python3.6/site-packages/sklearn/linear_model/coordinate_descent.py:484: ConvergenceWarning: Objective did not converge. You might want to increase the number of iterations. Fitting data with very small alpha may cause precision problems.\n",
      "  ConvergenceWarning)\n",
      "/opt/conda/lib/python3.6/site-packages/sklearn/linear_model/coordinate_descent.py:484: ConvergenceWarning: Objective did not converge. You might want to increase the number of iterations. Fitting data with very small alpha may cause precision problems.\n",
      "  ConvergenceWarning)\n",
      "/opt/conda/lib/python3.6/site-packages/sklearn/linear_model/coordinate_descent.py:484: ConvergenceWarning: Objective did not converge. You might want to increase the number of iterations. Fitting data with very small alpha may cause precision problems.\n",
      "  ConvergenceWarning)\n",
      "/opt/conda/lib/python3.6/site-packages/sklearn/linear_model/coordinate_descent.py:484: ConvergenceWarning: Objective did not converge. You might want to increase the number of iterations. Fitting data with very small alpha may cause precision problems.\n",
      "  ConvergenceWarning)\n"
     ]
    },
    {
     "data": {
      "text/plain": [
       "GridSearchCV(cv=ShuffleSplit(n_splits=5, random_state=42, test_size=0.1, train_size=None),\n",
       "       error_score='raise',\n",
       "       estimator=Pipeline(steps=[('skb', SelectKBest(k=40, score_func=<function f_regression at 0x7f3de98d9048>)), ('scaler', StandardScaler(copy=True, with_mean=True, with_std=True)), ('sfm', SelectFromModel(estimator=Lasso(alpha=1.0, copy_X=True, fit_intercept=True, max_iter=1000,\n",
       "   normalize=False, positive=False, precom...alse, precompute=False,\n",
       "      random_state=None, selection='cyclic', tol=0.0001, warm_start=False))]),\n",
       "       fit_params={}, iid=True, n_jobs=-1,\n",
       "       param_grid={'regr__l1_ratio': [0.1, 0.3, 0.5, 0.7, 0.9], 'regr__alpha': array([  1.00000e-03,   1.00000e-02,   1.00000e-01,   1.00000e+00,\n",
       "         1.00000e+01,   1.00000e+02,   1.00000e+03]), 'skb__k': [50, 40], 'sfm__estimator': [Lasso(alpha=1.0, copy_X=True, fit_intercept=True, max_iter=1000,\n",
       "   ...it_intercept=True, max_iter=None,\n",
       "   normalize=False, random_state=None, solver='auto', tol=0.001)]},\n",
       "       pre_dispatch='2*n_jobs', refit=True, return_train_score=True,\n",
       "       scoring=None, verbose=0)"
      ]
     },
     "execution_count": 69,
     "metadata": {},
     "output_type": "execute_result"
    }
   ],
   "source": [
    "gspipe.fit(X_train, y_train.ravel())"
   ]
  },
  {
   "cell_type": "code",
   "execution_count": 70,
   "metadata": {},
   "outputs": [
    {
     "data": {
      "text/html": [
       "<div>\n",
       "<table border=\"1\" class=\"dataframe\">\n",
       "  <thead>\n",
       "    <tr style=\"text-align: right;\">\n",
       "      <th></th>\n",
       "      <th>16</th>\n",
       "      <th>12</th>\n",
       "      <th>8</th>\n",
       "      <th>4</th>\n",
       "      <th>0</th>\n",
       "      <th>36</th>\n",
       "      <th>32</th>\n",
       "      <th>28</th>\n",
       "      <th>24</th>\n",
       "      <th>20</th>\n",
       "      <th>...</th>\n",
       "      <th>123</th>\n",
       "      <th>122</th>\n",
       "      <th>138</th>\n",
       "      <th>120</th>\n",
       "      <th>119</th>\n",
       "      <th>118</th>\n",
       "      <th>117</th>\n",
       "      <th>116</th>\n",
       "      <th>126</th>\n",
       "      <th>139</th>\n",
       "    </tr>\n",
       "  </thead>\n",
       "  <tbody>\n",
       "    <tr>\n",
       "      <th>mean_fit_time</th>\n",
       "      <td>0.299302</td>\n",
       "      <td>0.303187</td>\n",
       "      <td>0.336216</td>\n",
       "      <td>0.295291</td>\n",
       "      <td>0.335804</td>\n",
       "      <td>0.267271</td>\n",
       "      <td>0.256173</td>\n",
       "      <td>0.243574</td>\n",
       "      <td>0.223235</td>\n",
       "      <td>0.226629</td>\n",
       "      <td>...</td>\n",
       "      <td>0.0358196</td>\n",
       "      <td>0.0413394</td>\n",
       "      <td>0.0396444</td>\n",
       "      <td>0.150191</td>\n",
       "      <td>0.0324168</td>\n",
       "      <td>0.0388289</td>\n",
       "      <td>0.139857</td>\n",
       "      <td>0.150099</td>\n",
       "      <td>0.0414382</td>\n",
       "      <td>0.0353362</td>\n",
       "    </tr>\n",
       "    <tr>\n",
       "      <th>mean_score_time</th>\n",
       "      <td>0.00470228</td>\n",
       "      <td>0.00471344</td>\n",
       "      <td>0.00397501</td>\n",
       "      <td>0.00469613</td>\n",
       "      <td>0.00403438</td>\n",
       "      <td>0.00465426</td>\n",
       "      <td>0.00505619</td>\n",
       "      <td>0.00493112</td>\n",
       "      <td>0.00708108</td>\n",
       "      <td>0.00431542</td>\n",
       "      <td>...</td>\n",
       "      <td>0.00390639</td>\n",
       "      <td>0.00431399</td>\n",
       "      <td>0.00409684</td>\n",
       "      <td>0.00532107</td>\n",
       "      <td>0.00403576</td>\n",
       "      <td>0.00431042</td>\n",
       "      <td>0.0052577</td>\n",
       "      <td>0.00531087</td>\n",
       "      <td>0.00441694</td>\n",
       "      <td>0.0039887</td>\n",
       "    </tr>\n",
       "    <tr>\n",
       "      <th>mean_test_score</th>\n",
       "      <td>0.647937</td>\n",
       "      <td>0.647936</td>\n",
       "      <td>0.647934</td>\n",
       "      <td>0.647933</td>\n",
       "      <td>0.647932</td>\n",
       "      <td>0.647931</td>\n",
       "      <td>0.647907</td>\n",
       "      <td>0.64787</td>\n",
       "      <td>0.647824</td>\n",
       "      <td>0.647771</td>\n",
       "      <td>...</td>\n",
       "      <td>-0.00105024</td>\n",
       "      <td>-0.00105024</td>\n",
       "      <td>-0.00105024</td>\n",
       "      <td>-0.00105024</td>\n",
       "      <td>-0.00105024</td>\n",
       "      <td>-0.00105024</td>\n",
       "      <td>-0.00105024</td>\n",
       "      <td>-0.00105024</td>\n",
       "      <td>-0.00105024</td>\n",
       "      <td>-0.00105024</td>\n",
       "    </tr>\n",
       "    <tr>\n",
       "      <th>mean_train_score</th>\n",
       "      <td>0.638592</td>\n",
       "      <td>0.638592</td>\n",
       "      <td>0.638592</td>\n",
       "      <td>0.638591</td>\n",
       "      <td>0.638591</td>\n",
       "      <td>0.63859</td>\n",
       "      <td>0.638577</td>\n",
       "      <td>0.638557</td>\n",
       "      <td>0.638532</td>\n",
       "      <td>0.638502</td>\n",
       "      <td>...</td>\n",
       "      <td>0</td>\n",
       "      <td>0</td>\n",
       "      <td>0</td>\n",
       "      <td>0</td>\n",
       "      <td>0</td>\n",
       "      <td>0</td>\n",
       "      <td>0</td>\n",
       "      <td>0</td>\n",
       "      <td>0</td>\n",
       "      <td>0</td>\n",
       "    </tr>\n",
       "    <tr>\n",
       "      <th>param_regr__alpha</th>\n",
       "      <td>0.001</td>\n",
       "      <td>0.001</td>\n",
       "      <td>0.001</td>\n",
       "      <td>0.001</td>\n",
       "      <td>0.001</td>\n",
       "      <td>0.01</td>\n",
       "      <td>0.01</td>\n",
       "      <td>0.01</td>\n",
       "      <td>0.01</td>\n",
       "      <td>0.01</td>\n",
       "      <td>...</td>\n",
       "      <td>1000</td>\n",
       "      <td>1000</td>\n",
       "      <td>1000</td>\n",
       "      <td>1000</td>\n",
       "      <td>100</td>\n",
       "      <td>100</td>\n",
       "      <td>100</td>\n",
       "      <td>100</td>\n",
       "      <td>1000</td>\n",
       "      <td>1000</td>\n",
       "    </tr>\n",
       "    <tr>\n",
       "      <th>param_regr__l1_ratio</th>\n",
       "      <td>0.9</td>\n",
       "      <td>0.7</td>\n",
       "      <td>0.5</td>\n",
       "      <td>0.3</td>\n",
       "      <td>0.1</td>\n",
       "      <td>0.9</td>\n",
       "      <td>0.7</td>\n",
       "      <td>0.5</td>\n",
       "      <td>0.3</td>\n",
       "      <td>0.1</td>\n",
       "      <td>...</td>\n",
       "      <td>0.1</td>\n",
       "      <td>0.1</td>\n",
       "      <td>0.9</td>\n",
       "      <td>0.1</td>\n",
       "      <td>0.9</td>\n",
       "      <td>0.9</td>\n",
       "      <td>0.9</td>\n",
       "      <td>0.9</td>\n",
       "      <td>0.3</td>\n",
       "      <td>0.9</td>\n",
       "    </tr>\n",
       "    <tr>\n",
       "      <th>param_sfm__estimator</th>\n",
       "      <td>Lasso(alpha=1.0, copy_X=True, fit_intercept=Tr...</td>\n",
       "      <td>Lasso(alpha=1.0, copy_X=True, fit_intercept=Tr...</td>\n",
       "      <td>Lasso(alpha=1.0, copy_X=True, fit_intercept=Tr...</td>\n",
       "      <td>Lasso(alpha=1.0, copy_X=True, fit_intercept=Tr...</td>\n",
       "      <td>Lasso(alpha=1.0, copy_X=True, fit_intercept=Tr...</td>\n",
       "      <td>Lasso(alpha=1.0, copy_X=True, fit_intercept=Tr...</td>\n",
       "      <td>Lasso(alpha=1.0, copy_X=True, fit_intercept=Tr...</td>\n",
       "      <td>Lasso(alpha=1.0, copy_X=True, fit_intercept=Tr...</td>\n",
       "      <td>Lasso(alpha=1.0, copy_X=True, fit_intercept=Tr...</td>\n",
       "      <td>Lasso(alpha=1.0, copy_X=True, fit_intercept=Tr...</td>\n",
       "      <td>...</td>\n",
       "      <td>Ridge(alpha=1.0, copy_X=True, fit_intercept=Tr...</td>\n",
       "      <td>Ridge(alpha=1.0, copy_X=True, fit_intercept=Tr...</td>\n",
       "      <td>Ridge(alpha=1.0, copy_X=True, fit_intercept=Tr...</td>\n",
       "      <td>Lasso(alpha=1.0, copy_X=True, fit_intercept=Tr...</td>\n",
       "      <td>Ridge(alpha=1.0, copy_X=True, fit_intercept=Tr...</td>\n",
       "      <td>Ridge(alpha=1.0, copy_X=True, fit_intercept=Tr...</td>\n",
       "      <td>Lasso(alpha=1.0, copy_X=True, fit_intercept=Tr...</td>\n",
       "      <td>Lasso(alpha=1.0, copy_X=True, fit_intercept=Tr...</td>\n",
       "      <td>Ridge(alpha=1.0, copy_X=True, fit_intercept=Tr...</td>\n",
       "      <td>Ridge(alpha=1.0, copy_X=True, fit_intercept=Tr...</td>\n",
       "    </tr>\n",
       "    <tr>\n",
       "      <th>param_skb__k</th>\n",
       "      <td>50</td>\n",
       "      <td>50</td>\n",
       "      <td>50</td>\n",
       "      <td>50</td>\n",
       "      <td>50</td>\n",
       "      <td>50</td>\n",
       "      <td>50</td>\n",
       "      <td>50</td>\n",
       "      <td>50</td>\n",
       "      <td>50</td>\n",
       "      <td>...</td>\n",
       "      <td>40</td>\n",
       "      <td>50</td>\n",
       "      <td>50</td>\n",
       "      <td>50</td>\n",
       "      <td>40</td>\n",
       "      <td>50</td>\n",
       "      <td>40</td>\n",
       "      <td>50</td>\n",
       "      <td>50</td>\n",
       "      <td>40</td>\n",
       "    </tr>\n",
       "    <tr>\n",
       "      <th>params</th>\n",
       "      <td>{'regr__alpha': 0.001, 'regr__l1_ratio': 0.9, ...</td>\n",
       "      <td>{'regr__alpha': 0.001, 'regr__l1_ratio': 0.7, ...</td>\n",
       "      <td>{'regr__alpha': 0.001, 'regr__l1_ratio': 0.5, ...</td>\n",
       "      <td>{'regr__alpha': 0.001, 'regr__l1_ratio': 0.3, ...</td>\n",
       "      <td>{'regr__alpha': 0.001, 'regr__l1_ratio': 0.1, ...</td>\n",
       "      <td>{'regr__alpha': 0.01, 'regr__l1_ratio': 0.9, '...</td>\n",
       "      <td>{'regr__alpha': 0.01, 'regr__l1_ratio': 0.7, '...</td>\n",
       "      <td>{'regr__alpha': 0.01, 'regr__l1_ratio': 0.5, '...</td>\n",
       "      <td>{'regr__alpha': 0.01, 'regr__l1_ratio': 0.3, '...</td>\n",
       "      <td>{'regr__alpha': 0.01, 'regr__l1_ratio': 0.1, '...</td>\n",
       "      <td>...</td>\n",
       "      <td>{'regr__alpha': 1000.0, 'regr__l1_ratio': 0.1,...</td>\n",
       "      <td>{'regr__alpha': 1000.0, 'regr__l1_ratio': 0.1,...</td>\n",
       "      <td>{'regr__alpha': 1000.0, 'regr__l1_ratio': 0.9,...</td>\n",
       "      <td>{'regr__alpha': 1000.0, 'regr__l1_ratio': 0.1,...</td>\n",
       "      <td>{'regr__alpha': 100.0, 'regr__l1_ratio': 0.9, ...</td>\n",
       "      <td>{'regr__alpha': 100.0, 'regr__l1_ratio': 0.9, ...</td>\n",
       "      <td>{'regr__alpha': 100.0, 'regr__l1_ratio': 0.9, ...</td>\n",
       "      <td>{'regr__alpha': 100.0, 'regr__l1_ratio': 0.9, ...</td>\n",
       "      <td>{'regr__alpha': 1000.0, 'regr__l1_ratio': 0.3,...</td>\n",
       "      <td>{'regr__alpha': 1000.0, 'regr__l1_ratio': 0.9,...</td>\n",
       "    </tr>\n",
       "    <tr>\n",
       "      <th>rank_test_score</th>\n",
       "      <td>1</td>\n",
       "      <td>2</td>\n",
       "      <td>3</td>\n",
       "      <td>4</td>\n",
       "      <td>5</td>\n",
       "      <td>6</td>\n",
       "      <td>7</td>\n",
       "      <td>8</td>\n",
       "      <td>9</td>\n",
       "      <td>10</td>\n",
       "      <td>...</td>\n",
       "      <td>117</td>\n",
       "      <td>117</td>\n",
       "      <td>117</td>\n",
       "      <td>117</td>\n",
       "      <td>117</td>\n",
       "      <td>117</td>\n",
       "      <td>117</td>\n",
       "      <td>117</td>\n",
       "      <td>117</td>\n",
       "      <td>117</td>\n",
       "    </tr>\n",
       "    <tr>\n",
       "      <th>split0_test_score</th>\n",
       "      <td>0.635145</td>\n",
       "      <td>0.635162</td>\n",
       "      <td>0.635178</td>\n",
       "      <td>0.635194</td>\n",
       "      <td>0.635209</td>\n",
       "      <td>0.635223</td>\n",
       "      <td>0.63534</td>\n",
       "      <td>0.635417</td>\n",
       "      <td>0.635466</td>\n",
       "      <td>0.635494</td>\n",
       "      <td>...</td>\n",
       "      <td>-0.000225412</td>\n",
       "      <td>-0.000225412</td>\n",
       "      <td>-0.000225412</td>\n",
       "      <td>-0.000225412</td>\n",
       "      <td>-0.000225412</td>\n",
       "      <td>-0.000225412</td>\n",
       "      <td>-0.000225412</td>\n",
       "      <td>-0.000225412</td>\n",
       "      <td>-0.000225412</td>\n",
       "      <td>-0.000225412</td>\n",
       "    </tr>\n",
       "    <tr>\n",
       "      <th>split0_train_score</th>\n",
       "      <td>0.639981</td>\n",
       "      <td>0.639981</td>\n",
       "      <td>0.63998</td>\n",
       "      <td>0.63998</td>\n",
       "      <td>0.639979</td>\n",
       "      <td>0.639978</td>\n",
       "      <td>0.639962</td>\n",
       "      <td>0.639936</td>\n",
       "      <td>0.639904</td>\n",
       "      <td>0.639867</td>\n",
       "      <td>...</td>\n",
       "      <td>0</td>\n",
       "      <td>0</td>\n",
       "      <td>0</td>\n",
       "      <td>0</td>\n",
       "      <td>0</td>\n",
       "      <td>0</td>\n",
       "      <td>0</td>\n",
       "      <td>0</td>\n",
       "      <td>0</td>\n",
       "      <td>0</td>\n",
       "    </tr>\n",
       "    <tr>\n",
       "      <th>split1_test_score</th>\n",
       "      <td>0.654256</td>\n",
       "      <td>0.654233</td>\n",
       "      <td>0.654211</td>\n",
       "      <td>0.654188</td>\n",
       "      <td>0.654166</td>\n",
       "      <td>0.654151</td>\n",
       "      <td>0.653947</td>\n",
       "      <td>0.65376</td>\n",
       "      <td>0.653582</td>\n",
       "      <td>0.653408</td>\n",
       "      <td>...</td>\n",
       "      <td>-3.77216e-05</td>\n",
       "      <td>-3.77216e-05</td>\n",
       "      <td>-3.77216e-05</td>\n",
       "      <td>-3.77216e-05</td>\n",
       "      <td>-3.77216e-05</td>\n",
       "      <td>-3.77216e-05</td>\n",
       "      <td>-3.77216e-05</td>\n",
       "      <td>-3.77216e-05</td>\n",
       "      <td>-3.77216e-05</td>\n",
       "      <td>-3.77216e-05</td>\n",
       "    </tr>\n",
       "    <tr>\n",
       "      <th>split1_train_score</th>\n",
       "      <td>0.637561</td>\n",
       "      <td>0.637561</td>\n",
       "      <td>0.63756</td>\n",
       "      <td>0.63756</td>\n",
       "      <td>0.63756</td>\n",
       "      <td>0.637559</td>\n",
       "      <td>0.637549</td>\n",
       "      <td>0.637533</td>\n",
       "      <td>0.637511</td>\n",
       "      <td>0.637486</td>\n",
       "      <td>...</td>\n",
       "      <td>0</td>\n",
       "      <td>0</td>\n",
       "      <td>0</td>\n",
       "      <td>0</td>\n",
       "      <td>0</td>\n",
       "      <td>0</td>\n",
       "      <td>0</td>\n",
       "      <td>0</td>\n",
       "      <td>0</td>\n",
       "      <td>0</td>\n",
       "    </tr>\n",
       "    <tr>\n",
       "      <th>split2_test_score</th>\n",
       "      <td>0.62706</td>\n",
       "      <td>0.62705</td>\n",
       "      <td>0.627041</td>\n",
       "      <td>0.627032</td>\n",
       "      <td>0.627023</td>\n",
       "      <td>0.627022</td>\n",
       "      <td>0.626928</td>\n",
       "      <td>0.626833</td>\n",
       "      <td>0.626737</td>\n",
       "      <td>0.62664</td>\n",
       "      <td>...</td>\n",
       "      <td>-0.00359329</td>\n",
       "      <td>-0.00359329</td>\n",
       "      <td>-0.00359329</td>\n",
       "      <td>-0.00359329</td>\n",
       "      <td>-0.00359329</td>\n",
       "      <td>-0.00359329</td>\n",
       "      <td>-0.00359329</td>\n",
       "      <td>-0.00359329</td>\n",
       "      <td>-0.00359329</td>\n",
       "      <td>-0.00359329</td>\n",
       "    </tr>\n",
       "    <tr>\n",
       "      <th>split2_train_score</th>\n",
       "      <td>0.641124</td>\n",
       "      <td>0.641124</td>\n",
       "      <td>0.641123</td>\n",
       "      <td>0.641123</td>\n",
       "      <td>0.641123</td>\n",
       "      <td>0.641122</td>\n",
       "      <td>0.641112</td>\n",
       "      <td>0.641097</td>\n",
       "      <td>0.641078</td>\n",
       "      <td>0.641056</td>\n",
       "      <td>...</td>\n",
       "      <td>0</td>\n",
       "      <td>0</td>\n",
       "      <td>0</td>\n",
       "      <td>0</td>\n",
       "      <td>0</td>\n",
       "      <td>0</td>\n",
       "      <td>0</td>\n",
       "      <td>0</td>\n",
       "      <td>0</td>\n",
       "      <td>0</td>\n",
       "    </tr>\n",
       "    <tr>\n",
       "      <th>split3_test_score</th>\n",
       "      <td>0.650835</td>\n",
       "      <td>0.650845</td>\n",
       "      <td>0.650855</td>\n",
       "      <td>0.650865</td>\n",
       "      <td>0.650874</td>\n",
       "      <td>0.650891</td>\n",
       "      <td>0.650974</td>\n",
       "      <td>0.651043</td>\n",
       "      <td>0.6511</td>\n",
       "      <td>0.651148</td>\n",
       "      <td>...</td>\n",
       "      <td>-0.00110749</td>\n",
       "      <td>-0.00110749</td>\n",
       "      <td>-0.00110749</td>\n",
       "      <td>-0.00110749</td>\n",
       "      <td>-0.00110749</td>\n",
       "      <td>-0.00110749</td>\n",
       "      <td>-0.00110749</td>\n",
       "      <td>-0.00110749</td>\n",
       "      <td>-0.00110749</td>\n",
       "      <td>-0.00110749</td>\n",
       "    </tr>\n",
       "    <tr>\n",
       "      <th>split3_train_score</th>\n",
       "      <td>0.638418</td>\n",
       "      <td>0.638418</td>\n",
       "      <td>0.638418</td>\n",
       "      <td>0.638417</td>\n",
       "      <td>0.638417</td>\n",
       "      <td>0.638416</td>\n",
       "      <td>0.638403</td>\n",
       "      <td>0.638382</td>\n",
       "      <td>0.638354</td>\n",
       "      <td>0.638322</td>\n",
       "      <td>...</td>\n",
       "      <td>0</td>\n",
       "      <td>0</td>\n",
       "      <td>0</td>\n",
       "      <td>0</td>\n",
       "      <td>0</td>\n",
       "      <td>0</td>\n",
       "      <td>0</td>\n",
       "      <td>0</td>\n",
       "      <td>0</td>\n",
       "      <td>0</td>\n",
       "    </tr>\n",
       "    <tr>\n",
       "      <th>split4_test_score</th>\n",
       "      <td>0.672387</td>\n",
       "      <td>0.672388</td>\n",
       "      <td>0.672387</td>\n",
       "      <td>0.672387</td>\n",
       "      <td>0.672386</td>\n",
       "      <td>0.67237</td>\n",
       "      <td>0.672343</td>\n",
       "      <td>0.672296</td>\n",
       "      <td>0.672236</td>\n",
       "      <td>0.672167</td>\n",
       "      <td>...</td>\n",
       "      <td>-0.000287294</td>\n",
       "      <td>-0.000287294</td>\n",
       "      <td>-0.000287294</td>\n",
       "      <td>-0.000287294</td>\n",
       "      <td>-0.000287294</td>\n",
       "      <td>-0.000287294</td>\n",
       "      <td>-0.000287294</td>\n",
       "      <td>-0.000287294</td>\n",
       "      <td>-0.000287294</td>\n",
       "      <td>-0.000287294</td>\n",
       "    </tr>\n",
       "    <tr>\n",
       "      <th>split4_train_score</th>\n",
       "      <td>0.635876</td>\n",
       "      <td>0.635876</td>\n",
       "      <td>0.635876</td>\n",
       "      <td>0.635875</td>\n",
       "      <td>0.635875</td>\n",
       "      <td>0.635874</td>\n",
       "      <td>0.63586</td>\n",
       "      <td>0.635838</td>\n",
       "      <td>0.635811</td>\n",
       "      <td>0.635779</td>\n",
       "      <td>...</td>\n",
       "      <td>0</td>\n",
       "      <td>0</td>\n",
       "      <td>0</td>\n",
       "      <td>0</td>\n",
       "      <td>0</td>\n",
       "      <td>0</td>\n",
       "      <td>0</td>\n",
       "      <td>0</td>\n",
       "      <td>0</td>\n",
       "      <td>0</td>\n",
       "    </tr>\n",
       "    <tr>\n",
       "      <th>std_fit_time</th>\n",
       "      <td>0.166429</td>\n",
       "      <td>0.173466</td>\n",
       "      <td>0.224606</td>\n",
       "      <td>0.129937</td>\n",
       "      <td>0.192896</td>\n",
       "      <td>0.146961</td>\n",
       "      <td>0.117726</td>\n",
       "      <td>0.123159</td>\n",
       "      <td>0.0812733</td>\n",
       "      <td>0.109532</td>\n",
       "      <td>...</td>\n",
       "      <td>0.00221959</td>\n",
       "      <td>0.00229568</td>\n",
       "      <td>0.00141831</td>\n",
       "      <td>0.0133545</td>\n",
       "      <td>0.00274966</td>\n",
       "      <td>0.00249714</td>\n",
       "      <td>0.0188255</td>\n",
       "      <td>0.0113659</td>\n",
       "      <td>0.00336866</td>\n",
       "      <td>0.00111337</td>\n",
       "    </tr>\n",
       "    <tr>\n",
       "      <th>std_score_time</th>\n",
       "      <td>0.00151749</td>\n",
       "      <td>0.00163301</td>\n",
       "      <td>0.0033815</td>\n",
       "      <td>0.00163543</td>\n",
       "      <td>0.00406868</td>\n",
       "      <td>0.00169338</td>\n",
       "      <td>0.00375239</td>\n",
       "      <td>0.00519915</td>\n",
       "      <td>0.00317234</td>\n",
       "      <td>0.00410812</td>\n",
       "      <td>...</td>\n",
       "      <td>0.000463485</td>\n",
       "      <td>5.66001e-05</td>\n",
       "      <td>7.01509e-05</td>\n",
       "      <td>9.58451e-05</td>\n",
       "      <td>6.84842e-05</td>\n",
       "      <td>8.16168e-05</td>\n",
       "      <td>1.83744e-05</td>\n",
       "      <td>2.39392e-05</td>\n",
       "      <td>0.000227002</td>\n",
       "      <td>5.89112e-05</td>\n",
       "    </tr>\n",
       "    <tr>\n",
       "      <th>std_test_score</th>\n",
       "      <td>0.0157839</td>\n",
       "      <td>0.0157822</td>\n",
       "      <td>0.0157805</td>\n",
       "      <td>0.0157788</td>\n",
       "      <td>0.0157772</td>\n",
       "      <td>0.0157697</td>\n",
       "      <td>0.0157548</td>\n",
       "      <td>0.0157417</td>\n",
       "      <td>0.0157302</td>\n",
       "      <td>0.0157199</td>\n",
       "      <td>...</td>\n",
       "      <td>0.00132348</td>\n",
       "      <td>0.00132348</td>\n",
       "      <td>0.00132348</td>\n",
       "      <td>0.00132348</td>\n",
       "      <td>0.00132348</td>\n",
       "      <td>0.00132348</td>\n",
       "      <td>0.00132348</td>\n",
       "      <td>0.00132348</td>\n",
       "      <td>0.00132348</td>\n",
       "      <td>0.00132348</td>\n",
       "    </tr>\n",
       "    <tr>\n",
       "      <th>std_train_score</th>\n",
       "      <td>0.00183345</td>\n",
       "      <td>0.00183345</td>\n",
       "      <td>0.00183346</td>\n",
       "      <td>0.00183348</td>\n",
       "      <td>0.0018335</td>\n",
       "      <td>0.00183346</td>\n",
       "      <td>0.00183379</td>\n",
       "      <td>0.00183445</td>\n",
       "      <td>0.00183541</td>\n",
       "      <td>0.00183666</td>\n",
       "      <td>...</td>\n",
       "      <td>0</td>\n",
       "      <td>0</td>\n",
       "      <td>0</td>\n",
       "      <td>0</td>\n",
       "      <td>0</td>\n",
       "      <td>0</td>\n",
       "      <td>0</td>\n",
       "      <td>0</td>\n",
       "      <td>0</td>\n",
       "      <td>0</td>\n",
       "    </tr>\n",
       "  </tbody>\n",
       "</table>\n",
       "<p>24 rows × 140 columns</p>\n",
       "</div>"
      ],
      "text/plain": [
       "                                                                    16   \\\n",
       "mean_fit_time                                                  0.299302   \n",
       "mean_score_time                                              0.00470228   \n",
       "mean_test_score                                                0.647937   \n",
       "mean_train_score                                               0.638592   \n",
       "param_regr__alpha                                                 0.001   \n",
       "param_regr__l1_ratio                                                0.9   \n",
       "param_sfm__estimator  Lasso(alpha=1.0, copy_X=True, fit_intercept=Tr...   \n",
       "param_skb__k                                                         50   \n",
       "params                {'regr__alpha': 0.001, 'regr__l1_ratio': 0.9, ...   \n",
       "rank_test_score                                                       1   \n",
       "split0_test_score                                              0.635145   \n",
       "split0_train_score                                             0.639981   \n",
       "split1_test_score                                              0.654256   \n",
       "split1_train_score                                             0.637561   \n",
       "split2_test_score                                               0.62706   \n",
       "split2_train_score                                             0.641124   \n",
       "split3_test_score                                              0.650835   \n",
       "split3_train_score                                             0.638418   \n",
       "split4_test_score                                              0.672387   \n",
       "split4_train_score                                             0.635876   \n",
       "std_fit_time                                                   0.166429   \n",
       "std_score_time                                               0.00151749   \n",
       "std_test_score                                                0.0157839   \n",
       "std_train_score                                              0.00183345   \n",
       "\n",
       "                                                                    12   \\\n",
       "mean_fit_time                                                  0.303187   \n",
       "mean_score_time                                              0.00471344   \n",
       "mean_test_score                                                0.647936   \n",
       "mean_train_score                                               0.638592   \n",
       "param_regr__alpha                                                 0.001   \n",
       "param_regr__l1_ratio                                                0.7   \n",
       "param_sfm__estimator  Lasso(alpha=1.0, copy_X=True, fit_intercept=Tr...   \n",
       "param_skb__k                                                         50   \n",
       "params                {'regr__alpha': 0.001, 'regr__l1_ratio': 0.7, ...   \n",
       "rank_test_score                                                       2   \n",
       "split0_test_score                                              0.635162   \n",
       "split0_train_score                                             0.639981   \n",
       "split1_test_score                                              0.654233   \n",
       "split1_train_score                                             0.637561   \n",
       "split2_test_score                                               0.62705   \n",
       "split2_train_score                                             0.641124   \n",
       "split3_test_score                                              0.650845   \n",
       "split3_train_score                                             0.638418   \n",
       "split4_test_score                                              0.672388   \n",
       "split4_train_score                                             0.635876   \n",
       "std_fit_time                                                   0.173466   \n",
       "std_score_time                                               0.00163301   \n",
       "std_test_score                                                0.0157822   \n",
       "std_train_score                                              0.00183345   \n",
       "\n",
       "                                                                    8    \\\n",
       "mean_fit_time                                                  0.336216   \n",
       "mean_score_time                                              0.00397501   \n",
       "mean_test_score                                                0.647934   \n",
       "mean_train_score                                               0.638592   \n",
       "param_regr__alpha                                                 0.001   \n",
       "param_regr__l1_ratio                                                0.5   \n",
       "param_sfm__estimator  Lasso(alpha=1.0, copy_X=True, fit_intercept=Tr...   \n",
       "param_skb__k                                                         50   \n",
       "params                {'regr__alpha': 0.001, 'regr__l1_ratio': 0.5, ...   \n",
       "rank_test_score                                                       3   \n",
       "split0_test_score                                              0.635178   \n",
       "split0_train_score                                              0.63998   \n",
       "split1_test_score                                              0.654211   \n",
       "split1_train_score                                              0.63756   \n",
       "split2_test_score                                              0.627041   \n",
       "split2_train_score                                             0.641123   \n",
       "split3_test_score                                              0.650855   \n",
       "split3_train_score                                             0.638418   \n",
       "split4_test_score                                              0.672387   \n",
       "split4_train_score                                             0.635876   \n",
       "std_fit_time                                                   0.224606   \n",
       "std_score_time                                                0.0033815   \n",
       "std_test_score                                                0.0157805   \n",
       "std_train_score                                              0.00183346   \n",
       "\n",
       "                                                                    4    \\\n",
       "mean_fit_time                                                  0.295291   \n",
       "mean_score_time                                              0.00469613   \n",
       "mean_test_score                                                0.647933   \n",
       "mean_train_score                                               0.638591   \n",
       "param_regr__alpha                                                 0.001   \n",
       "param_regr__l1_ratio                                                0.3   \n",
       "param_sfm__estimator  Lasso(alpha=1.0, copy_X=True, fit_intercept=Tr...   \n",
       "param_skb__k                                                         50   \n",
       "params                {'regr__alpha': 0.001, 'regr__l1_ratio': 0.3, ...   \n",
       "rank_test_score                                                       4   \n",
       "split0_test_score                                              0.635194   \n",
       "split0_train_score                                              0.63998   \n",
       "split1_test_score                                              0.654188   \n",
       "split1_train_score                                              0.63756   \n",
       "split2_test_score                                              0.627032   \n",
       "split2_train_score                                             0.641123   \n",
       "split3_test_score                                              0.650865   \n",
       "split3_train_score                                             0.638417   \n",
       "split4_test_score                                              0.672387   \n",
       "split4_train_score                                             0.635875   \n",
       "std_fit_time                                                   0.129937   \n",
       "std_score_time                                               0.00163543   \n",
       "std_test_score                                                0.0157788   \n",
       "std_train_score                                              0.00183348   \n",
       "\n",
       "                                                                    0    \\\n",
       "mean_fit_time                                                  0.335804   \n",
       "mean_score_time                                              0.00403438   \n",
       "mean_test_score                                                0.647932   \n",
       "mean_train_score                                               0.638591   \n",
       "param_regr__alpha                                                 0.001   \n",
       "param_regr__l1_ratio                                                0.1   \n",
       "param_sfm__estimator  Lasso(alpha=1.0, copy_X=True, fit_intercept=Tr...   \n",
       "param_skb__k                                                         50   \n",
       "params                {'regr__alpha': 0.001, 'regr__l1_ratio': 0.1, ...   \n",
       "rank_test_score                                                       5   \n",
       "split0_test_score                                              0.635209   \n",
       "split0_train_score                                             0.639979   \n",
       "split1_test_score                                              0.654166   \n",
       "split1_train_score                                              0.63756   \n",
       "split2_test_score                                              0.627023   \n",
       "split2_train_score                                             0.641123   \n",
       "split3_test_score                                              0.650874   \n",
       "split3_train_score                                             0.638417   \n",
       "split4_test_score                                              0.672386   \n",
       "split4_train_score                                             0.635875   \n",
       "std_fit_time                                                   0.192896   \n",
       "std_score_time                                               0.00406868   \n",
       "std_test_score                                                0.0157772   \n",
       "std_train_score                                               0.0018335   \n",
       "\n",
       "                                                                    36   \\\n",
       "mean_fit_time                                                  0.267271   \n",
       "mean_score_time                                              0.00465426   \n",
       "mean_test_score                                                0.647931   \n",
       "mean_train_score                                                0.63859   \n",
       "param_regr__alpha                                                  0.01   \n",
       "param_regr__l1_ratio                                                0.9   \n",
       "param_sfm__estimator  Lasso(alpha=1.0, copy_X=True, fit_intercept=Tr...   \n",
       "param_skb__k                                                         50   \n",
       "params                {'regr__alpha': 0.01, 'regr__l1_ratio': 0.9, '...   \n",
       "rank_test_score                                                       6   \n",
       "split0_test_score                                              0.635223   \n",
       "split0_train_score                                             0.639978   \n",
       "split1_test_score                                              0.654151   \n",
       "split1_train_score                                             0.637559   \n",
       "split2_test_score                                              0.627022   \n",
       "split2_train_score                                             0.641122   \n",
       "split3_test_score                                              0.650891   \n",
       "split3_train_score                                             0.638416   \n",
       "split4_test_score                                               0.67237   \n",
       "split4_train_score                                             0.635874   \n",
       "std_fit_time                                                   0.146961   \n",
       "std_score_time                                               0.00169338   \n",
       "std_test_score                                                0.0157697   \n",
       "std_train_score                                              0.00183346   \n",
       "\n",
       "                                                                    32   \\\n",
       "mean_fit_time                                                  0.256173   \n",
       "mean_score_time                                              0.00505619   \n",
       "mean_test_score                                                0.647907   \n",
       "mean_train_score                                               0.638577   \n",
       "param_regr__alpha                                                  0.01   \n",
       "param_regr__l1_ratio                                                0.7   \n",
       "param_sfm__estimator  Lasso(alpha=1.0, copy_X=True, fit_intercept=Tr...   \n",
       "param_skb__k                                                         50   \n",
       "params                {'regr__alpha': 0.01, 'regr__l1_ratio': 0.7, '...   \n",
       "rank_test_score                                                       7   \n",
       "split0_test_score                                               0.63534   \n",
       "split0_train_score                                             0.639962   \n",
       "split1_test_score                                              0.653947   \n",
       "split1_train_score                                             0.637549   \n",
       "split2_test_score                                              0.626928   \n",
       "split2_train_score                                             0.641112   \n",
       "split3_test_score                                              0.650974   \n",
       "split3_train_score                                             0.638403   \n",
       "split4_test_score                                              0.672343   \n",
       "split4_train_score                                              0.63586   \n",
       "std_fit_time                                                   0.117726   \n",
       "std_score_time                                               0.00375239   \n",
       "std_test_score                                                0.0157548   \n",
       "std_train_score                                              0.00183379   \n",
       "\n",
       "                                                                    28   \\\n",
       "mean_fit_time                                                  0.243574   \n",
       "mean_score_time                                              0.00493112   \n",
       "mean_test_score                                                 0.64787   \n",
       "mean_train_score                                               0.638557   \n",
       "param_regr__alpha                                                  0.01   \n",
       "param_regr__l1_ratio                                                0.5   \n",
       "param_sfm__estimator  Lasso(alpha=1.0, copy_X=True, fit_intercept=Tr...   \n",
       "param_skb__k                                                         50   \n",
       "params                {'regr__alpha': 0.01, 'regr__l1_ratio': 0.5, '...   \n",
       "rank_test_score                                                       8   \n",
       "split0_test_score                                              0.635417   \n",
       "split0_train_score                                             0.639936   \n",
       "split1_test_score                                               0.65376   \n",
       "split1_train_score                                             0.637533   \n",
       "split2_test_score                                              0.626833   \n",
       "split2_train_score                                             0.641097   \n",
       "split3_test_score                                              0.651043   \n",
       "split3_train_score                                             0.638382   \n",
       "split4_test_score                                              0.672296   \n",
       "split4_train_score                                             0.635838   \n",
       "std_fit_time                                                   0.123159   \n",
       "std_score_time                                               0.00519915   \n",
       "std_test_score                                                0.0157417   \n",
       "std_train_score                                              0.00183445   \n",
       "\n",
       "                                                                    24   \\\n",
       "mean_fit_time                                                  0.223235   \n",
       "mean_score_time                                              0.00708108   \n",
       "mean_test_score                                                0.647824   \n",
       "mean_train_score                                               0.638532   \n",
       "param_regr__alpha                                                  0.01   \n",
       "param_regr__l1_ratio                                                0.3   \n",
       "param_sfm__estimator  Lasso(alpha=1.0, copy_X=True, fit_intercept=Tr...   \n",
       "param_skb__k                                                         50   \n",
       "params                {'regr__alpha': 0.01, 'regr__l1_ratio': 0.3, '...   \n",
       "rank_test_score                                                       9   \n",
       "split0_test_score                                              0.635466   \n",
       "split0_train_score                                             0.639904   \n",
       "split1_test_score                                              0.653582   \n",
       "split1_train_score                                             0.637511   \n",
       "split2_test_score                                              0.626737   \n",
       "split2_train_score                                             0.641078   \n",
       "split3_test_score                                                0.6511   \n",
       "split3_train_score                                             0.638354   \n",
       "split4_test_score                                              0.672236   \n",
       "split4_train_score                                             0.635811   \n",
       "std_fit_time                                                  0.0812733   \n",
       "std_score_time                                               0.00317234   \n",
       "std_test_score                                                0.0157302   \n",
       "std_train_score                                              0.00183541   \n",
       "\n",
       "                                                                    20   \\\n",
       "mean_fit_time                                                  0.226629   \n",
       "mean_score_time                                              0.00431542   \n",
       "mean_test_score                                                0.647771   \n",
       "mean_train_score                                               0.638502   \n",
       "param_regr__alpha                                                  0.01   \n",
       "param_regr__l1_ratio                                                0.1   \n",
       "param_sfm__estimator  Lasso(alpha=1.0, copy_X=True, fit_intercept=Tr...   \n",
       "param_skb__k                                                         50   \n",
       "params                {'regr__alpha': 0.01, 'regr__l1_ratio': 0.1, '...   \n",
       "rank_test_score                                                      10   \n",
       "split0_test_score                                              0.635494   \n",
       "split0_train_score                                             0.639867   \n",
       "split1_test_score                                              0.653408   \n",
       "split1_train_score                                             0.637486   \n",
       "split2_test_score                                               0.62664   \n",
       "split2_train_score                                             0.641056   \n",
       "split3_test_score                                              0.651148   \n",
       "split3_train_score                                             0.638322   \n",
       "split4_test_score                                              0.672167   \n",
       "split4_train_score                                             0.635779   \n",
       "std_fit_time                                                   0.109532   \n",
       "std_score_time                                               0.00410812   \n",
       "std_test_score                                                0.0157199   \n",
       "std_train_score                                              0.00183666   \n",
       "\n",
       "                                            ...                          \\\n",
       "mean_fit_time                               ...                           \n",
       "mean_score_time                             ...                           \n",
       "mean_test_score                             ...                           \n",
       "mean_train_score                            ...                           \n",
       "param_regr__alpha                           ...                           \n",
       "param_regr__l1_ratio                        ...                           \n",
       "param_sfm__estimator                        ...                           \n",
       "param_skb__k                                ...                           \n",
       "params                                      ...                           \n",
       "rank_test_score                             ...                           \n",
       "split0_test_score                           ...                           \n",
       "split0_train_score                          ...                           \n",
       "split1_test_score                           ...                           \n",
       "split1_train_score                          ...                           \n",
       "split2_test_score                           ...                           \n",
       "split2_train_score                          ...                           \n",
       "split3_test_score                           ...                           \n",
       "split3_train_score                          ...                           \n",
       "split4_test_score                           ...                           \n",
       "split4_train_score                          ...                           \n",
       "std_fit_time                                ...                           \n",
       "std_score_time                              ...                           \n",
       "std_test_score                              ...                           \n",
       "std_train_score                             ...                           \n",
       "\n",
       "                                                                    123  \\\n",
       "mean_fit_time                                                 0.0358196   \n",
       "mean_score_time                                              0.00390639   \n",
       "mean_test_score                                             -0.00105024   \n",
       "mean_train_score                                                      0   \n",
       "param_regr__alpha                                                  1000   \n",
       "param_regr__l1_ratio                                                0.1   \n",
       "param_sfm__estimator  Ridge(alpha=1.0, copy_X=True, fit_intercept=Tr...   \n",
       "param_skb__k                                                         40   \n",
       "params                {'regr__alpha': 1000.0, 'regr__l1_ratio': 0.1,...   \n",
       "rank_test_score                                                     117   \n",
       "split0_test_score                                          -0.000225412   \n",
       "split0_train_score                                                    0   \n",
       "split1_test_score                                          -3.77216e-05   \n",
       "split1_train_score                                                    0   \n",
       "split2_test_score                                           -0.00359329   \n",
       "split2_train_score                                                    0   \n",
       "split3_test_score                                           -0.00110749   \n",
       "split3_train_score                                                    0   \n",
       "split4_test_score                                          -0.000287294   \n",
       "split4_train_score                                                    0   \n",
       "std_fit_time                                                 0.00221959   \n",
       "std_score_time                                              0.000463485   \n",
       "std_test_score                                               0.00132348   \n",
       "std_train_score                                                       0   \n",
       "\n",
       "                                                                    122  \\\n",
       "mean_fit_time                                                 0.0413394   \n",
       "mean_score_time                                              0.00431399   \n",
       "mean_test_score                                             -0.00105024   \n",
       "mean_train_score                                                      0   \n",
       "param_regr__alpha                                                  1000   \n",
       "param_regr__l1_ratio                                                0.1   \n",
       "param_sfm__estimator  Ridge(alpha=1.0, copy_X=True, fit_intercept=Tr...   \n",
       "param_skb__k                                                         50   \n",
       "params                {'regr__alpha': 1000.0, 'regr__l1_ratio': 0.1,...   \n",
       "rank_test_score                                                     117   \n",
       "split0_test_score                                          -0.000225412   \n",
       "split0_train_score                                                    0   \n",
       "split1_test_score                                          -3.77216e-05   \n",
       "split1_train_score                                                    0   \n",
       "split2_test_score                                           -0.00359329   \n",
       "split2_train_score                                                    0   \n",
       "split3_test_score                                           -0.00110749   \n",
       "split3_train_score                                                    0   \n",
       "split4_test_score                                          -0.000287294   \n",
       "split4_train_score                                                    0   \n",
       "std_fit_time                                                 0.00229568   \n",
       "std_score_time                                              5.66001e-05   \n",
       "std_test_score                                               0.00132348   \n",
       "std_train_score                                                       0   \n",
       "\n",
       "                                                                    138  \\\n",
       "mean_fit_time                                                 0.0396444   \n",
       "mean_score_time                                              0.00409684   \n",
       "mean_test_score                                             -0.00105024   \n",
       "mean_train_score                                                      0   \n",
       "param_regr__alpha                                                  1000   \n",
       "param_regr__l1_ratio                                                0.9   \n",
       "param_sfm__estimator  Ridge(alpha=1.0, copy_X=True, fit_intercept=Tr...   \n",
       "param_skb__k                                                         50   \n",
       "params                {'regr__alpha': 1000.0, 'regr__l1_ratio': 0.9,...   \n",
       "rank_test_score                                                     117   \n",
       "split0_test_score                                          -0.000225412   \n",
       "split0_train_score                                                    0   \n",
       "split1_test_score                                          -3.77216e-05   \n",
       "split1_train_score                                                    0   \n",
       "split2_test_score                                           -0.00359329   \n",
       "split2_train_score                                                    0   \n",
       "split3_test_score                                           -0.00110749   \n",
       "split3_train_score                                                    0   \n",
       "split4_test_score                                          -0.000287294   \n",
       "split4_train_score                                                    0   \n",
       "std_fit_time                                                 0.00141831   \n",
       "std_score_time                                              7.01509e-05   \n",
       "std_test_score                                               0.00132348   \n",
       "std_train_score                                                       0   \n",
       "\n",
       "                                                                    120  \\\n",
       "mean_fit_time                                                  0.150191   \n",
       "mean_score_time                                              0.00532107   \n",
       "mean_test_score                                             -0.00105024   \n",
       "mean_train_score                                                      0   \n",
       "param_regr__alpha                                                  1000   \n",
       "param_regr__l1_ratio                                                0.1   \n",
       "param_sfm__estimator  Lasso(alpha=1.0, copy_X=True, fit_intercept=Tr...   \n",
       "param_skb__k                                                         50   \n",
       "params                {'regr__alpha': 1000.0, 'regr__l1_ratio': 0.1,...   \n",
       "rank_test_score                                                     117   \n",
       "split0_test_score                                          -0.000225412   \n",
       "split0_train_score                                                    0   \n",
       "split1_test_score                                          -3.77216e-05   \n",
       "split1_train_score                                                    0   \n",
       "split2_test_score                                           -0.00359329   \n",
       "split2_train_score                                                    0   \n",
       "split3_test_score                                           -0.00110749   \n",
       "split3_train_score                                                    0   \n",
       "split4_test_score                                          -0.000287294   \n",
       "split4_train_score                                                    0   \n",
       "std_fit_time                                                  0.0133545   \n",
       "std_score_time                                              9.58451e-05   \n",
       "std_test_score                                               0.00132348   \n",
       "std_train_score                                                       0   \n",
       "\n",
       "                                                                    119  \\\n",
       "mean_fit_time                                                 0.0324168   \n",
       "mean_score_time                                              0.00403576   \n",
       "mean_test_score                                             -0.00105024   \n",
       "mean_train_score                                                      0   \n",
       "param_regr__alpha                                                   100   \n",
       "param_regr__l1_ratio                                                0.9   \n",
       "param_sfm__estimator  Ridge(alpha=1.0, copy_X=True, fit_intercept=Tr...   \n",
       "param_skb__k                                                         40   \n",
       "params                {'regr__alpha': 100.0, 'regr__l1_ratio': 0.9, ...   \n",
       "rank_test_score                                                     117   \n",
       "split0_test_score                                          -0.000225412   \n",
       "split0_train_score                                                    0   \n",
       "split1_test_score                                          -3.77216e-05   \n",
       "split1_train_score                                                    0   \n",
       "split2_test_score                                           -0.00359329   \n",
       "split2_train_score                                                    0   \n",
       "split3_test_score                                           -0.00110749   \n",
       "split3_train_score                                                    0   \n",
       "split4_test_score                                          -0.000287294   \n",
       "split4_train_score                                                    0   \n",
       "std_fit_time                                                 0.00274966   \n",
       "std_score_time                                              6.84842e-05   \n",
       "std_test_score                                               0.00132348   \n",
       "std_train_score                                                       0   \n",
       "\n",
       "                                                                    118  \\\n",
       "mean_fit_time                                                 0.0388289   \n",
       "mean_score_time                                              0.00431042   \n",
       "mean_test_score                                             -0.00105024   \n",
       "mean_train_score                                                      0   \n",
       "param_regr__alpha                                                   100   \n",
       "param_regr__l1_ratio                                                0.9   \n",
       "param_sfm__estimator  Ridge(alpha=1.0, copy_X=True, fit_intercept=Tr...   \n",
       "param_skb__k                                                         50   \n",
       "params                {'regr__alpha': 100.0, 'regr__l1_ratio': 0.9, ...   \n",
       "rank_test_score                                                     117   \n",
       "split0_test_score                                          -0.000225412   \n",
       "split0_train_score                                                    0   \n",
       "split1_test_score                                          -3.77216e-05   \n",
       "split1_train_score                                                    0   \n",
       "split2_test_score                                           -0.00359329   \n",
       "split2_train_score                                                    0   \n",
       "split3_test_score                                           -0.00110749   \n",
       "split3_train_score                                                    0   \n",
       "split4_test_score                                          -0.000287294   \n",
       "split4_train_score                                                    0   \n",
       "std_fit_time                                                 0.00249714   \n",
       "std_score_time                                              8.16168e-05   \n",
       "std_test_score                                               0.00132348   \n",
       "std_train_score                                                       0   \n",
       "\n",
       "                                                                    117  \\\n",
       "mean_fit_time                                                  0.139857   \n",
       "mean_score_time                                               0.0052577   \n",
       "mean_test_score                                             -0.00105024   \n",
       "mean_train_score                                                      0   \n",
       "param_regr__alpha                                                   100   \n",
       "param_regr__l1_ratio                                                0.9   \n",
       "param_sfm__estimator  Lasso(alpha=1.0, copy_X=True, fit_intercept=Tr...   \n",
       "param_skb__k                                                         40   \n",
       "params                {'regr__alpha': 100.0, 'regr__l1_ratio': 0.9, ...   \n",
       "rank_test_score                                                     117   \n",
       "split0_test_score                                          -0.000225412   \n",
       "split0_train_score                                                    0   \n",
       "split1_test_score                                          -3.77216e-05   \n",
       "split1_train_score                                                    0   \n",
       "split2_test_score                                           -0.00359329   \n",
       "split2_train_score                                                    0   \n",
       "split3_test_score                                           -0.00110749   \n",
       "split3_train_score                                                    0   \n",
       "split4_test_score                                          -0.000287294   \n",
       "split4_train_score                                                    0   \n",
       "std_fit_time                                                  0.0188255   \n",
       "std_score_time                                              1.83744e-05   \n",
       "std_test_score                                               0.00132348   \n",
       "std_train_score                                                       0   \n",
       "\n",
       "                                                                    116  \\\n",
       "mean_fit_time                                                  0.150099   \n",
       "mean_score_time                                              0.00531087   \n",
       "mean_test_score                                             -0.00105024   \n",
       "mean_train_score                                                      0   \n",
       "param_regr__alpha                                                   100   \n",
       "param_regr__l1_ratio                                                0.9   \n",
       "param_sfm__estimator  Lasso(alpha=1.0, copy_X=True, fit_intercept=Tr...   \n",
       "param_skb__k                                                         50   \n",
       "params                {'regr__alpha': 100.0, 'regr__l1_ratio': 0.9, ...   \n",
       "rank_test_score                                                     117   \n",
       "split0_test_score                                          -0.000225412   \n",
       "split0_train_score                                                    0   \n",
       "split1_test_score                                          -3.77216e-05   \n",
       "split1_train_score                                                    0   \n",
       "split2_test_score                                           -0.00359329   \n",
       "split2_train_score                                                    0   \n",
       "split3_test_score                                           -0.00110749   \n",
       "split3_train_score                                                    0   \n",
       "split4_test_score                                          -0.000287294   \n",
       "split4_train_score                                                    0   \n",
       "std_fit_time                                                  0.0113659   \n",
       "std_score_time                                              2.39392e-05   \n",
       "std_test_score                                               0.00132348   \n",
       "std_train_score                                                       0   \n",
       "\n",
       "                                                                    126  \\\n",
       "mean_fit_time                                                 0.0414382   \n",
       "mean_score_time                                              0.00441694   \n",
       "mean_test_score                                             -0.00105024   \n",
       "mean_train_score                                                      0   \n",
       "param_regr__alpha                                                  1000   \n",
       "param_regr__l1_ratio                                                0.3   \n",
       "param_sfm__estimator  Ridge(alpha=1.0, copy_X=True, fit_intercept=Tr...   \n",
       "param_skb__k                                                         50   \n",
       "params                {'regr__alpha': 1000.0, 'regr__l1_ratio': 0.3,...   \n",
       "rank_test_score                                                     117   \n",
       "split0_test_score                                          -0.000225412   \n",
       "split0_train_score                                                    0   \n",
       "split1_test_score                                          -3.77216e-05   \n",
       "split1_train_score                                                    0   \n",
       "split2_test_score                                           -0.00359329   \n",
       "split2_train_score                                                    0   \n",
       "split3_test_score                                           -0.00110749   \n",
       "split3_train_score                                                    0   \n",
       "split4_test_score                                          -0.000287294   \n",
       "split4_train_score                                                    0   \n",
       "std_fit_time                                                 0.00336866   \n",
       "std_score_time                                              0.000227002   \n",
       "std_test_score                                               0.00132348   \n",
       "std_train_score                                                       0   \n",
       "\n",
       "                                                                    139  \n",
       "mean_fit_time                                                 0.0353362  \n",
       "mean_score_time                                               0.0039887  \n",
       "mean_test_score                                             -0.00105024  \n",
       "mean_train_score                                                      0  \n",
       "param_regr__alpha                                                  1000  \n",
       "param_regr__l1_ratio                                                0.9  \n",
       "param_sfm__estimator  Ridge(alpha=1.0, copy_X=True, fit_intercept=Tr...  \n",
       "param_skb__k                                                         40  \n",
       "params                {'regr__alpha': 1000.0, 'regr__l1_ratio': 0.9,...  \n",
       "rank_test_score                                                     117  \n",
       "split0_test_score                                          -0.000225412  \n",
       "split0_train_score                                                    0  \n",
       "split1_test_score                                          -3.77216e-05  \n",
       "split1_train_score                                                    0  \n",
       "split2_test_score                                           -0.00359329  \n",
       "split2_train_score                                                    0  \n",
       "split3_test_score                                           -0.00110749  \n",
       "split3_train_score                                                    0  \n",
       "split4_test_score                                          -0.000287294  \n",
       "split4_train_score                                                    0  \n",
       "std_fit_time                                                 0.00111337  \n",
       "std_score_time                                              5.89112e-05  \n",
       "std_test_score                                               0.00132348  \n",
       "std_train_score                                                       0  \n",
       "\n",
       "[24 rows x 140 columns]"
      ]
     },
     "execution_count": 70,
     "metadata": {},
     "output_type": "execute_result"
    }
   ],
   "source": [
    "gspipe_results = pd.DataFrame(gspipe.cv_results_)\n",
    "\n",
    "gspipe_results.sort_values('rank_test_score', ascending=True).T"
   ]
  },
  {
   "cell_type": "markdown",
   "metadata": {},
   "source": [
    "##  NOTE:\n",
    "\n",
    "You can also use user-defined classes to build preprocessing into Pipelines, as long as they have a `.fit` and a `.transform` method. "
   ]
  },
  {
   "cell_type": "code",
   "execution_count": null,
   "metadata": {},
   "outputs": [],
   "source": []
  }
 ],
 "metadata": {
  "kernelspec": {
   "display_name": "Python 3",
   "language": "python",
   "name": "python3"
  },
  "language_info": {
   "codemirror_mode": {
    "name": "ipython",
    "version": 3
   },
   "file_extension": ".py",
   "mimetype": "text/x-python",
   "name": "python",
   "nbconvert_exporter": "python",
   "pygments_lexer": "ipython3",
   "version": "3.6.4"
  }
 },
 "nbformat": 4,
 "nbformat_minor": 2
}
