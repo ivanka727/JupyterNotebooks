{
 "cells": [
  {
   "cell_type": "code",
   "execution_count": 1,
   "metadata": {},
   "outputs": [
    {
     "name": "stdout",
     "output_type": "stream",
     "text": [
      "/home/jovyan/2018-W-450-4/02-learning-curves\n"
     ]
    }
   ],
   "source": [
    "cd .."
   ]
  },
  {
   "cell_type": "code",
   "execution_count": 2,
   "metadata": {},
   "outputs": [],
   "source": [
    "run __init__.py"
   ]
  },
  {
   "cell_type": "code",
   "execution_count": 3,
   "metadata": {},
   "outputs": [],
   "source": [
    "adult_feature_names = ['age', 'workclass', 'fnlwgt', 'education', 'education-num', \n",
    "                       'marital-status', 'occupation', 'relationship', \n",
    "                       'race', 'sex', 'capital-gain', 'capital-loss', \n",
    "                       'hours-per-week', 'native-country', 'target_class']"
   ]
  },
  {
   "cell_type": "code",
   "execution_count": 4,
   "metadata": {},
   "outputs": [],
   "source": [
    "adult_df = pd.read_csv('data/adult.data.csv', header=None)\n",
    "adult_df.columns = adult_feature_names\n",
    "adult_data_df = adult_df.drop('target_class', axis=1)\n",
    "adult_labels_srs = adult_df['target_class']\n",
    "# series is columns in panda, a collection of series is dataframe"
   ]
  },
  {
   "cell_type": "code",
   "execution_count": 7,
   "metadata": {},
   "outputs": [
    {
     "data": {
      "text/plain": [
       "0     <=50K\n",
       "1     <=50K\n",
       "2     <=50K\n",
       "3     <=50K\n",
       "4     <=50K\n",
       "Name: target_class, dtype: object"
      ]
     },
     "execution_count": 7,
     "metadata": {},
     "output_type": "execute_result"
    }
   ],
   "source": [
    "adult_labels_srs.head()"
   ]
  },
  {
   "cell_type": "code",
   "execution_count": 55,
   "metadata": {},
   "outputs": [
    {
     "data": {
      "text/plain": [
       "array([' <=50K', ' >50K'], dtype=object)"
      ]
     },
     "execution_count": 55,
     "metadata": {},
     "output_type": "execute_result"
    }
   ],
   "source": [
    "adult_labels_srs.unique() \n",
    "# It's a binary classification"
   ]
  },
  {
   "cell_type": "code",
   "execution_count": 56,
   "metadata": {},
   "outputs": [],
   "source": [
    "from sklearn.preprocessing import LabelEncoder\n",
    "le = LabelEncoder()\n",
    "encoded_labels = (LabelEncoder()\n",
    "                  .fit_transform(adult_labels_srs))"
   ]
  },
  {
   "cell_type": "code",
   "execution_count": 57,
   "metadata": {},
   "outputs": [
    {
     "data": {
      "text/plain": [
       "array([1, 0, 0, 0, 0])"
      ]
     },
     "execution_count": 57,
     "metadata": {},
     "output_type": "execute_result"
    }
   ],
   "source": [
    "encoded_labels[20:25]"
   ]
  },
  {
   "cell_type": "code",
   "execution_count": 59,
   "metadata": {},
   "outputs": [
    {
     "data": {
      "text/plain": [
       "array([0, 1])"
      ]
     },
     "execution_count": 59,
     "metadata": {},
     "output_type": "execute_result"
    }
   ],
   "source": [
    "adult_labels_srs = pd.Series(encoded_labels)\n",
    "adult_labels_srs.unique()"
   ]
  },
  {
   "cell_type": "markdown",
   "metadata": {},
   "source": [
    "1. Features should be dummy/one-hot encode\n",
    "2. Target should be label/encode"
   ]
  },
  {
   "cell_type": "code",
   "execution_count": 7,
   "metadata": {},
   "outputs": [
    {
     "data": {
      "image/png": "[encoded data removed]",
      "text/plain": [
       "<matplotlib.figure.Figure at 0x7f97fd79a2e8>"
      ]
     },
     "metadata": {},
     "output_type": "display_data"
    }
   ],
   "source": [
    "plt.hist(adult_labels_srs);\n",
    "# It's a binary variable, there are way more 0 than 1."
   ]
  },
  {
   "cell_type": "code",
   "execution_count": 8,
   "metadata": {},
   "outputs": [],
   "source": [
    "from sklearn.model_selection import train_test_split"
   ]
  },
  {
   "cell_type": "code",
   "execution_count": 9,
   "metadata": {},
   "outputs": [],
   "source": [
    "adult_train_data, \\\n",
    "    adult_test_data, \\\n",
    "    adult_train_labels, \\\n",
    "    adult_test_labels = train_test_split(adult_data_df, adult_labels_srs, test_size=0.23, \n",
    "                                         random_state=42, stratify=adult_labels_srs)\n",
    "adult_train_data = adult_train_data.copy()\n",
    "adult_test_data = adult_test_data.copy()\n",
    "adult_train_labels = adult_train_labels.copy()\n",
    "adult_test_labels = adult_test_labels.copy()\n",
    "# \"\\\" is to ignore the line break"
   ]
  },
  {
   "cell_type": "code",
   "execution_count": 10,
   "metadata": {},
   "outputs": [
    {
     "data": {
      "text/plain": [
       "<matplotlib.legend.Legend at 0x7f97f9ea74e0>"
      ]
     },
     "execution_count": 10,
     "metadata": {},
     "output_type": "execute_result"
    },
    {
     "data": {
      "image/png": "[encoded data removed]",
      "text/plain": [
       "<matplotlib.figure.Figure at 0x7f97f9fdb940>"
      ]
     },
     "metadata": {},
     "output_type": "display_data"
    }
   ],
   "source": [
    "fig = plt.figure(figsize=(12,4))\n",
    "fig.add_subplot(1,2,1)\n",
    "plt.hist(adult_train_labels, label='train')\n",
    "plt.hist(adult_test_labels, label='test')\n",
    "plt.legend()\n",
    "fig.add_subplot(1,2,2)\n",
    "sns.distplot(adult_train_labels, label='train')\n",
    "sns.distplot(adult_test_labels, label='test')\n",
    "plt.legend()"
   ]
  },
  {
   "cell_type": "code",
   "execution_count": 11,
   "metadata": {},
   "outputs": [
    {
     "data": {
      "text/plain": [
       "((25071, 14), (7490, 14), (25071,), (7490,))"
      ]
     },
     "execution_count": 11,
     "metadata": {},
     "output_type": "execute_result"
    }
   ],
   "source": [
    "(adult_train_data.shape,\n",
    " adult_test_data.shape,\n",
    " adult_train_labels.shape,\n",
    " adult_test_labels.shape)"
   ]
  },
  {
   "cell_type": "code",
   "execution_count": 12,
   "metadata": {},
   "outputs": [
    {
     "data": {
      "text/html": [
       "<div>\n",
       "<table border=\"1\" class=\"dataframe\">\n",
       "  <thead>\n",
       "    <tr style=\"text-align: right;\">\n",
       "      <th></th>\n",
       "      <th>age</th>\n",
       "      <th>workclass</th>\n",
       "      <th>fnlwgt</th>\n",
       "      <th>education</th>\n",
       "      <th>education-num</th>\n",
       "      <th>marital-status</th>\n",
       "      <th>occupation</th>\n",
       "      <th>relationship</th>\n",
       "      <th>race</th>\n",
       "      <th>sex</th>\n",
       "      <th>capital-gain</th>\n",
       "      <th>capital-loss</th>\n",
       "      <th>hours-per-week</th>\n",
       "      <th>native-country</th>\n",
       "    </tr>\n",
       "  </thead>\n",
       "  <tbody>\n",
       "    <tr>\n",
       "      <th>21703</th>\n",
       "      <td>34</td>\n",
       "      <td>Private</td>\n",
       "      <td>295855</td>\n",
       "      <td>11th</td>\n",
       "      <td>7</td>\n",
       "      <td>Divorced</td>\n",
       "      <td>Other-service</td>\n",
       "      <td>Not-in-family</td>\n",
       "      <td>White</td>\n",
       "      <td>Female</td>\n",
       "      <td>0</td>\n",
       "      <td>0</td>\n",
       "      <td>70</td>\n",
       "      <td>United-States</td>\n",
       "    </tr>\n",
       "    <tr>\n",
       "      <th>25429</th>\n",
       "      <td>50</td>\n",
       "      <td>Private</td>\n",
       "      <td>268553</td>\n",
       "      <td>HS-grad</td>\n",
       "      <td>9</td>\n",
       "      <td>Married-civ-spouse</td>\n",
       "      <td>Transport-moving</td>\n",
       "      <td>Husband</td>\n",
       "      <td>White</td>\n",
       "      <td>Male</td>\n",
       "      <td>7298</td>\n",
       "      <td>0</td>\n",
       "      <td>40</td>\n",
       "      <td>United-States</td>\n",
       "    </tr>\n",
       "    <tr>\n",
       "      <th>3820</th>\n",
       "      <td>24</td>\n",
       "      <td>Self-emp-not-inc</td>\n",
       "      <td>37440</td>\n",
       "      <td>Bachelors</td>\n",
       "      <td>13</td>\n",
       "      <td>Never-married</td>\n",
       "      <td>Farming-fishing</td>\n",
       "      <td>Unmarried</td>\n",
       "      <td>White</td>\n",
       "      <td>Male</td>\n",
       "      <td>0</td>\n",
       "      <td>0</td>\n",
       "      <td>50</td>\n",
       "      <td>United-States</td>\n",
       "    </tr>\n",
       "    <tr>\n",
       "      <th>16477</th>\n",
       "      <td>51</td>\n",
       "      <td>Private</td>\n",
       "      <td>162988</td>\n",
       "      <td>10th</td>\n",
       "      <td>6</td>\n",
       "      <td>Divorced</td>\n",
       "      <td>Other-service</td>\n",
       "      <td>Unmarried</td>\n",
       "      <td>White</td>\n",
       "      <td>Female</td>\n",
       "      <td>0</td>\n",
       "      <td>0</td>\n",
       "      <td>25</td>\n",
       "      <td>United-States</td>\n",
       "    </tr>\n",
       "  </tbody>\n",
       "</table>\n",
       "</div>"
      ],
      "text/plain": [
       "       age          workclass  fnlwgt   education  education-num  \\\n",
       "21703   34            Private  295855        11th              7   \n",
       "25429   50            Private  268553     HS-grad              9   \n",
       "3820    24   Self-emp-not-inc   37440   Bachelors             13   \n",
       "16477   51            Private  162988        10th              6   \n",
       "\n",
       "            marital-status         occupation    relationship    race  \\\n",
       "21703             Divorced      Other-service   Not-in-family   White   \n",
       "25429   Married-civ-spouse   Transport-moving         Husband   White   \n",
       "3820         Never-married    Farming-fishing       Unmarried   White   \n",
       "16477             Divorced      Other-service       Unmarried   White   \n",
       "\n",
       "           sex  capital-gain  capital-loss  hours-per-week  native-country  \n",
       "21703   Female             0             0              70   United-States  \n",
       "25429     Male          7298             0              40   United-States  \n",
       "3820      Male             0             0              50   United-States  \n",
       "16477   Female             0             0              25   United-States  "
      ]
     },
     "metadata": {},
     "output_type": "display_data"
    },
    {
     "data": {
      "text/html": [
       "<div>\n",
       "<table border=\"1\" class=\"dataframe\">\n",
       "  <thead>\n",
       "    <tr style=\"text-align: right;\">\n",
       "      <th></th>\n",
       "      <th>age</th>\n",
       "      <th>workclass</th>\n",
       "      <th>fnlwgt</th>\n",
       "      <th>education</th>\n",
       "      <th>education-num</th>\n",
       "      <th>marital-status</th>\n",
       "      <th>occupation</th>\n",
       "      <th>relationship</th>\n",
       "      <th>race</th>\n",
       "      <th>sex</th>\n",
       "      <th>capital-gain</th>\n",
       "      <th>capital-loss</th>\n",
       "      <th>hours-per-week</th>\n",
       "      <th>native-country</th>\n",
       "    </tr>\n",
       "  </thead>\n",
       "  <tbody>\n",
       "    <tr>\n",
       "      <th>505</th>\n",
       "      <td>24</td>\n",
       "      <td>Private</td>\n",
       "      <td>388093</td>\n",
       "      <td>Bachelors</td>\n",
       "      <td>13</td>\n",
       "      <td>Never-married</td>\n",
       "      <td>Exec-managerial</td>\n",
       "      <td>Not-in-family</td>\n",
       "      <td>Black</td>\n",
       "      <td>Male</td>\n",
       "      <td>0</td>\n",
       "      <td>0</td>\n",
       "      <td>40</td>\n",
       "      <td>United-States</td>\n",
       "    </tr>\n",
       "    <tr>\n",
       "      <th>28501</th>\n",
       "      <td>52</td>\n",
       "      <td>Private</td>\n",
       "      <td>125932</td>\n",
       "      <td>7th-8th</td>\n",
       "      <td>4</td>\n",
       "      <td>Widowed</td>\n",
       "      <td>Other-service</td>\n",
       "      <td>Not-in-family</td>\n",
       "      <td>White</td>\n",
       "      <td>Female</td>\n",
       "      <td>0</td>\n",
       "      <td>0</td>\n",
       "      <td>40</td>\n",
       "      <td>United-States</td>\n",
       "    </tr>\n",
       "    <tr>\n",
       "      <th>22819</th>\n",
       "      <td>32</td>\n",
       "      <td>Local-gov</td>\n",
       "      <td>191731</td>\n",
       "      <td>Some-college</td>\n",
       "      <td>10</td>\n",
       "      <td>Never-married</td>\n",
       "      <td>Adm-clerical</td>\n",
       "      <td>Unmarried</td>\n",
       "      <td>Black</td>\n",
       "      <td>Female</td>\n",
       "      <td>0</td>\n",
       "      <td>0</td>\n",
       "      <td>40</td>\n",
       "      <td>United-States</td>\n",
       "    </tr>\n",
       "    <tr>\n",
       "      <th>31955</th>\n",
       "      <td>46</td>\n",
       "      <td>Local-gov</td>\n",
       "      <td>267952</td>\n",
       "      <td>Assoc-voc</td>\n",
       "      <td>11</td>\n",
       "      <td>Divorced</td>\n",
       "      <td>Exec-managerial</td>\n",
       "      <td>Not-in-family</td>\n",
       "      <td>White</td>\n",
       "      <td>Female</td>\n",
       "      <td>0</td>\n",
       "      <td>0</td>\n",
       "      <td>36</td>\n",
       "      <td>United-States</td>\n",
       "    </tr>\n",
       "  </tbody>\n",
       "</table>\n",
       "</div>"
      ],
      "text/plain": [
       "       age   workclass  fnlwgt      education  education-num  marital-status  \\\n",
       "505     24     Private  388093      Bachelors             13   Never-married   \n",
       "28501   52     Private  125932        7th-8th              4         Widowed   \n",
       "22819   32   Local-gov  191731   Some-college             10   Never-married   \n",
       "31955   46   Local-gov  267952      Assoc-voc             11        Divorced   \n",
       "\n",
       "             occupation    relationship    race      sex  capital-gain  \\\n",
       "505     Exec-managerial   Not-in-family   Black     Male             0   \n",
       "28501     Other-service   Not-in-family   White   Female             0   \n",
       "22819      Adm-clerical       Unmarried   Black   Female             0   \n",
       "31955   Exec-managerial   Not-in-family   White   Female             0   \n",
       "\n",
       "       capital-loss  hours-per-week  native-country  \n",
       "505               0              40   United-States  \n",
       "28501             0              40   United-States  \n",
       "22819             0              40   United-States  \n",
       "31955             0              36   United-States  "
      ]
     },
     "metadata": {},
     "output_type": "display_data"
    }
   ],
   "source": [
    "display(adult_train_data.sample(4))\n",
    "display(adult_test_data.sample(4))"
   ]
  },
  {
   "cell_type": "code",
   "execution_count": 13,
   "metadata": {},
   "outputs": [
    {
     "name": "stdout",
     "output_type": "stream",
     "text": [
      "workclass 1411\n",
      "education 0\n",
      "marital-status 0\n",
      "occupation 1417\n",
      "relationship 0\n",
      "race 0\n",
      "sex 0\n",
      "native-country 443\n"
     ]
    }
   ],
   "source": [
    "for col in adult_train_data.columns:\n",
    "    if adult_train_data[col].dtype == object:\n",
    "        print(col, adult_train_data[col].str.contains(' \\?').sum())\n"
   ]
  },
  {
   "cell_type": "code",
   "execution_count": 14,
   "metadata": {},
   "outputs": [
    {
     "name": "stdout",
     "output_type": "stream",
     "text": [
      "workclass 425\n",
      "education 0\n",
      "marital-status 0\n",
      "occupation 426\n",
      "relationship 0\n",
      "race 0\n",
      "sex 0\n",
      "native-country 140\n"
     ]
    }
   ],
   "source": [
    "for col in adult_test_data.columns:\n",
    "    if adult_test_data[col].dtype == object:\n",
    "        print(col, adult_test_data[col].str.contains(' \\?').sum())\n"
   ]
  },
  {
   "cell_type": "code",
   "execution_count": 15,
   "metadata": {},
   "outputs": [],
   "source": [
    "columns_with_na_vals = ['workclass', 'occupation', 'native-country']"
   ]
  },
  {
   "cell_type": "code",
   "execution_count": 16,
   "metadata": {},
   "outputs": [],
   "source": [
    "for col in columns_with_na_vals:\n",
    "    adult_train_data[col] = (adult_train_data[col]\n",
    "                             .replace(to_replace=' ?', value=np.nan))\n",
    "    adult_test_data[col] = (adult_test_data[col]\n",
    "                            .replace(to_replace=' ?', value=np.nan))"
   ]
  },
  {
   "cell_type": "code",
   "execution_count": 17,
   "metadata": {},
   "outputs": [
    {
     "name": "stdout",
     "output_type": "stream",
     "text": [
      "workclass 0\n",
      "education 0\n",
      "marital-status 0\n",
      "occupation 0\n",
      "relationship 0\n",
      "race 0\n",
      "sex 0\n",
      "native-country 0\n"
     ]
    }
   ],
   "source": [
    "for col in adult_train_data.columns:\n",
    "    if adult_train_data[col].dtype == object:\n",
    "        print(col, adult_train_data[col].str.contains(' \\?').sum())\n"
   ]
  },
  {
   "cell_type": "code",
   "execution_count": 18,
   "metadata": {},
   "outputs": [
    {
     "name": "stdout",
     "output_type": "stream",
     "text": [
      "workclass 0\n",
      "education 0\n",
      "marital-status 0\n",
      "occupation 0\n",
      "relationship 0\n",
      "race 0\n",
      "sex 0\n",
      "native-country 0\n"
     ]
    }
   ],
   "source": [
    "for col in adult_test_data.columns:\n",
    "    if adult_test_data[col].dtype == object:\n",
    "        print(col, adult_test_data[col].str.contains(' \\?').sum())\n"
   ]
  },
  {
   "cell_type": "code",
   "execution_count": 19,
   "metadata": {},
   "outputs": [
    {
     "name": "stdout",
     "output_type": "stream",
     "text": [
      "workclass 1411\n",
      "education 0\n",
      "marital-status 0\n",
      "occupation 1417\n",
      "relationship 0\n",
      "race 0\n",
      "sex 0\n",
      "native-country 443\n"
     ]
    }
   ],
   "source": [
    "for col in adult_train_data.columns:\n",
    "    if adult_train_data[col].dtype == object:\n",
    "        print(col, sum(adult_train_data[col].isnull()))\n"
   ]
  },
  {
   "cell_type": "code",
   "execution_count": 20,
   "metadata": {},
   "outputs": [
    {
     "name": "stdout",
     "output_type": "stream",
     "text": [
      "workclass 425\n",
      "education 0\n",
      "marital-status 0\n",
      "occupation 426\n",
      "relationship 0\n",
      "race 0\n",
      "sex 0\n",
      "native-country 140\n"
     ]
    }
   ],
   "source": [
    "for col in adult_test_data.columns:\n",
    "    if adult_test_data[col].dtype == object:\n",
    "        print(col, sum(adult_test_data[col].isnull()))\n"
   ]
  },
  {
   "cell_type": "code",
   "execution_count": 21,
   "metadata": {},
   "outputs": [],
   "source": [
    "workclass_null_indices = set(adult_train_data[adult_train_data['workclass'].isnull()].index)\n",
    "occupation_null_indices = set(adult_train_data[adult_train_data['occupation'].isnull()].index)\n",
    "native_country_null_indices = set(adult_train_data[adult_train_data['native-country'].isnull()].index)"
   ]
  },
  {
   "cell_type": "code",
   "execution_count": 22,
   "metadata": {},
   "outputs": [
    {
     "data": {
      "text/plain": [
       "0.07339156794703043"
      ]
     },
     "execution_count": 22,
     "metadata": {},
     "output_type": "execute_result"
    }
   ],
   "source": [
    "len(workclass_null_indices | occupation_null_indices | native_country_null_indices)/len(adult_train_data)"
   ]
  },
  {
   "cell_type": "code",
   "execution_count": 23,
   "metadata": {},
   "outputs": [],
   "source": [
    "actual_types = ['continuous','categorical','continuous','categorical','continuous','categorical','categorical','categorical','categorical','categorical','continuous','continuous','continuous','categorical']"
   ]
  },
  {
   "cell_type": "code",
   "execution_count": 24,
   "metadata": {},
   "outputs": [],
   "source": [
    "actual_types = pd.Series(actual_types, index=adult_train_data.dtypes.index)\n"
   ]
  },
  {
   "cell_type": "code",
   "execution_count": 25,
   "metadata": {},
   "outputs": [
    {
     "data": {
      "text/html": [
       "<div>\n",
       "<table border=\"1\" class=\"dataframe\">\n",
       "  <thead>\n",
       "    <tr style=\"text-align: right;\">\n",
       "      <th></th>\n",
       "      <th>train_set</th>\n",
       "      <th>test_set</th>\n",
       "      <th>actual_types</th>\n",
       "    </tr>\n",
       "  </thead>\n",
       "  <tbody>\n",
       "    <tr>\n",
       "      <th>age</th>\n",
       "      <td>int64</td>\n",
       "      <td>int64</td>\n",
       "      <td>continuous</td>\n",
       "    </tr>\n",
       "    <tr>\n",
       "      <th>workclass</th>\n",
       "      <td>object</td>\n",
       "      <td>object</td>\n",
       "      <td>categorical</td>\n",
       "    </tr>\n",
       "    <tr>\n",
       "      <th>fnlwgt</th>\n",
       "      <td>int64</td>\n",
       "      <td>int64</td>\n",
       "      <td>continuous</td>\n",
       "    </tr>\n",
       "    <tr>\n",
       "      <th>education</th>\n",
       "      <td>object</td>\n",
       "      <td>object</td>\n",
       "      <td>categorical</td>\n",
       "    </tr>\n",
       "    <tr>\n",
       "      <th>education-num</th>\n",
       "      <td>int64</td>\n",
       "      <td>int64</td>\n",
       "      <td>continuous</td>\n",
       "    </tr>\n",
       "    <tr>\n",
       "      <th>marital-status</th>\n",
       "      <td>object</td>\n",
       "      <td>object</td>\n",
       "      <td>categorical</td>\n",
       "    </tr>\n",
       "    <tr>\n",
       "      <th>occupation</th>\n",
       "      <td>object</td>\n",
       "      <td>object</td>\n",
       "      <td>categorical</td>\n",
       "    </tr>\n",
       "    <tr>\n",
       "      <th>relationship</th>\n",
       "      <td>object</td>\n",
       "      <td>object</td>\n",
       "      <td>categorical</td>\n",
       "    </tr>\n",
       "    <tr>\n",
       "      <th>race</th>\n",
       "      <td>object</td>\n",
       "      <td>object</td>\n",
       "      <td>categorical</td>\n",
       "    </tr>\n",
       "    <tr>\n",
       "      <th>sex</th>\n",
       "      <td>object</td>\n",
       "      <td>object</td>\n",
       "      <td>categorical</td>\n",
       "    </tr>\n",
       "    <tr>\n",
       "      <th>capital-gain</th>\n",
       "      <td>int64</td>\n",
       "      <td>int64</td>\n",
       "      <td>continuous</td>\n",
       "    </tr>\n",
       "    <tr>\n",
       "      <th>capital-loss</th>\n",
       "      <td>int64</td>\n",
       "      <td>int64</td>\n",
       "      <td>continuous</td>\n",
       "    </tr>\n",
       "    <tr>\n",
       "      <th>hours-per-week</th>\n",
       "      <td>int64</td>\n",
       "      <td>int64</td>\n",
       "      <td>continuous</td>\n",
       "    </tr>\n",
       "    <tr>\n",
       "      <th>native-country</th>\n",
       "      <td>object</td>\n",
       "      <td>object</td>\n",
       "      <td>categorical</td>\n",
       "    </tr>\n",
       "  </tbody>\n",
       "</table>\n",
       "</div>"
      ],
      "text/plain": [
       "               train_set test_set actual_types\n",
       "age                int64    int64   continuous\n",
       "workclass         object   object  categorical\n",
       "fnlwgt             int64    int64   continuous\n",
       "education         object   object  categorical\n",
       "education-num      int64    int64   continuous\n",
       "marital-status    object   object  categorical\n",
       "occupation        object   object  categorical\n",
       "relationship      object   object  categorical\n",
       "race              object   object  categorical\n",
       "sex               object   object  categorical\n",
       "capital-gain       int64    int64   continuous\n",
       "capital-loss       int64    int64   continuous\n",
       "hours-per-week     int64    int64   continuous\n",
       "native-country    object   object  categorical"
      ]
     },
     "execution_count": 25,
     "metadata": {},
     "output_type": "execute_result"
    }
   ],
   "source": [
    "pd.DataFrame([adult_train_data.dtypes, adult_test_data.dtypes, actual_types], \n",
    "             index=['train_set','test_set', 'actual_types']).T\n"
   ]
  },
  {
   "cell_type": "code",
   "execution_count": 26,
   "metadata": {},
   "outputs": [
    {
     "data": {
      "text/plain": [
       "(['age',\n",
       "  'fnlwgt',\n",
       "  'education-num',\n",
       "  'capital-gain',\n",
       "  'capital-loss',\n",
       "  'hours-per-week'],\n",
       " ['workclass',\n",
       "  'education',\n",
       "  'marital-status',\n",
       "  'occupation',\n",
       "  'relationship',\n",
       "  'race',\n",
       "  'sex',\n",
       "  'native-country'])"
      ]
     },
     "execution_count": 26,
     "metadata": {},
     "output_type": "execute_result"
    }
   ],
   "source": [
    "adult_dtypes = adult_train_data.dtypes\n",
    "adult_numeric_features = list(adult_dtypes[adult_dtypes==int].index)\n",
    "adult_categorical_features = list(adult_dtypes[adult_dtypes == 'object'].index)\n",
    "adult_numeric_features, adult_categorical_features"
   ]
  },
  {
   "cell_type": "code",
   "execution_count": 60,
   "metadata": {},
   "outputs": [
    {
     "data": {
      "text/html": [
       "<div>\n",
       "<table border=\"1\" class=\"dataframe\">\n",
       "  <thead>\n",
       "    <tr style=\"text-align: right;\">\n",
       "      <th></th>\n",
       "      <th>mean</th>\n",
       "      <th>std</th>\n",
       "      <th>min</th>\n",
       "      <th>max</th>\n",
       "      <th>skew</th>\n",
       "    </tr>\n",
       "  </thead>\n",
       "  <tbody>\n",
       "    <tr>\n",
       "      <th>age</th>\n",
       "      <td>38.569702</td>\n",
       "      <td>13.617063</td>\n",
       "      <td>17.0</td>\n",
       "      <td>90.0</td>\n",
       "      <td>0.560017</td>\n",
       "    </tr>\n",
       "    <tr>\n",
       "      <th>fnlwgt</th>\n",
       "      <td>190222.131507</td>\n",
       "      <td>105715.813304</td>\n",
       "      <td>13769.0</td>\n",
       "      <td>1484705.0</td>\n",
       "      <td>1.471826</td>\n",
       "    </tr>\n",
       "    <tr>\n",
       "      <th>education-num</th>\n",
       "      <td>10.078138</td>\n",
       "      <td>2.586963</td>\n",
       "      <td>1.0</td>\n",
       "      <td>16.0</td>\n",
       "      <td>-0.328824</td>\n",
       "    </tr>\n",
       "    <tr>\n",
       "      <th>capital-gain</th>\n",
       "      <td>1038.676878</td>\n",
       "      <td>7131.690393</td>\n",
       "      <td>0.0</td>\n",
       "      <td>99999.0</td>\n",
       "      <td>12.288018</td>\n",
       "    </tr>\n",
       "    <tr>\n",
       "      <th>capital-loss</th>\n",
       "      <td>87.143672</td>\n",
       "      <td>403.316592</td>\n",
       "      <td>0.0</td>\n",
       "      <td>4356.0</td>\n",
       "      <td>4.628847</td>\n",
       "    </tr>\n",
       "    <tr>\n",
       "      <th>hours-per-week</th>\n",
       "      <td>40.468629</td>\n",
       "      <td>12.397220</td>\n",
       "      <td>1.0</td>\n",
       "      <td>99.0</td>\n",
       "      <td>0.253956</td>\n",
       "    </tr>\n",
       "  </tbody>\n",
       "</table>\n",
       "</div>"
      ],
      "text/plain": [
       "                         mean            std      min        max       skew\n",
       "age                 38.569702      13.617063     17.0       90.0   0.560017\n",
       "fnlwgt          190222.131507  105715.813304  13769.0  1484705.0   1.471826\n",
       "education-num       10.078138       2.586963      1.0       16.0  -0.328824\n",
       "capital-gain      1038.676878    7131.690393      0.0    99999.0  12.288018\n",
       "capital-loss        87.143672     403.316592      0.0     4356.0   4.628847\n",
       "hours-per-week      40.468629      12.397220      1.0       99.0   0.253956"
      ]
     },
     "execution_count": 60,
     "metadata": {},
     "output_type": "execute_result"
    }
   ],
   "source": [
    "skew_values = list()\n",
    "adult_train_stats = adult_train_data.describe().T\n",
    "for num_col in adult_train_stats.index:\n",
    "    num_col_skew = stats.skew(adult_train_data[num_col])\n",
    "    skew_values.append(num_col_skew)\n",
    "adult_train_stats['skew'] = skew_values\n",
    "adult_train_stats.drop(['count','25%','50%','75%'],axis=1)"
   ]
  },
  {
   "cell_type": "code",
   "execution_count": 63,
   "metadata": {},
   "outputs": [],
   "source": [
    "some_series = pd.Series ((1,2,3,4,5))"
   ]
  },
  {
   "cell_type": "code",
   "execution_count": 64,
   "metadata": {},
   "outputs": [],
   "source": [
    "mask = [True, False, False, True, True]"
   ]
  },
  {
   "cell_type": "code",
   "execution_count": 65,
   "metadata": {},
   "outputs": [
    {
     "data": {
      "text/plain": [
       "2    3\n",
       "3    4\n",
       "4    5\n",
       "dtype: int64"
      ]
     },
     "execution_count": 65,
     "metadata": {},
     "output_type": "execute_result"
    }
   ],
   "source": [
    "some_series[some_series >2]"
   ]
  },
  {
   "cell_type": "code",
   "execution_count": 28,
   "metadata": {},
   "outputs": [],
   "source": [
    "def distplot_by_label(feature, target):\n",
    "    labels = target.unique()\n",
    "    for label in labels:\n",
    "        sns.distplot(feature[target==label])\n",
    "        \n",
    "        \n",
    "def ANOVA_by_feature(feature, target):  \n",
    "    labels = target.unique()\n",
    "    feature_by_label = [\n",
    "        feature[target==label] for label in labels\n",
    "    ]\n",
    "    return stats.f_oneway(*feature_by_label)"
   ]
  },
  {
   "cell_type": "code",
   "execution_count": 66,
   "metadata": {},
   "outputs": [
    {
     "name": "stdout",
     "output_type": "stream",
     "text": [
      "age                  ANOVA p-value: 1.012701675536142e-306\n",
      "fnlwgt               ANOVA p-value: 0.03714412547728627\n",
      "education-num        ANOVA p-value: 0.0\n",
      "capital-gain         ANOVA p-value: 1.3818869255784053e-276\n",
      "capital-loss         ANOVA p-value: 4.6265874906929785e-121\n",
      "hours-per-week       ANOVA p-value: 2.452757077476283e-292\n"
     ]
    },
    {
     "data": {
      "image/png": "[encoded data removed]",
      "text/plain": [
       "<matplotlib.figure.Figure at 0x7f97f8c3fc18>"
      ]
     },
     "metadata": {},
     "output_type": "display_data"
    }
   ],
   "source": [
    "fig = plt.figure(figsize=(20,6))\n",
    "n = len(adult_numeric_features)\n",
    "for i, feature in enumerate(adult_numeric_features):\n",
    "    fig.add_subplot(1, n, i+1)\n",
    "    distplot_by_label(adult_train_data[feature], adult_train_labels)\n",
    "    print(\"{:20} ANOVA p-value: {}\".format(feature, ANOVA_by_feature(adult_train_data[feature], adult_train_labels).pvalue))\n",
    "    \n",
    "    # From the p-value, we can tell the \"age\" is extremely important for the prediction. \n",
    "    # Capital gain, capital loss, hours-per-week are also important."
   ]
  },
  {
   "cell_type": "code",
   "execution_count": 30,
   "metadata": {},
   "outputs": [
    {
     "data": {
      "text/html": [
       "<div>\n",
       "<table border=\"1\" class=\"dataframe\">\n",
       "  <thead>\n",
       "    <tr style=\"text-align: right;\">\n",
       "      <th></th>\n",
       "      <th>&lt;=$50k</th>\n",
       "      <th>&gt;$50K</th>\n",
       "    </tr>\n",
       "    <tr>\n",
       "      <th>workclass</th>\n",
       "      <th></th>\n",
       "      <th></th>\n",
       "    </tr>\n",
       "  </thead>\n",
       "  <tbody>\n",
       "    <tr>\n",
       "      <th>Federal-gov</th>\n",
       "      <td>459</td>\n",
       "      <td>286</td>\n",
       "    </tr>\n",
       "    <tr>\n",
       "      <th>Local-gov</th>\n",
       "      <td>1158</td>\n",
       "      <td>475</td>\n",
       "    </tr>\n",
       "    <tr>\n",
       "      <th>Never-worked</th>\n",
       "      <td>6</td>\n",
       "      <td>0</td>\n",
       "    </tr>\n",
       "    <tr>\n",
       "      <th>Private</th>\n",
       "      <td>13620</td>\n",
       "      <td>3800</td>\n",
       "    </tr>\n",
       "    <tr>\n",
       "      <th>Self-emp-inc</th>\n",
       "      <td>381</td>\n",
       "      <td>488</td>\n",
       "    </tr>\n",
       "    <tr>\n",
       "      <th>Self-emp-not-inc</th>\n",
       "      <td>1392</td>\n",
       "      <td>561</td>\n",
       "    </tr>\n",
       "    <tr>\n",
       "      <th>State-gov</th>\n",
       "      <td>741</td>\n",
       "      <td>280</td>\n",
       "    </tr>\n",
       "    <tr>\n",
       "      <th>Without-pay</th>\n",
       "      <td>13</td>\n",
       "      <td>0</td>\n",
       "    </tr>\n",
       "  </tbody>\n",
       "</table>\n",
       "</div>"
      ],
      "text/plain": [
       "                   <=$50k  >$50K\n",
       "workclass                       \n",
       " Federal-gov          459    286\n",
       " Local-gov           1158    475\n",
       " Never-worked           6      0\n",
       " Private            13620   3800\n",
       " Self-emp-inc         381    488\n",
       " Self-emp-not-inc    1392    561\n",
       " State-gov            741    280\n",
       " Without-pay           13      0"
      ]
     },
     "execution_count": 30,
     "metadata": {},
     "output_type": "execute_result"
    }
   ],
   "source": [
    "adult_train_with_label = adult_train_data.copy()\n",
    "adult_train_with_label['label'] = adult_train_labels\n",
    "ct = pd.crosstab(index = adult_train_with_label['workclass'], columns=adult_train_with_label['label'])\n",
    "ct.columns = ['<=$50k','>$50K']\n",
    "ct"
   ]
  },
  {
   "cell_type": "code",
   "execution_count": 31,
   "metadata": {},
   "outputs": [
    {
     "data": {
      "text/plain": [
       "<matplotlib.axes._subplots.AxesSubplot at 0x7f97f9fdb2b0>"
      ]
     },
     "execution_count": 31,
     "metadata": {},
     "output_type": "execute_result"
    },
    {
     "data": {
      "image/png": "[encoded data removed]",
      "text/plain": [
       "<matplotlib.figure.Figure at 0x7f97f9fdb390>"
      ]
     },
     "metadata": {},
     "output_type": "display_data"
    }
   ],
   "source": [
    "fig = plt.figure(figsize=(20,6))\n",
    "sns.countplot('workclass', hue='label', data=adult_train_with_label)\n",
    "# distribution of target data, label 0 = less than 50k, lable 1 = more than 50k"
   ]
  },
  {
   "cell_type": "code",
   "execution_count": 32,
   "metadata": {},
   "outputs": [
    {
     "data": {
      "text/plain": [
       "<matplotlib.axes._subplots.AxesSubplot at 0x7f97f9151860>"
      ]
     },
     "execution_count": 32,
     "metadata": {},
     "output_type": "execute_result"
    },
    {
     "data": {
      "image/png": "[encoded data removed]",
      "text/plain": [
       "<matplotlib.figure.Figure at 0x7f97f9778400>"
      ]
     },
     "metadata": {},
     "output_type": "display_data"
    }
   ],
   "source": [
    "fig = plt.figure(figsize=(20,6))\n",
    "sns.countplot('education', hue='label', data=adult_train_with_label)"
   ]
  },
  {
   "cell_type": "code",
   "execution_count": 33,
   "metadata": {},
   "outputs": [],
   "source": [
    "adult_train_data.to_pickle('data/adult_train_data.p')\n",
    "adult_test_data.to_pickle('data/adult_test_data.p')\n",
    "adult_train_labels.to_pickle('data/adult_train_labels.p')\n",
    "adult_test_labels.to_pickle('data/adult_test_labels.p')"
   ]
  }
 ],
 "metadata": {
  "kernelspec": {
   "display_name": "Python 3",
   "language": "python",
   "name": "python3"
  },
  "language_info": {
   "codemirror_mode": {
    "name": "ipython",
    "version": 3
   },
   "file_extension": ".py",
   "mimetype": "text/x-python",
   "name": "python",
   "nbconvert_exporter": "python",
   "pygments_lexer": "ipython3",
   "version": "3.6.3"
  }
 },
 "nbformat": 4,
 "nbformat_minor": 2
}
